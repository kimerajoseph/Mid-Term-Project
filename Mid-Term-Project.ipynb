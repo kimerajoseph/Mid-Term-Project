{
 "cells": [
  {
   "cell_type": "code",
   "execution_count": 1,
   "id": "c544d1e6",
   "metadata": {},
   "outputs": [],
   "source": [
    "import pandas as pd\n",
    "import numpy as np"
   ]
  },
  {
   "cell_type": "code",
   "execution_count": 2,
   "id": "0f941777",
   "metadata": {},
   "outputs": [
    {
     "data": {
      "text/html": [
       "<div>\n",
       "<style scoped>\n",
       "    .dataframe tbody tr th:only-of-type {\n",
       "        vertical-align: middle;\n",
       "    }\n",
       "\n",
       "    .dataframe tbody tr th {\n",
       "        vertical-align: top;\n",
       "    }\n",
       "\n",
       "    .dataframe thead th {\n",
       "        text-align: right;\n",
       "    }\n",
       "</style>\n",
       "<table border=\"1\" class=\"dataframe\">\n",
       "  <thead>\n",
       "    <tr style=\"text-align: right;\">\n",
       "      <th></th>\n",
       "      <th>Administrative</th>\n",
       "      <th>Administrative_Duration</th>\n",
       "      <th>Informational</th>\n",
       "      <th>Informational_Duration</th>\n",
       "      <th>ProductRelated</th>\n",
       "      <th>ProductRelated_Duration</th>\n",
       "      <th>BounceRates</th>\n",
       "      <th>ExitRates</th>\n",
       "      <th>PageValues</th>\n",
       "      <th>SpecialDay</th>\n",
       "      <th>Month</th>\n",
       "      <th>OperatingSystems</th>\n",
       "      <th>Browser</th>\n",
       "      <th>Region</th>\n",
       "      <th>TrafficType</th>\n",
       "      <th>VisitorType</th>\n",
       "      <th>Weekend</th>\n",
       "      <th>Revenue</th>\n",
       "    </tr>\n",
       "  </thead>\n",
       "  <tbody>\n",
       "    <tr>\n",
       "      <th>0</th>\n",
       "      <td>0</td>\n",
       "      <td>0.0</td>\n",
       "      <td>0</td>\n",
       "      <td>0.0</td>\n",
       "      <td>1</td>\n",
       "      <td>0.000000</td>\n",
       "      <td>0.20</td>\n",
       "      <td>0.20</td>\n",
       "      <td>0.0</td>\n",
       "      <td>0.0</td>\n",
       "      <td>Feb</td>\n",
       "      <td>1</td>\n",
       "      <td>1</td>\n",
       "      <td>1</td>\n",
       "      <td>1</td>\n",
       "      <td>Returning_Visitor</td>\n",
       "      <td>False</td>\n",
       "      <td>False</td>\n",
       "    </tr>\n",
       "    <tr>\n",
       "      <th>1</th>\n",
       "      <td>0</td>\n",
       "      <td>0.0</td>\n",
       "      <td>0</td>\n",
       "      <td>0.0</td>\n",
       "      <td>2</td>\n",
       "      <td>64.000000</td>\n",
       "      <td>0.00</td>\n",
       "      <td>0.10</td>\n",
       "      <td>0.0</td>\n",
       "      <td>0.0</td>\n",
       "      <td>Feb</td>\n",
       "      <td>2</td>\n",
       "      <td>2</td>\n",
       "      <td>1</td>\n",
       "      <td>2</td>\n",
       "      <td>Returning_Visitor</td>\n",
       "      <td>False</td>\n",
       "      <td>False</td>\n",
       "    </tr>\n",
       "    <tr>\n",
       "      <th>2</th>\n",
       "      <td>0</td>\n",
       "      <td>0.0</td>\n",
       "      <td>0</td>\n",
       "      <td>0.0</td>\n",
       "      <td>1</td>\n",
       "      <td>0.000000</td>\n",
       "      <td>0.20</td>\n",
       "      <td>0.20</td>\n",
       "      <td>0.0</td>\n",
       "      <td>0.0</td>\n",
       "      <td>Feb</td>\n",
       "      <td>4</td>\n",
       "      <td>1</td>\n",
       "      <td>9</td>\n",
       "      <td>3</td>\n",
       "      <td>Returning_Visitor</td>\n",
       "      <td>False</td>\n",
       "      <td>False</td>\n",
       "    </tr>\n",
       "    <tr>\n",
       "      <th>3</th>\n",
       "      <td>0</td>\n",
       "      <td>0.0</td>\n",
       "      <td>0</td>\n",
       "      <td>0.0</td>\n",
       "      <td>2</td>\n",
       "      <td>2.666667</td>\n",
       "      <td>0.05</td>\n",
       "      <td>0.14</td>\n",
       "      <td>0.0</td>\n",
       "      <td>0.0</td>\n",
       "      <td>Feb</td>\n",
       "      <td>3</td>\n",
       "      <td>2</td>\n",
       "      <td>2</td>\n",
       "      <td>4</td>\n",
       "      <td>Returning_Visitor</td>\n",
       "      <td>False</td>\n",
       "      <td>False</td>\n",
       "    </tr>\n",
       "    <tr>\n",
       "      <th>4</th>\n",
       "      <td>0</td>\n",
       "      <td>0.0</td>\n",
       "      <td>0</td>\n",
       "      <td>0.0</td>\n",
       "      <td>10</td>\n",
       "      <td>627.500000</td>\n",
       "      <td>0.02</td>\n",
       "      <td>0.05</td>\n",
       "      <td>0.0</td>\n",
       "      <td>0.0</td>\n",
       "      <td>Feb</td>\n",
       "      <td>3</td>\n",
       "      <td>3</td>\n",
       "      <td>1</td>\n",
       "      <td>4</td>\n",
       "      <td>Returning_Visitor</td>\n",
       "      <td>True</td>\n",
       "      <td>False</td>\n",
       "    </tr>\n",
       "  </tbody>\n",
       "</table>\n",
       "</div>"
      ],
      "text/plain": [
       "   Administrative  Administrative_Duration  Informational  \\\n",
       "0               0                      0.0              0   \n",
       "1               0                      0.0              0   \n",
       "2               0                      0.0              0   \n",
       "3               0                      0.0              0   \n",
       "4               0                      0.0              0   \n",
       "\n",
       "   Informational_Duration  ProductRelated  ProductRelated_Duration  \\\n",
       "0                     0.0               1                 0.000000   \n",
       "1                     0.0               2                64.000000   \n",
       "2                     0.0               1                 0.000000   \n",
       "3                     0.0               2                 2.666667   \n",
       "4                     0.0              10               627.500000   \n",
       "\n",
       "   BounceRates  ExitRates  PageValues  SpecialDay Month  OperatingSystems  \\\n",
       "0         0.20       0.20         0.0         0.0   Feb                 1   \n",
       "1         0.00       0.10         0.0         0.0   Feb                 2   \n",
       "2         0.20       0.20         0.0         0.0   Feb                 4   \n",
       "3         0.05       0.14         0.0         0.0   Feb                 3   \n",
       "4         0.02       0.05         0.0         0.0   Feb                 3   \n",
       "\n",
       "   Browser  Region  TrafficType        VisitorType  Weekend  Revenue  \n",
       "0        1       1            1  Returning_Visitor    False    False  \n",
       "1        2       1            2  Returning_Visitor    False    False  \n",
       "2        1       9            3  Returning_Visitor    False    False  \n",
       "3        2       2            4  Returning_Visitor    False    False  \n",
       "4        3       1            4  Returning_Visitor     True    False  "
      ]
     },
     "execution_count": 2,
     "metadata": {},
     "output_type": "execute_result"
    }
   ],
   "source": [
    "data = pd.read_csv('online_shoppers_intention.csv')\n",
    "data.head()"
   ]
  },
  {
   "cell_type": "code",
   "execution_count": 3,
   "id": "8d06fb10",
   "metadata": {},
   "outputs": [
    {
     "data": {
      "text/plain": [
       "(12330, 18)"
      ]
     },
     "execution_count": 3,
     "metadata": {},
     "output_type": "execute_result"
    }
   ],
   "source": [
    "data.shape"
   ]
  },
  {
   "cell_type": "code",
   "execution_count": 34,
   "id": "6499caf1",
   "metadata": {},
   "outputs": [
    {
     "data": {
      "text/plain": [
       "administrative             0\n",
       "administrative_duration    0\n",
       "informational              0\n",
       "informational_duration     0\n",
       "productrelated             0\n",
       "productrelated_duration    0\n",
       "bouncerates                0\n",
       "exitrates                  0\n",
       "pagevalues                 0\n",
       "specialday                 0\n",
       "month                      0\n",
       "operatingsystems           0\n",
       "browser                    0\n",
       "region                     0\n",
       "traffictype                0\n",
       "visitortype                0\n",
       "weekend                    0\n",
       "revenue                    0\n",
       "dtype: int64"
      ]
     },
     "execution_count": 34,
     "metadata": {},
     "output_type": "execute_result"
    }
   ],
   "source": [
    "# Checking for NaN Values\n",
    "data.isna().sum()"
   ]
  },
  {
   "cell_type": "code",
   "execution_count": 4,
   "id": "c6459f61",
   "metadata": {},
   "outputs": [
    {
     "name": "stdout",
     "output_type": "stream",
     "text": [
      "Index(['administrative', 'administrative_duration', 'informational',\n",
      "       'informational_duration', 'productrelated', 'productrelated_duration',\n",
      "       'bouncerates', 'exitrates', 'pagevalues', 'specialday', 'month',\n",
      "       'operatingsystems', 'browser', 'region', 'traffictype', 'visitortype',\n",
      "       'weekend', 'revenue'],\n",
      "      dtype='object')\n"
     ]
    }
   ],
   "source": [
    "col_l = []\n",
    "for col in data.columns:\n",
    "    col = col.replace(' ','_')\n",
    "    col_l.append(col.lower())\n",
    "data.columns = col_l\n",
    "print(data.columns)"
   ]
  },
  {
   "cell_type": "code",
   "execution_count": 5,
   "id": "82f755bf",
   "metadata": {},
   "outputs": [
    {
     "data": {
      "text/plain": [
       "May     3364\n",
       "Nov     2998\n",
       "Mar     1907\n",
       "Dec     1727\n",
       "Oct      549\n",
       "Sep      448\n",
       "Aug      433\n",
       "Jul      432\n",
       "June     288\n",
       "Feb      184\n",
       "Name: month, dtype: int64"
      ]
     },
     "execution_count": 5,
     "metadata": {},
     "output_type": "execute_result"
    }
   ],
   "source": [
    "data['month'].value_counts()"
   ]
  },
  {
   "cell_type": "code",
   "execution_count": 6,
   "id": "8df45e61",
   "metadata": {},
   "outputs": [
    {
     "data": {
      "text/plain": [
       "False    10422\n",
       "True      1908\n",
       "Name: revenue, dtype: int64"
      ]
     },
     "execution_count": 6,
     "metadata": {},
     "output_type": "execute_result"
    }
   ],
   "source": [
    "data['revenue'].value_counts()"
   ]
  },
  {
   "cell_type": "code",
   "execution_count": 7,
   "id": "2de53642",
   "metadata": {},
   "outputs": [
    {
     "data": {
      "text/plain": [
       "(10422, 18)"
      ]
     },
     "execution_count": 7,
     "metadata": {},
     "output_type": "execute_result"
    }
   ],
   "source": [
    "# Data for customers that did not convert - did not buy items in the store\n",
    "data_false = data[data['revenue'] == False]\n",
    "data_false.shape"
   ]
  },
  {
   "cell_type": "code",
   "execution_count": 8,
   "id": "aed6bf0d",
   "metadata": {},
   "outputs": [
    {
     "data": {
      "text/plain": [
       "(1908, 18)"
      ]
     },
     "execution_count": 8,
     "metadata": {},
     "output_type": "execute_result"
    }
   ],
   "source": [
    "# Data for customers that converted - spent in the store\n",
    "data_true = data[data['revenue'] == True]\n",
    "data_true.shape"
   ]
  },
  {
   "cell_type": "code",
   "execution_count": 36,
   "id": "1bb0cc65",
   "metadata": {},
   "outputs": [
    {
     "name": "stdout",
     "output_type": "stream",
     "text": [
      "Percentage of visitors that bought items  0.15\n"
     ]
    }
   ],
   "source": [
    "# PERCENTAGE OF RETURNING VISITORS THAT CONVERTED - SPENT MONEY\n",
    "percent_buy = len(data_true)/len(data)\n",
    "print(\"Ratio of visitors that bought items \", round(percent_buy,2))"
   ]
  },
  {
   "cell_type": "code",
   "execution_count": 11,
   "id": "9609e57e",
   "metadata": {},
   "outputs": [
    {
     "data": {
      "text/plain": [
       "Returning_Visitor    1470\n",
       "New_Visitor           422\n",
       "Other                  16\n",
       "Name: visitortype, dtype: int64"
      ]
     },
     "execution_count": 11,
     "metadata": {},
     "output_type": "execute_result"
    }
   ],
   "source": [
    "# Use data where 'Revenue' is True\n",
    "data_true['visitortype'].value_counts()"
   ]
  },
  {
   "cell_type": "code",
   "execution_count": 12,
   "id": "9087bc8f",
   "metadata": {},
   "outputs": [],
   "source": [
    "# Export dataframe where 'revenue' is True for use in Tableau\n",
    "data_true.to_excel(\"E:\\\\SKUL\\\\PROGRAMMING_SKULS\\\\ironhack\\\\COURSE\\\\Mid-Term-Project\\\\Data\\\\Customer_with_revenue.xlsx\")"
   ]
  },
  {
   "cell_type": "code",
   "execution_count": 47,
   "id": "9a35dc9b",
   "metadata": {},
   "outputs": [
    {
     "data": {
      "text/plain": [
       "Nov     760\n",
       "May     365\n",
       "Dec     216\n",
       "Mar     192\n",
       "Oct     115\n",
       "Sep      86\n",
       "Aug      76\n",
       "Jul      66\n",
       "June     29\n",
       "Feb       3\n",
       "Name: month, dtype: int64"
      ]
     },
     "execution_count": 47,
     "metadata": {},
     "output_type": "execute_result"
    }
   ],
   "source": [
    "# Mothly Breakdown of customers that bought items \n",
    "data_true['month'].value_counts()"
   ]
  },
  {
   "cell_type": "code",
   "execution_count": 38,
   "id": "6d1cc6b5",
   "metadata": {},
   "outputs": [
    {
     "name": "stdout",
     "output_type": "stream",
     "text": [
      "Percentage of returning customers that buy items:  0.77\n"
     ]
    }
   ],
   "source": [
    "# Percentage of revenue from returning visitors\n",
    "perc_return_customer_revenue = len(data_true[data_true['visitortype'] == 'Returning_Visitor'])/len(data_true)\n",
    "print(\"Ratio of returning customers that buy items: \", round(perc_return_customer_revenue, 2))"
   ]
  },
  {
   "cell_type": "code",
   "execution_count": 39,
   "id": "7d039f40",
   "metadata": {},
   "outputs": [
    {
     "name": "stdout",
     "output_type": "stream",
     "text": [
      "Percentage of new customers that buy items:  0.22\n"
     ]
    }
   ],
   "source": [
    "# percentage of revenue from new visitors\n",
    "perc_revenue_new_customer = len(data_true[data_true['visitortype'] == 'New_Visitor'])/len(data_true)\n",
    "\n",
    "print(\"Ratio of new customers that buy items: \", round(perc_revenue_new_customer, 2))"
   ]
  },
  {
   "cell_type": "code",
   "execution_count": 40,
   "id": "e28bf2fe",
   "metadata": {},
   "outputs": [
    {
     "data": {
      "text/plain": [
       "0.87"
      ]
     },
     "execution_count": 40,
     "metadata": {},
     "output_type": "execute_result"
    }
   ],
   "source": [
    "# Percentage of returning visitors that didnot buy\n",
    "# We use the dataframe where 'revenue' is False\n",
    "no_revenue_return_customer = len(data_false[data_false['visitortype'] == 'Returning_Visitor'])/len(data_false)\n",
    "round(no_revenue_return_customer, 2)"
   ]
  },
  {
   "cell_type": "code",
   "execution_count": 30,
   "id": "5c0fbb4b",
   "metadata": {},
   "outputs": [
    {
     "name": "stdout",
     "output_type": "stream",
     "text": [
      "Returning Customers Percentage:  0.86\n"
     ]
    }
   ],
   "source": [
    "# This percentage could be that returning customers simply make up a huge chunk of our website visitors\n",
    "overall_return = len(data[data['visitortype'] == 'Returning_Visitor'])/len(data)\n",
    "print(\"Returning Customers Percentage: \", round(overall_return,2))"
   ]
  },
  {
   "cell_type": "code",
   "execution_count": 17,
   "id": "1a83ff13",
   "metadata": {},
   "outputs": [],
   "source": [
    "# from the above calculation, 85.5% of visitors are returning customers"
   ]
  },
  {
   "cell_type": "code",
   "execution_count": 28,
   "id": "052105e1",
   "metadata": {},
   "outputs": [
    {
     "name": "stdout",
     "output_type": "stream",
     "text": [
      "New Customers Percentage:  0.14\n"
     ]
    }
   ],
   "source": [
    "# New customers\n",
    "overall_new = len(data[data['visitortype'] == 'New_Visitor'])/len(data)\n",
    "print(\"New Customers Percentage: \", round(overall_new,2))"
   ]
  },
  {
   "cell_type": "code",
   "execution_count": 18,
   "id": "9b63e88f",
   "metadata": {},
   "outputs": [
    {
     "data": {
      "text/html": [
       "<div>\n",
       "<style scoped>\n",
       "    .dataframe tbody tr th:only-of-type {\n",
       "        vertical-align: middle;\n",
       "    }\n",
       "\n",
       "    .dataframe tbody tr th {\n",
       "        vertical-align: top;\n",
       "    }\n",
       "\n",
       "    .dataframe thead th {\n",
       "        text-align: right;\n",
       "    }\n",
       "</style>\n",
       "<table border=\"1\" class=\"dataframe\">\n",
       "  <thead>\n",
       "    <tr style=\"text-align: right;\">\n",
       "      <th></th>\n",
       "      <th>administrative</th>\n",
       "      <th>administrative_duration</th>\n",
       "      <th>informational</th>\n",
       "      <th>informational_duration</th>\n",
       "      <th>productrelated</th>\n",
       "      <th>productrelated_duration</th>\n",
       "      <th>bouncerates</th>\n",
       "      <th>exitrates</th>\n",
       "      <th>pagevalues</th>\n",
       "      <th>specialday</th>\n",
       "      <th>month</th>\n",
       "      <th>operatingsystems</th>\n",
       "      <th>browser</th>\n",
       "      <th>region</th>\n",
       "      <th>traffictype</th>\n",
       "      <th>visitortype</th>\n",
       "      <th>weekend</th>\n",
       "      <th>revenue</th>\n",
       "    </tr>\n",
       "  </thead>\n",
       "  <tbody>\n",
       "    <tr>\n",
       "      <th>20</th>\n",
       "      <td>0</td>\n",
       "      <td>0.0</td>\n",
       "      <td>0</td>\n",
       "      <td>0.0</td>\n",
       "      <td>8</td>\n",
       "      <td>136.166667</td>\n",
       "      <td>0.0</td>\n",
       "      <td>0.008333</td>\n",
       "      <td>0.000000</td>\n",
       "      <td>1.0</td>\n",
       "      <td>Feb</td>\n",
       "      <td>2</td>\n",
       "      <td>2</td>\n",
       "      <td>5</td>\n",
       "      <td>1</td>\n",
       "      <td>Returning_Visitor</td>\n",
       "      <td>True</td>\n",
       "      <td>False</td>\n",
       "    </tr>\n",
       "    <tr>\n",
       "      <th>52</th>\n",
       "      <td>0</td>\n",
       "      <td>0.0</td>\n",
       "      <td>0</td>\n",
       "      <td>0.0</td>\n",
       "      <td>2</td>\n",
       "      <td>29.000000</td>\n",
       "      <td>0.0</td>\n",
       "      <td>0.100000</td>\n",
       "      <td>0.000000</td>\n",
       "      <td>1.0</td>\n",
       "      <td>Feb</td>\n",
       "      <td>2</td>\n",
       "      <td>4</td>\n",
       "      <td>4</td>\n",
       "      <td>2</td>\n",
       "      <td>Returning_Visitor</td>\n",
       "      <td>True</td>\n",
       "      <td>False</td>\n",
       "    </tr>\n",
       "    <tr>\n",
       "      <th>78</th>\n",
       "      <td>0</td>\n",
       "      <td>0.0</td>\n",
       "      <td>0</td>\n",
       "      <td>0.0</td>\n",
       "      <td>1</td>\n",
       "      <td>0.000000</td>\n",
       "      <td>0.2</td>\n",
       "      <td>0.200000</td>\n",
       "      <td>0.000000</td>\n",
       "      <td>1.0</td>\n",
       "      <td>Feb</td>\n",
       "      <td>1</td>\n",
       "      <td>1</td>\n",
       "      <td>1</td>\n",
       "      <td>3</td>\n",
       "      <td>Returning_Visitor</td>\n",
       "      <td>True</td>\n",
       "      <td>False</td>\n",
       "    </tr>\n",
       "    <tr>\n",
       "      <th>101</th>\n",
       "      <td>4</td>\n",
       "      <td>61.0</td>\n",
       "      <td>0</td>\n",
       "      <td>0.0</td>\n",
       "      <td>19</td>\n",
       "      <td>607.000000</td>\n",
       "      <td>0.0</td>\n",
       "      <td>0.026984</td>\n",
       "      <td>17.535959</td>\n",
       "      <td>1.0</td>\n",
       "      <td>Feb</td>\n",
       "      <td>1</td>\n",
       "      <td>1</td>\n",
       "      <td>7</td>\n",
       "      <td>4</td>\n",
       "      <td>Returning_Visitor</td>\n",
       "      <td>True</td>\n",
       "      <td>True</td>\n",
       "    </tr>\n",
       "    <tr>\n",
       "      <th>174</th>\n",
       "      <td>5</td>\n",
       "      <td>41.3</td>\n",
       "      <td>0</td>\n",
       "      <td>0.0</td>\n",
       "      <td>24</td>\n",
       "      <td>446.927778</td>\n",
       "      <td>0.0</td>\n",
       "      <td>0.008602</td>\n",
       "      <td>0.000000</td>\n",
       "      <td>1.0</td>\n",
       "      <td>Feb</td>\n",
       "      <td>2</td>\n",
       "      <td>2</td>\n",
       "      <td>8</td>\n",
       "      <td>1</td>\n",
       "      <td>Returning_Visitor</td>\n",
       "      <td>True</td>\n",
       "      <td>False</td>\n",
       "    </tr>\n",
       "  </tbody>\n",
       "</table>\n",
       "</div>"
      ],
      "text/plain": [
       "     administrative  administrative_duration  informational  \\\n",
       "20                0                      0.0              0   \n",
       "52                0                      0.0              0   \n",
       "78                0                      0.0              0   \n",
       "101               4                     61.0              0   \n",
       "174               5                     41.3              0   \n",
       "\n",
       "     informational_duration  productrelated  productrelated_duration  \\\n",
       "20                      0.0               8               136.166667   \n",
       "52                      0.0               2                29.000000   \n",
       "78                      0.0               1                 0.000000   \n",
       "101                     0.0              19               607.000000   \n",
       "174                     0.0              24               446.927778   \n",
       "\n",
       "     bouncerates  exitrates  pagevalues  specialday month  operatingsystems  \\\n",
       "20           0.0   0.008333    0.000000         1.0   Feb                 2   \n",
       "52           0.0   0.100000    0.000000         1.0   Feb                 2   \n",
       "78           0.2   0.200000    0.000000         1.0   Feb                 1   \n",
       "101          0.0   0.026984   17.535959         1.0   Feb                 1   \n",
       "174          0.0   0.008602    0.000000         1.0   Feb                 2   \n",
       "\n",
       "     browser  region  traffictype        visitortype  weekend  revenue  \n",
       "20         2       5            1  Returning_Visitor     True    False  \n",
       "52         4       4            2  Returning_Visitor     True    False  \n",
       "78         1       1            3  Returning_Visitor     True    False  \n",
       "101        1       7            4  Returning_Visitor     True     True  \n",
       "174        2       8            1  Returning_Visitor     True    False  "
      ]
     },
     "execution_count": 18,
     "metadata": {},
     "output_type": "execute_result"
    }
   ],
   "source": [
    "# Revenue on special days\n",
    "special_days = data[data['specialday'] == 1]\n",
    "special_days.head()"
   ]
  },
  {
   "cell_type": "code",
   "execution_count": 44,
   "id": "d349e192",
   "metadata": {},
   "outputs": [
    {
     "name": "stdout",
     "output_type": "stream",
     "text": [
      "Percentage of visitors on special days:  0.01\n"
     ]
    }
   ],
   "source": [
    "percentage_of_special_day = len(special_days)/len(data)\n",
    "print(\"Ratio of visitors on special days: \",round(percentage_of_special_day,2) )"
   ]
  },
  {
   "cell_type": "code",
   "execution_count": 35,
   "id": "d824abd7",
   "metadata": {},
   "outputs": [
    {
     "name": "stdout",
     "output_type": "stream",
     "text": [
      "Percentage of revenue customers on special days:  0.06\n"
     ]
    }
   ],
   "source": [
    "special_revenue_perc = len(special_days[special_days['revenue'] == True])/len(special_days)\n",
    "print(\"Ratio of revenue customers on special days: \",round(special_revenue_perc,2))"
   ]
  },
  {
   "cell_type": "code",
   "execution_count": null,
   "id": "dc8cadf0",
   "metadata": {},
   "outputs": [],
   "source": [
    "# Only 6% of visitors on special day converted"
   ]
  }
 ],
 "metadata": {
  "kernelspec": {
   "display_name": "Python 3 (ipykernel)",
   "language": "python",
   "name": "python3"
  },
  "language_info": {
   "codemirror_mode": {
    "name": "ipython",
    "version": 3
   },
   "file_extension": ".py",
   "mimetype": "text/x-python",
   "name": "python",
   "nbconvert_exporter": "python",
   "pygments_lexer": "ipython3",
   "version": "3.8.11"
  }
 },
 "nbformat": 4,
 "nbformat_minor": 5
}
