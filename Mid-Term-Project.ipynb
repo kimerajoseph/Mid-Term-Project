{
 "cells": [
  {
   "cell_type": "code",
   "execution_count": 105,
   "id": "c544d1e6",
   "metadata": {},
   "outputs": [],
   "source": [
    "import pandas as pd\n",
    "import numpy as np\n",
    "import matplotlib.pyplot as plt"
   ]
  },
  {
   "cell_type": "code",
   "execution_count": 106,
   "id": "0f941777",
   "metadata": {},
   "outputs": [
    {
     "data": {
      "text/html": [
       "<div>\n",
       "<style scoped>\n",
       "    .dataframe tbody tr th:only-of-type {\n",
       "        vertical-align: middle;\n",
       "    }\n",
       "\n",
       "    .dataframe tbody tr th {\n",
       "        vertical-align: top;\n",
       "    }\n",
       "\n",
       "    .dataframe thead th {\n",
       "        text-align: right;\n",
       "    }\n",
       "</style>\n",
       "<table border=\"1\" class=\"dataframe\">\n",
       "  <thead>\n",
       "    <tr style=\"text-align: right;\">\n",
       "      <th></th>\n",
       "      <th>Administrative</th>\n",
       "      <th>Administrative_Duration</th>\n",
       "      <th>Informational</th>\n",
       "      <th>Informational_Duration</th>\n",
       "      <th>ProductRelated</th>\n",
       "      <th>ProductRelated_Duration</th>\n",
       "      <th>BounceRates</th>\n",
       "      <th>ExitRates</th>\n",
       "      <th>PageValues</th>\n",
       "      <th>SpecialDay</th>\n",
       "      <th>Month</th>\n",
       "      <th>OperatingSystems</th>\n",
       "      <th>Browser</th>\n",
       "      <th>Region</th>\n",
       "      <th>TrafficType</th>\n",
       "      <th>VisitorType</th>\n",
       "      <th>Weekend</th>\n",
       "      <th>Revenue</th>\n",
       "    </tr>\n",
       "  </thead>\n",
       "  <tbody>\n",
       "    <tr>\n",
       "      <th>0</th>\n",
       "      <td>0</td>\n",
       "      <td>0.0</td>\n",
       "      <td>0</td>\n",
       "      <td>0.0</td>\n",
       "      <td>1</td>\n",
       "      <td>0.000000</td>\n",
       "      <td>0.20</td>\n",
       "      <td>0.20</td>\n",
       "      <td>0.0</td>\n",
       "      <td>0.0</td>\n",
       "      <td>Feb</td>\n",
       "      <td>1</td>\n",
       "      <td>1</td>\n",
       "      <td>1</td>\n",
       "      <td>1</td>\n",
       "      <td>Returning_Visitor</td>\n",
       "      <td>False</td>\n",
       "      <td>False</td>\n",
       "    </tr>\n",
       "    <tr>\n",
       "      <th>1</th>\n",
       "      <td>0</td>\n",
       "      <td>0.0</td>\n",
       "      <td>0</td>\n",
       "      <td>0.0</td>\n",
       "      <td>2</td>\n",
       "      <td>64.000000</td>\n",
       "      <td>0.00</td>\n",
       "      <td>0.10</td>\n",
       "      <td>0.0</td>\n",
       "      <td>0.0</td>\n",
       "      <td>Feb</td>\n",
       "      <td>2</td>\n",
       "      <td>2</td>\n",
       "      <td>1</td>\n",
       "      <td>2</td>\n",
       "      <td>Returning_Visitor</td>\n",
       "      <td>False</td>\n",
       "      <td>False</td>\n",
       "    </tr>\n",
       "    <tr>\n",
       "      <th>2</th>\n",
       "      <td>0</td>\n",
       "      <td>0.0</td>\n",
       "      <td>0</td>\n",
       "      <td>0.0</td>\n",
       "      <td>1</td>\n",
       "      <td>0.000000</td>\n",
       "      <td>0.20</td>\n",
       "      <td>0.20</td>\n",
       "      <td>0.0</td>\n",
       "      <td>0.0</td>\n",
       "      <td>Feb</td>\n",
       "      <td>4</td>\n",
       "      <td>1</td>\n",
       "      <td>9</td>\n",
       "      <td>3</td>\n",
       "      <td>Returning_Visitor</td>\n",
       "      <td>False</td>\n",
       "      <td>False</td>\n",
       "    </tr>\n",
       "    <tr>\n",
       "      <th>3</th>\n",
       "      <td>0</td>\n",
       "      <td>0.0</td>\n",
       "      <td>0</td>\n",
       "      <td>0.0</td>\n",
       "      <td>2</td>\n",
       "      <td>2.666667</td>\n",
       "      <td>0.05</td>\n",
       "      <td>0.14</td>\n",
       "      <td>0.0</td>\n",
       "      <td>0.0</td>\n",
       "      <td>Feb</td>\n",
       "      <td>3</td>\n",
       "      <td>2</td>\n",
       "      <td>2</td>\n",
       "      <td>4</td>\n",
       "      <td>Returning_Visitor</td>\n",
       "      <td>False</td>\n",
       "      <td>False</td>\n",
       "    </tr>\n",
       "    <tr>\n",
       "      <th>4</th>\n",
       "      <td>0</td>\n",
       "      <td>0.0</td>\n",
       "      <td>0</td>\n",
       "      <td>0.0</td>\n",
       "      <td>10</td>\n",
       "      <td>627.500000</td>\n",
       "      <td>0.02</td>\n",
       "      <td>0.05</td>\n",
       "      <td>0.0</td>\n",
       "      <td>0.0</td>\n",
       "      <td>Feb</td>\n",
       "      <td>3</td>\n",
       "      <td>3</td>\n",
       "      <td>1</td>\n",
       "      <td>4</td>\n",
       "      <td>Returning_Visitor</td>\n",
       "      <td>True</td>\n",
       "      <td>False</td>\n",
       "    </tr>\n",
       "  </tbody>\n",
       "</table>\n",
       "</div>"
      ],
      "text/plain": [
       "   Administrative  Administrative_Duration  Informational  \\\n",
       "0               0                      0.0              0   \n",
       "1               0                      0.0              0   \n",
       "2               0                      0.0              0   \n",
       "3               0                      0.0              0   \n",
       "4               0                      0.0              0   \n",
       "\n",
       "   Informational_Duration  ProductRelated  ProductRelated_Duration  \\\n",
       "0                     0.0               1                 0.000000   \n",
       "1                     0.0               2                64.000000   \n",
       "2                     0.0               1                 0.000000   \n",
       "3                     0.0               2                 2.666667   \n",
       "4                     0.0              10               627.500000   \n",
       "\n",
       "   BounceRates  ExitRates  PageValues  SpecialDay Month  OperatingSystems  \\\n",
       "0         0.20       0.20         0.0         0.0   Feb                 1   \n",
       "1         0.00       0.10         0.0         0.0   Feb                 2   \n",
       "2         0.20       0.20         0.0         0.0   Feb                 4   \n",
       "3         0.05       0.14         0.0         0.0   Feb                 3   \n",
       "4         0.02       0.05         0.0         0.0   Feb                 3   \n",
       "\n",
       "   Browser  Region  TrafficType        VisitorType  Weekend  Revenue  \n",
       "0        1       1            1  Returning_Visitor    False    False  \n",
       "1        2       1            2  Returning_Visitor    False    False  \n",
       "2        1       9            3  Returning_Visitor    False    False  \n",
       "3        2       2            4  Returning_Visitor    False    False  \n",
       "4        3       1            4  Returning_Visitor     True    False  "
      ]
     },
     "execution_count": 106,
     "metadata": {},
     "output_type": "execute_result"
    }
   ],
   "source": [
    "data = pd.read_csv('online_shoppers_intention.csv')\n",
    "data.head()"
   ]
  },
  {
   "cell_type": "code",
   "execution_count": 107,
   "id": "8d06fb10",
   "metadata": {},
   "outputs": [
    {
     "data": {
      "text/plain": [
       "(12330, 18)"
      ]
     },
     "execution_count": 107,
     "metadata": {},
     "output_type": "execute_result"
    }
   ],
   "source": [
    "data.shape"
   ]
  },
  {
   "cell_type": "code",
   "execution_count": 108,
   "id": "6499caf1",
   "metadata": {},
   "outputs": [
    {
     "data": {
      "text/plain": [
       "Administrative             0\n",
       "Administrative_Duration    0\n",
       "Informational              0\n",
       "Informational_Duration     0\n",
       "ProductRelated             0\n",
       "ProductRelated_Duration    0\n",
       "BounceRates                0\n",
       "ExitRates                  0\n",
       "PageValues                 0\n",
       "SpecialDay                 0\n",
       "Month                      0\n",
       "OperatingSystems           0\n",
       "Browser                    0\n",
       "Region                     0\n",
       "TrafficType                0\n",
       "VisitorType                0\n",
       "Weekend                    0\n",
       "Revenue                    0\n",
       "dtype: int64"
      ]
     },
     "execution_count": 108,
     "metadata": {},
     "output_type": "execute_result"
    }
   ],
   "source": [
    "# Checking for NaN Values\n",
    "data.isna().sum()"
   ]
  },
  {
   "cell_type": "code",
   "execution_count": 109,
   "id": "55cd386c",
   "metadata": {},
   "outputs": [
    {
     "data": {
      "text/plain": [
       "Administrative             0\n",
       "Administrative_Duration    0\n",
       "Informational              0\n",
       "Informational_Duration     0\n",
       "ProductRelated             0\n",
       "ProductRelated_Duration    0\n",
       "BounceRates                0\n",
       "ExitRates                  0\n",
       "PageValues                 0\n",
       "SpecialDay                 0\n",
       "Month                      0\n",
       "OperatingSystems           0\n",
       "Browser                    0\n",
       "Region                     0\n",
       "TrafficType                0\n",
       "VisitorType                0\n",
       "Weekend                    0\n",
       "Revenue                    0\n",
       "dtype: int64"
      ]
     },
     "execution_count": 109,
     "metadata": {},
     "output_type": "execute_result"
    }
   ],
   "source": [
    "data.isnull().sum()"
   ]
  },
  {
   "cell_type": "code",
   "execution_count": 110,
   "id": "c6459f61",
   "metadata": {},
   "outputs": [
    {
     "name": "stdout",
     "output_type": "stream",
     "text": [
      "Index(['administrative', 'administrative_duration', 'informational',\n",
      "       'informational_duration', 'productrelated', 'productrelated_duration',\n",
      "       'bouncerates', 'exitrates', 'pagevalues', 'specialday', 'month',\n",
      "       'operatingsystems', 'browser', 'region', 'traffictype', 'visitortype',\n",
      "       'weekend', 'revenue'],\n",
      "      dtype='object')\n"
     ]
    }
   ],
   "source": [
    "col_l = []\n",
    "for col in data.columns:\n",
    "    col = col.replace(' ','_')\n",
    "    col_l.append(col.lower())\n",
    "data.columns = col_l\n",
    "print(data.columns)"
   ]
  },
  {
   "cell_type": "code",
   "execution_count": 111,
   "id": "82f755bf",
   "metadata": {},
   "outputs": [
    {
     "data": {
      "text/plain": [
       "May     3364\n",
       "Nov     2998\n",
       "Mar     1907\n",
       "Dec     1727\n",
       "Oct      549\n",
       "Sep      448\n",
       "Aug      433\n",
       "Jul      432\n",
       "June     288\n",
       "Feb      184\n",
       "Name: month, dtype: int64"
      ]
     },
     "execution_count": 111,
     "metadata": {},
     "output_type": "execute_result"
    }
   ],
   "source": [
    "data['month'].value_counts()"
   ]
  },
  {
   "cell_type": "code",
   "execution_count": 113,
   "id": "a909fd69",
   "metadata": {},
   "outputs": [
    {
     "data": {
      "text/plain": [
       "Text(0.5, 1.0, 'Website Visitors Per Month')"
      ]
     },
     "execution_count": 113,
     "metadata": {},
     "output_type": "execute_result"
    },
    {
     "data": {
      "image/png": "[encoded data removed]",
      "text/plain": [
       "<Figure size 720x360 with 1 Axes>"
      ]
     },
     "metadata": {
      "needs_background": "light"
     },
     "output_type": "display_data"
    }
   ],
   "source": [
    "# customers['region'].hist()\n",
    "plt.figure(figsize=(10,5)) \n",
    "n, bins, patches = plt.hist(x=data['month'], bins=5, color='green',\n",
    "                            alpha=0.7, rwidth=0.9)\n",
    "plt.grid(axis='y', alpha=0.9)\n",
    "plt.xlabel('Months')\n",
    "plt.ylabel('Visitors Count')\n",
    "plt.title('Website Visitors Per Month')"
   ]
  },
  {
   "cell_type": "code",
   "execution_count": 11,
   "id": "8df45e61",
   "metadata": {},
   "outputs": [
    {
     "data": {
      "text/plain": [
       "False    10422\n",
       "True      1908\n",
       "Name: revenue, dtype: int64"
      ]
     },
     "execution_count": 11,
     "metadata": {},
     "output_type": "execute_result"
    }
   ],
   "source": [
    "data['revenue'].value_counts()"
   ]
  },
  {
   "cell_type": "markdown",
   "id": "84150ef2",
   "metadata": {},
   "source": [
    "### Make a copy of data for use in Tableau visualization\n",
    "    1.The original data set shall be used in finding corellations and possibly building a model\n",
    "    2.Assign numbers in 'operatingsystems', 'browser' and 'region' actual values"
   ]
  },
  {
   "cell_type": "code",
   "execution_count": 12,
   "id": "b1dd3bc5",
   "metadata": {},
   "outputs": [],
   "source": [
    "data1 = data.copy()"
   ]
  },
  {
   "cell_type": "markdown",
   "id": "9bbfe05b",
   "metadata": {},
   "source": [
    "### Mapping operating systems integers to values\n",
    "### ASSUMPTIONS\n",
    "    1.There are 8 different operting systems with a popularity trend similar to computers. Phones and tablets have a different popularity trend depending on the country\n",
    "    2.The trends are not an exact match but will map them using their popularity rankings\n",
    "    3. Could the various browsers being used indicate computer usage rather than phone/tablet?? Usually phone/tablet users would likely downlaod the app. Every user uses atleast a browser\n",
    "\n",
    "### Link: https://en.wikipedia.org/wiki/Usage_share_of_operating_systems"
   ]
  },
  {
   "cell_type": "code",
   "execution_count": 14,
   "id": "4758c6cd",
   "metadata": {},
   "outputs": [
    {
     "data": {
      "text/plain": [
       "Windows    6601\n",
       "Mac OS     2585\n",
       "Linux      2555\n",
       "Ubuntu      478\n",
       "Unix         79\n",
       "others       32\n",
       "Name: operatingsystems, dtype: int64"
      ]
     },
     "execution_count": 14,
     "metadata": {},
     "output_type": "execute_result"
    }
   ],
   "source": [
    "data1['operatingsystems'] = data1['operatingsystems'].map({2:'Windows',1:'Mac OS', 3:'Linux',4:'Ubuntu', 5:'others',6:'others',7:'others',8:'Unix'})\n",
    "data1['operatingsystems'].value_counts()"
   ]
  },
  {
   "cell_type": "code",
   "execution_count": 15,
   "id": "4a53ac08",
   "metadata": {},
   "outputs": [
    {
     "data": {
      "text/plain": [
       "Windows    6601\n",
       "Mac OS     2585\n",
       "Linux      2555\n",
       "others      557\n",
       "Name: operatingsystems, dtype: int64"
      ]
     },
     "execution_count": 15,
     "metadata": {},
     "output_type": "execute_result"
    }
   ],
   "source": [
    "# More grouping for operaing systems to get a flow chart\n",
    "operating_sys = data1['operatingsystems'].map({'Ubuntu':'others', 'Unix':'others','Windows':'Windows','Mac OS':'Mac OS','Linux':'Linux'})\n",
    "operating_sys.value_counts()"
   ]
  },
  {
   "cell_type": "code",
   "execution_count": 158,
   "id": "684cc938",
   "metadata": {},
   "outputs": [
    {
     "data": {
      "image/png": "[encoded data removed]",
      "text/plain": [
       "<Figure size 432x288 with 1 Axes>"
      ]
     },
     "metadata": {},
     "output_type": "display_data"
    }
   ],
   "source": [
    "import matplotlib.pyplot as plt\n",
    "fig = dict(operating_sys.value_counts())\n",
    "colors = ['green', 'red', 'orange', 'cyan', 'yellow'] \n",
    "highlight =(0,0.2,0,0,0)\n",
    "plt.pie(list(fig.values()), labels=fig.keys(), explode = (0.1, 0.1, 0, 0),colors=colors, autopct='%2.1f%%',\n",
    "        shadow=True, startangle=90, radius = 2, textprops={'fontsize': 14})\n",
    "plt.show()\n"
   ]
  },
  {
   "cell_type": "code",
   "execution_count": 17,
   "id": "0d0ccc70",
   "metadata": {},
   "outputs": [
    {
     "data": {
      "text/plain": [
       "Chrome     7961\n",
       "Safari     2462\n",
       "Mozilla     736\n",
       "Opera       467\n",
       "Edge        174\n",
       "Yandex      163\n",
       "WebView     135\n",
       "Others      127\n",
       "Samsung     105\n",
       "Name: browser, dtype: int64"
      ]
     },
     "execution_count": 17,
     "metadata": {},
     "output_type": "execute_result"
    }
   ],
   "source": [
    "# LINK TO BROWSER USAGE - Case of the European market: https://backlinko.com/browser-market-share\n",
    "def clean_browser(x):\n",
    "    if x == 2:\n",
    "        return 'Chrome'\n",
    "    elif x == 1:\n",
    "        return 'Safari'\n",
    "    elif x == 4:\n",
    "        return 'Mozilla'\n",
    "    elif x == 5:\n",
    "        return 'Opera'\n",
    "    elif x ==6:\n",
    "        return 'Edge'\n",
    "    elif x == 10:\n",
    "        return 'Yandex'\n",
    "    elif x == 8:\n",
    "        return 'WebView'\n",
    "    elif x == 3:\n",
    "        return 'Samsung'\n",
    "    else:\n",
    "        return 'Others'\n",
    "\n",
    "data1['browser'] = data1['browser'].apply(lambda x:clean_browser(x))\n",
    "data1['browser'].value_counts()"
   ]
  },
  {
   "cell_type": "code",
   "execution_count": 116,
   "id": "0f314bfc",
   "metadata": {},
   "outputs": [
    {
     "data": {
      "text/plain": [
       "Chrome          7961\n",
       "Safari          2462\n",
       "Mozilla          736\n",
       "Opera & Edge     641\n",
       "Others           530\n",
       "Name: browser, dtype: int64"
      ]
     },
     "execution_count": 116,
     "metadata": {},
     "output_type": "execute_result"
    }
   ],
   "source": [
    "# More grouping to make a pie-chart\n",
    "def piechart_filter(x):\n",
    "    if x == 'Opera' or x == 'Edge':\n",
    "        return 'Opera & Edge'\n",
    "    elif x == 'Yandex' or x == 'WebView' or x == 'Others' or x == 'Samsung':\n",
    "        return 'Others'\n",
    "    else:\n",
    "        return x\n",
    "browser_chart = data1['browser'].apply(lambda x: piechart_filter(x))\n",
    "browser_chart.value_counts()"
   ]
  },
  {
   "cell_type": "code",
   "execution_count": 142,
   "id": "8ca568e0",
   "metadata": {},
   "outputs": [
    {
     "data": {
      "image/png": "[encoded data removed]",
      "text/plain": [
       "<Figure size 432x288 with 1 Axes>"
      ]
     },
     "metadata": {},
     "output_type": "display_data"
    }
   ],
   "source": [
    "fig = dict(browser_chart.value_counts())\n",
    "colors = ['green', 'red', 'orange', 'cyan', 'yellow'] \n",
    "highlight =(0,0.2,0,0,0)\n",
    "plt.pie(list(fig.values()), labels=fig.keys(), explode = (0.1, 0.1, 0, 0,0),colors=colors, autopct='%2.1f%%',\n",
    "        shadow=True, startangle=90, radius = 2, textprops={'fontsize': 12})\n",
    "plt.show()"
   ]
  },
  {
   "cell_type": "markdown",
   "id": "4792a85d",
   "metadata": {},
   "source": [
    "### The Visitors browser share follows a similar trend to the general browser market share\n",
    "#### LINK TO BROWSER USAGE - Case of the European market: https://backlinko.com/browser-market-share"
   ]
  },
  {
   "cell_type": "code",
   "execution_count": 18,
   "id": "aa8117c5",
   "metadata": {},
   "outputs": [
    {
     "data": {
      "text/plain": [
       "Central       4780\n",
       "Eastern       2403\n",
       "Western       1182\n",
       "Northern      1136\n",
       "North-West     805\n",
       "Southern       761\n",
       "North-East     511\n",
       "South-West     434\n",
       "South-East     318\n",
       "Name: region, dtype: int64"
      ]
     },
     "execution_count": 18,
     "metadata": {},
     "output_type": "execute_result"
    }
   ],
   "source": [
    "# Regions are totally abitrary because i do not know where the store is located\n",
    "data1['region'] = data1['region'].map({1:'Central',2:'Northern', 3:'Eastern', 4:'Western',7:'Southern',6:'North-West',9:'North-East',\n",
    "                                      8:'South-West',5:'South-East'})\n",
    "data1['region'].value_counts()"
   ]
  },
  {
   "cell_type": "code",
   "execution_count": 131,
   "id": "72f1caef",
   "metadata": {},
   "outputs": [
    {
     "data": {
      "text/plain": [
       "Text(0.5, 1.0, 'Visitors Per Region')"
      ]
     },
     "execution_count": 131,
     "metadata": {},
     "output_type": "execute_result"
    },
    {
     "data": {
      "image/png": "[encoded data removed]",
      "text/plain": [
       "<Figure size 720x360 with 1 Axes>"
      ]
     },
     "metadata": {
      "needs_background": "light"
     },
     "output_type": "display_data"
    }
   ],
   "source": [
    "# customers['region'].hist()\n",
    "plt.figure(figsize=(10,5)) \n",
    "n, bins, patches = plt.hist(x=customers['region'], bins=5, color= 'cyan',\n",
    "                            alpha=0.7, rwidth=0.9)\n",
    "plt.grid(axis='y', alpha=0.9)\n",
    "plt.xlabel('Regions')\n",
    "plt.ylabel('Visitors Count')\n",
    "plt.title('Visitors Per Region')"
   ]
  },
  {
   "cell_type": "code",
   "execution_count": 19,
   "id": "6001d449",
   "metadata": {},
   "outputs": [
    {
     "data": {
      "text/plain": [
       "Organic             3913\n",
       "Direct              2451\n",
       "Referral            2052\n",
       "Email marketing     1069\n",
       "Others               870\n",
       "Social networks      738\n",
       "Paid media           450\n",
       "Paid Search          444\n",
       "Offline channels     343\n",
       "Name: traffictype, dtype: int64"
      ]
     },
     "execution_count": 19,
     "metadata": {},
     "output_type": "execute_result"
    }
   ],
   "source": [
    "# LINK: https://www.cyberclick.net/numericalblogen/types-of-web-traffic-sources-and-explanations\n",
    "# Got the types of traffic from the above link. I did not consider the percentages because i do not know how our\n",
    "# store generated most of its traffic\n",
    "\n",
    "def clean_traffic(x):\n",
    "    if x == 2:\n",
    "        return 'Organic'\n",
    "    elif x == 1:\n",
    "        return 'Direct'\n",
    "    elif x == 3:\n",
    "        return 'Referral'\n",
    "    elif x == 4:\n",
    "        return 'Email marketing'\n",
    "    elif x == 13:\n",
    "        return 'Social networks'\n",
    "    elif x == 10:\n",
    "        return 'Paid media'\n",
    "    elif x == 6:\n",
    "        return 'Paid Search'\n",
    "    elif x == 8:\n",
    "        return 'Offline channels'    \n",
    "    else:\n",
    "        return 'Others'\n",
    "\n",
    "data1['traffictype'] = data1['traffictype'].apply(lambda x:clean_traffic(x))\n",
    "data1['traffictype'].value_counts()"
   ]
  },
  {
   "cell_type": "code",
   "execution_count": 155,
   "id": "17d278c0",
   "metadata": {},
   "outputs": [
    {
     "data": {
      "text/plain": [
       "Text(0.5, 1.0, 'Website Traffic classification')"
      ]
     },
     "execution_count": 155,
     "metadata": {},
     "output_type": "execute_result"
    },
    {
     "data": {
      "image/png": "[encoded data removed]",
      "text/plain": [
       "<Figure size 864x360 with 1 Axes>"
      ]
     },
     "metadata": {
      "needs_background": "light"
     },
     "output_type": "display_data"
    }
   ],
   "source": [
    "plt.figure(figsize=(12,5)) \n",
    "n, bins, patches = plt.hist(x=data1['traffictype'], bins=9, color='#0504aa',\n",
    "                            alpha=0.7, rwidth=0.9)\n",
    "plt.grid(axis='y', alpha=0.9)\n",
    "plt.xlabel('Types of Traffic', fontsize = 16)\n",
    "plt.ylabel('Traffic type Count', fontsize = 16)\n",
    "plt.title('Website Traffic classification' , fontsize = 20)"
   ]
  },
  {
   "cell_type": "code",
   "execution_count": 156,
   "id": "62839cea",
   "metadata": {},
   "outputs": [],
   "source": [
    "# # Plot\n",
    "# fig, ax = plt.subplots(figsize = (12, 10))\n",
    "# lead_artists = filtered_data.groupby('artist')['popularity'].sum().sort_values(ascending=False).head(10)\n",
    "# ax = sns.barplot(x=lead_artists.values, y=lead_artists.index, palette=\"nipy_spectral\", orient=\"h\", edgecolor='black', ax=ax)\n",
    "# ax.set_xlabel('popularity', c='r', fontsize=16)\n",
    "# ax.set_ylabel('artist', c='r', fontsize=16)\n",
    "# ax.set_title('10 Most Popular Artists', c='r', fontsize=14, weight = 'bold')\n",
    "# plt.show()\n"
   ]
  },
  {
   "cell_type": "code",
   "execution_count": 145,
   "id": "9d469245",
   "metadata": {},
   "outputs": [],
   "source": [
    "# # Plot\n",
    "# fig, ax = plt.subplots(figsize = (12, 10))\n",
    "# # lead_artists = filtered_data.groupby('artist')['popularity'].sum().sort_values(ascending=False).head(10)\n",
    "# ax = sns.barplot(x=data1['traffictype'].values, y=data1['traffictype'], palette=\"nipy_spectral\", orient=\"h\", edgecolor='black', ax=ax)\n",
    "# ax.set_xlabel('popularity', c='r', fontsize=16)\n",
    "# ax.set_ylabel('artist', c='r', fontsize=16)\n",
    "# ax.set_title('10 Most Popular Artists', c='r', fontsize=14, weight = 'bold')\n",
    "# plt.show()\n"
   ]
  },
  {
   "cell_type": "code",
   "execution_count": 20,
   "id": "2de53642",
   "metadata": {},
   "outputs": [
    {
     "data": {
      "text/plain": [
       "(10422, 18)"
      ]
     },
     "execution_count": 20,
     "metadata": {},
     "output_type": "execute_result"
    }
   ],
   "source": [
    "# People taht visited the website and did not buy anything are classified as visitors\n",
    "visitors = data1[data1['revenue'] == False]\n",
    "visitors.shape"
   ]
  },
  {
   "cell_type": "code",
   "execution_count": 21,
   "id": "aed6bf0d",
   "metadata": {},
   "outputs": [
    {
     "data": {
      "text/plain": [
       "(1908, 18)"
      ]
     },
     "execution_count": 21,
     "metadata": {},
     "output_type": "execute_result"
    }
   ],
   "source": [
    "# People taht visited the website and bought item(s) are classified as customers\n",
    "customers = data1[data1['revenue'] == True]\n",
    "customers.shape"
   ]
  },
  {
   "cell_type": "code",
   "execution_count": 22,
   "id": "1bb0cc65",
   "metadata": {},
   "outputs": [
    {
     "name": "stdout",
     "output_type": "stream",
     "text": [
      "Ratio of visitors that bought items  0.15\n"
     ]
    }
   ],
   "source": [
    "# PERCENTAGE OF RETURNING VISITORS THAT CONVERTED - SPENT MONEY\n",
    "percent_buy = len(customers)/len(data1)\n",
    "print(\"Ratio of visitors that bought items \", round(percent_buy,2))"
   ]
  },
  {
   "cell_type": "code",
   "execution_count": 23,
   "id": "9609e57e",
   "metadata": {},
   "outputs": [
    {
     "data": {
      "text/plain": [
       "Returning_Visitor    1470\n",
       "New_Visitor           422\n",
       "Other                  16\n",
       "Name: visitortype, dtype: int64"
      ]
     },
     "execution_count": 23,
     "metadata": {},
     "output_type": "execute_result"
    }
   ],
   "source": [
    "# Use data where 'Revenue' is True\n",
    "customers['visitortype'].value_counts()"
   ]
  },
  {
   "cell_type": "code",
   "execution_count": 24,
   "id": "e413c7cf",
   "metadata": {},
   "outputs": [],
   "source": [
    "data1.to_csv(\"E:\\\\SKUL\\\\PROGRAMMING_SKULS\\\\ironhack\\\\COURSE\\\\Mid-Term-Project\\\\Data\\\\Visitors.csv\", index = False)"
   ]
  },
  {
   "cell_type": "code",
   "execution_count": 25,
   "id": "9087bc8f",
   "metadata": {},
   "outputs": [],
   "source": [
    "# Export dataframe where 'revenue' is True for use in Tableau\n",
    "customers.to_excel(\"E:\\\\SKUL\\\\PROGRAMMING_SKULS\\\\ironhack\\\\COURSE\\\\Mid-Term-Project\\\\Data\\\\Customers.xlsx\")"
   ]
  },
  {
   "cell_type": "code",
   "execution_count": 26,
   "id": "9a35dc9b",
   "metadata": {},
   "outputs": [
    {
     "data": {
      "text/plain": [
       "Nov     760\n",
       "May     365\n",
       "Dec     216\n",
       "Mar     192\n",
       "Oct     115\n",
       "Sep      86\n",
       "Aug      76\n",
       "Jul      66\n",
       "June     29\n",
       "Feb       3\n",
       "Name: month, dtype: int64"
      ]
     },
     "execution_count": 26,
     "metadata": {},
     "output_type": "execute_result"
    }
   ],
   "source": [
    "# Mothly Breakdown of customers that bought items \n",
    "customers['month'].value_counts()"
   ]
  },
  {
   "cell_type": "code",
   "execution_count": 27,
   "id": "6d1cc6b5",
   "metadata": {},
   "outputs": [
    {
     "name": "stdout",
     "output_type": "stream",
     "text": [
      "Ratio of returning customers that buy items:  0.77\n"
     ]
    }
   ],
   "source": [
    "# Percentage of revenue from returning visitors\n",
    "perc_return_customer_revenue = len(customers[customers['visitortype'] == 'Returning_Visitor'])/len(customers)\n",
    "print(\"Ratio of returning customers that buy items: \", round(perc_return_customer_revenue, 2))"
   ]
  },
  {
   "cell_type": "code",
   "execution_count": 28,
   "id": "7d039f40",
   "metadata": {},
   "outputs": [
    {
     "name": "stdout",
     "output_type": "stream",
     "text": [
      "Ratio of new customers that buy items:  0.22\n"
     ]
    }
   ],
   "source": [
    "# percentage of revenue from new visitors\n",
    "perc_revenue_new_customer = len(customers[customers['visitortype'] == 'New_Visitor'])/len(customers)\n",
    "print(\"Ratio of new customers that buy items: \", round(perc_revenue_new_customer, 2))"
   ]
  },
  {
   "cell_type": "code",
   "execution_count": 29,
   "id": "e28bf2fe",
   "metadata": {},
   "outputs": [
    {
     "data": {
      "text/plain": [
       "0.87"
      ]
     },
     "execution_count": 29,
     "metadata": {},
     "output_type": "execute_result"
    }
   ],
   "source": [
    "# Percentage of returning visitors that didnot buy\n",
    "# We use the dataframe where 'revenue' is False\n",
    "no_revenue_return_customer = len(visitors[visitors['visitortype'] == 'Returning_Visitor'])/len(visitors)\n",
    "round(no_revenue_return_customer, 2)"
   ]
  },
  {
   "cell_type": "code",
   "execution_count": 30,
   "id": "5c0fbb4b",
   "metadata": {},
   "outputs": [
    {
     "name": "stdout",
     "output_type": "stream",
     "text": [
      "Returning Customers Percentage:  0.86\n"
     ]
    }
   ],
   "source": [
    "# This percentage could be that returning customers simply make up a huge chunk of our website visitors\n",
    "overall_return = len(data[data['visitortype'] == 'Returning_Visitor'])/len(data1)\n",
    "print(\"Returning Customers Percentage: \", round(overall_return,2))"
   ]
  },
  {
   "cell_type": "code",
   "execution_count": 31,
   "id": "1a83ff13",
   "metadata": {},
   "outputs": [],
   "source": [
    "# from the above calculation, 85.5% of visitors are returning customers"
   ]
  },
  {
   "cell_type": "code",
   "execution_count": 32,
   "id": "052105e1",
   "metadata": {},
   "outputs": [
    {
     "name": "stdout",
     "output_type": "stream",
     "text": [
      "New Customers Percentage:  0.14\n"
     ]
    }
   ],
   "source": [
    "# New customers\n",
    "overall_new = len(data1[data1['visitortype'] == 'New_Visitor'])/len(data1)\n",
    "print(\"New Customers Percentage: \", round(overall_new,2))"
   ]
  },
  {
   "cell_type": "code",
   "execution_count": 33,
   "id": "9b63e88f",
   "metadata": {},
   "outputs": [
    {
     "data": {
      "text/html": [
       "<div>\n",
       "<style scoped>\n",
       "    .dataframe tbody tr th:only-of-type {\n",
       "        vertical-align: middle;\n",
       "    }\n",
       "\n",
       "    .dataframe tbody tr th {\n",
       "        vertical-align: top;\n",
       "    }\n",
       "\n",
       "    .dataframe thead th {\n",
       "        text-align: right;\n",
       "    }\n",
       "</style>\n",
       "<table border=\"1\" class=\"dataframe\">\n",
       "  <thead>\n",
       "    <tr style=\"text-align: right;\">\n",
       "      <th></th>\n",
       "      <th>administrative</th>\n",
       "      <th>administrative_duration</th>\n",
       "      <th>informational</th>\n",
       "      <th>informational_duration</th>\n",
       "      <th>productrelated</th>\n",
       "      <th>productrelated_duration</th>\n",
       "      <th>bouncerates</th>\n",
       "      <th>exitrates</th>\n",
       "      <th>pagevalues</th>\n",
       "      <th>specialday</th>\n",
       "      <th>month</th>\n",
       "      <th>operatingsystems</th>\n",
       "      <th>browser</th>\n",
       "      <th>region</th>\n",
       "      <th>traffictype</th>\n",
       "      <th>visitortype</th>\n",
       "      <th>weekend</th>\n",
       "      <th>revenue</th>\n",
       "    </tr>\n",
       "  </thead>\n",
       "  <tbody>\n",
       "    <tr>\n",
       "      <th>20</th>\n",
       "      <td>0</td>\n",
       "      <td>0.0</td>\n",
       "      <td>0</td>\n",
       "      <td>0.0</td>\n",
       "      <td>8</td>\n",
       "      <td>136.166667</td>\n",
       "      <td>0.0</td>\n",
       "      <td>0.008333</td>\n",
       "      <td>0.000000</td>\n",
       "      <td>1.0</td>\n",
       "      <td>Feb</td>\n",
       "      <td>Windows</td>\n",
       "      <td>Chrome</td>\n",
       "      <td>South-East</td>\n",
       "      <td>Direct</td>\n",
       "      <td>Returning_Visitor</td>\n",
       "      <td>True</td>\n",
       "      <td>False</td>\n",
       "    </tr>\n",
       "    <tr>\n",
       "      <th>52</th>\n",
       "      <td>0</td>\n",
       "      <td>0.0</td>\n",
       "      <td>0</td>\n",
       "      <td>0.0</td>\n",
       "      <td>2</td>\n",
       "      <td>29.000000</td>\n",
       "      <td>0.0</td>\n",
       "      <td>0.100000</td>\n",
       "      <td>0.000000</td>\n",
       "      <td>1.0</td>\n",
       "      <td>Feb</td>\n",
       "      <td>Windows</td>\n",
       "      <td>Mozilla</td>\n",
       "      <td>Western</td>\n",
       "      <td>Organic</td>\n",
       "      <td>Returning_Visitor</td>\n",
       "      <td>True</td>\n",
       "      <td>False</td>\n",
       "    </tr>\n",
       "    <tr>\n",
       "      <th>78</th>\n",
       "      <td>0</td>\n",
       "      <td>0.0</td>\n",
       "      <td>0</td>\n",
       "      <td>0.0</td>\n",
       "      <td>1</td>\n",
       "      <td>0.000000</td>\n",
       "      <td>0.2</td>\n",
       "      <td>0.200000</td>\n",
       "      <td>0.000000</td>\n",
       "      <td>1.0</td>\n",
       "      <td>Feb</td>\n",
       "      <td>Mac OS</td>\n",
       "      <td>Safari</td>\n",
       "      <td>Central</td>\n",
       "      <td>Referral</td>\n",
       "      <td>Returning_Visitor</td>\n",
       "      <td>True</td>\n",
       "      <td>False</td>\n",
       "    </tr>\n",
       "    <tr>\n",
       "      <th>101</th>\n",
       "      <td>4</td>\n",
       "      <td>61.0</td>\n",
       "      <td>0</td>\n",
       "      <td>0.0</td>\n",
       "      <td>19</td>\n",
       "      <td>607.000000</td>\n",
       "      <td>0.0</td>\n",
       "      <td>0.026984</td>\n",
       "      <td>17.535959</td>\n",
       "      <td>1.0</td>\n",
       "      <td>Feb</td>\n",
       "      <td>Mac OS</td>\n",
       "      <td>Safari</td>\n",
       "      <td>Southern</td>\n",
       "      <td>Email marketing</td>\n",
       "      <td>Returning_Visitor</td>\n",
       "      <td>True</td>\n",
       "      <td>True</td>\n",
       "    </tr>\n",
       "    <tr>\n",
       "      <th>174</th>\n",
       "      <td>5</td>\n",
       "      <td>41.3</td>\n",
       "      <td>0</td>\n",
       "      <td>0.0</td>\n",
       "      <td>24</td>\n",
       "      <td>446.927778</td>\n",
       "      <td>0.0</td>\n",
       "      <td>0.008602</td>\n",
       "      <td>0.000000</td>\n",
       "      <td>1.0</td>\n",
       "      <td>Feb</td>\n",
       "      <td>Windows</td>\n",
       "      <td>Chrome</td>\n",
       "      <td>South-West</td>\n",
       "      <td>Direct</td>\n",
       "      <td>Returning_Visitor</td>\n",
       "      <td>True</td>\n",
       "      <td>False</td>\n",
       "    </tr>\n",
       "  </tbody>\n",
       "</table>\n",
       "</div>"
      ],
      "text/plain": [
       "     administrative  administrative_duration  informational  \\\n",
       "20                0                      0.0              0   \n",
       "52                0                      0.0              0   \n",
       "78                0                      0.0              0   \n",
       "101               4                     61.0              0   \n",
       "174               5                     41.3              0   \n",
       "\n",
       "     informational_duration  productrelated  productrelated_duration  \\\n",
       "20                      0.0               8               136.166667   \n",
       "52                      0.0               2                29.000000   \n",
       "78                      0.0               1                 0.000000   \n",
       "101                     0.0              19               607.000000   \n",
       "174                     0.0              24               446.927778   \n",
       "\n",
       "     bouncerates  exitrates  pagevalues  specialday month operatingsystems  \\\n",
       "20           0.0   0.008333    0.000000         1.0   Feb          Windows   \n",
       "52           0.0   0.100000    0.000000         1.0   Feb          Windows   \n",
       "78           0.2   0.200000    0.000000         1.0   Feb           Mac OS   \n",
       "101          0.0   0.026984   17.535959         1.0   Feb           Mac OS   \n",
       "174          0.0   0.008602    0.000000         1.0   Feb          Windows   \n",
       "\n",
       "     browser      region      traffictype        visitortype  weekend  revenue  \n",
       "20    Chrome  South-East           Direct  Returning_Visitor     True    False  \n",
       "52   Mozilla     Western          Organic  Returning_Visitor     True    False  \n",
       "78    Safari     Central         Referral  Returning_Visitor     True    False  \n",
       "101   Safari    Southern  Email marketing  Returning_Visitor     True     True  \n",
       "174   Chrome  South-West           Direct  Returning_Visitor     True    False  "
      ]
     },
     "execution_count": 33,
     "metadata": {},
     "output_type": "execute_result"
    }
   ],
   "source": [
    "# Revenue on special days\n",
    "special_days = data1[data1['specialday'] == 1]\n",
    "special_days.head()"
   ]
  },
  {
   "cell_type": "code",
   "execution_count": 34,
   "id": "d349e192",
   "metadata": {},
   "outputs": [
    {
     "name": "stdout",
     "output_type": "stream",
     "text": [
      "Ratio of visitors on special days:  0.01\n"
     ]
    }
   ],
   "source": [
    "percentage_of_special_day = len(special_days)/len(data1)\n",
    "print(\"Ratio of visitors on special days: \",round(percentage_of_special_day,2) )"
   ]
  },
  {
   "cell_type": "code",
   "execution_count": 35,
   "id": "d824abd7",
   "metadata": {},
   "outputs": [
    {
     "name": "stdout",
     "output_type": "stream",
     "text": [
      "Ratio of revenue customers on special days:  0.06\n"
     ]
    }
   ],
   "source": [
    "special_revenue_perc = len(special_days[special_days['revenue'] == True])/len(special_days)\n",
    "print(\"Ratio of revenue customers on special days: \",round(special_revenue_perc,2))"
   ]
  },
  {
   "cell_type": "markdown",
   "id": "cbca57de",
   "metadata": {},
   "source": [
    "### Only 6% of visitors on special day converted into revenue. This is much lower than the overall conversion rate of 15%"
   ]
  },
  {
   "cell_type": "code",
   "execution_count": 118,
   "id": "f3655196",
   "metadata": {},
   "outputs": [
    {
     "data": {
      "text/plain": [
       "False    9462\n",
       "True     2868\n",
       "Name: weekend, dtype: int64"
      ]
     },
     "execution_count": 118,
     "metadata": {},
     "output_type": "execute_result"
    }
   ],
   "source": [
    "data1['weekend'].value_counts()"
   ]
  },
  {
   "cell_type": "code",
   "execution_count": 119,
   "id": "7b7b27f5",
   "metadata": {},
   "outputs": [
    {
     "data": {
      "text/plain": [
       "(2868, 18)"
      ]
     },
     "execution_count": 119,
     "metadata": {},
     "output_type": "execute_result"
    }
   ],
   "source": [
    "# Visitors over the weekend\n",
    "weekend_visitors = data1[data1['weekend'] == True]\n",
    "weekend_visitors.shape"
   ]
  },
  {
   "cell_type": "code",
   "execution_count": 39,
   "id": "1b70af8a",
   "metadata": {},
   "outputs": [
    {
     "name": "stdout",
     "output_type": "stream",
     "text": [
      "Ratio of weekend visitors:  0.23\n"
     ]
    }
   ],
   "source": [
    "percentage_of_weekend_visitors = len(weekend_visitors)/len(data1)\n",
    "print(\"Ratio of weekend visitors: \", round(percentage_of_weekend_visitors,2))"
   ]
  },
  {
   "cell_type": "code",
   "execution_count": 40,
   "id": "01be88a1",
   "metadata": {},
   "outputs": [
    {
     "name": "stdout",
     "output_type": "stream",
     "text": [
      "Ratio of weekend customers:  0.17\n"
     ]
    }
   ],
   "source": [
    "# Checking conversion ratios for both weekend and weekdays\n",
    "# Getting weekend visitors that bought items\n",
    "weekend_customers = weekend_visitors[weekend_visitors['revenue'] == True]\n",
    "ratio_of_weekend_customers = len(weekend_customers)/len(weekend_visitors)\n",
    "print(\"Ratio of weekend customers: \", round(ratio_of_weekend_customers,2))"
   ]
  },
  {
   "cell_type": "code",
   "execution_count": 41,
   "id": "d6a40762",
   "metadata": {},
   "outputs": [],
   "source": [
    "# Ratios are similar between overall customer conversion rates and weekend customer conversion rates"
   ]
  },
  {
   "cell_type": "code",
   "execution_count": 42,
   "id": "f1b41d8c",
   "metadata": {},
   "outputs": [
    {
     "data": {
      "text/plain": [
       "(9462, 18)"
      ]
     },
     "execution_count": 42,
     "metadata": {},
     "output_type": "execute_result"
    }
   ],
   "source": [
    "# Visitors in weekdays\n",
    "weekdays_visitors = data1[data1['weekend'] == False]\n",
    "weekdays_visitors.shape"
   ]
  },
  {
   "cell_type": "code",
   "execution_count": 43,
   "id": "3850f882",
   "metadata": {},
   "outputs": [
    {
     "data": {
      "text/plain": [
       "(1409, 18)"
      ]
     },
     "execution_count": 43,
     "metadata": {},
     "output_type": "execute_result"
    }
   ],
   "source": [
    "weekdays_customers = weekdays_visitors[weekdays_visitors['revenue'] == True]\n",
    "weekdays_customers.shape"
   ]
  },
  {
   "cell_type": "code",
   "execution_count": 44,
   "id": "a6d69bb7",
   "metadata": {},
   "outputs": [
    {
     "name": "stdout",
     "output_type": "stream",
     "text": [
      "Ratio of weekdays customers:  0.149\n"
     ]
    }
   ],
   "source": [
    "ratio_of_weekdays_customers = len(weekdays_customers)/len(weekdays_visitors)\n",
    "print(\"Ratio of weekdays customers: \", round(ratio_of_weekdays_customers,3))"
   ]
  },
  {
   "cell_type": "code",
   "execution_count": 45,
   "id": "87234dda",
   "metadata": {},
   "outputs": [
    {
     "name": "stdout",
     "output_type": "stream",
     "text": [
      "Extra customers from a 1% increase in traffic:  18\n"
     ]
    }
   ],
   "source": [
    "# How many customers do we get by a 1% increase in visitors\n",
    "extra_customers = 0.01 * 12330 * 0.15\n",
    "print(\"Extra customers from a 1% increase in traffic: \", int(extra_customers))"
   ]
  },
  {
   "cell_type": "code",
   "execution_count": 46,
   "id": "669e1f94",
   "metadata": {},
   "outputs": [],
   "source": [
    "# Because of data limitations, i can not tell whether the increase in customers is significant\n",
    "# Since this is e-commerce, i will assume it is not so significant"
   ]
  },
  {
   "cell_type": "markdown",
   "id": "62b024b7",
   "metadata": {},
   "source": [
    "## Checking if our store has special appeal to Mac users\n",
    "### Reason:\n",
    "1. Apple products users have relatively higher incomes compared to other groups\n",
    "2. Being associated with users of such an exclusive product would be beneficial"
   ]
  },
  {
   "cell_type": "code",
   "execution_count": 50,
   "id": "a27666dc",
   "metadata": {},
   "outputs": [
    {
     "data": {
      "text/html": [
       "<div>\n",
       "<style scoped>\n",
       "    .dataframe tbody tr th:only-of-type {\n",
       "        vertical-align: middle;\n",
       "    }\n",
       "\n",
       "    .dataframe tbody tr th {\n",
       "        vertical-align: top;\n",
       "    }\n",
       "\n",
       "    .dataframe thead th {\n",
       "        text-align: right;\n",
       "    }\n",
       "</style>\n",
       "<table border=\"1\" class=\"dataframe\">\n",
       "  <thead>\n",
       "    <tr style=\"text-align: right;\">\n",
       "      <th></th>\n",
       "      <th>administrative</th>\n",
       "      <th>administrative_duration</th>\n",
       "      <th>informational</th>\n",
       "      <th>informational_duration</th>\n",
       "      <th>productrelated</th>\n",
       "      <th>productrelated_duration</th>\n",
       "      <th>bouncerates</th>\n",
       "      <th>exitrates</th>\n",
       "      <th>pagevalues</th>\n",
       "      <th>specialday</th>\n",
       "      <th>month</th>\n",
       "      <th>operatingsystems</th>\n",
       "      <th>browser</th>\n",
       "      <th>region</th>\n",
       "      <th>traffictype</th>\n",
       "      <th>visitortype</th>\n",
       "      <th>weekend</th>\n",
       "      <th>revenue</th>\n",
       "    </tr>\n",
       "  </thead>\n",
       "  <tbody>\n",
       "    <tr>\n",
       "      <th>0</th>\n",
       "      <td>0</td>\n",
       "      <td>0.0</td>\n",
       "      <td>0</td>\n",
       "      <td>0.0</td>\n",
       "      <td>1</td>\n",
       "      <td>0.00</td>\n",
       "      <td>0.20000</td>\n",
       "      <td>0.200000</td>\n",
       "      <td>0.0</td>\n",
       "      <td>0.0</td>\n",
       "      <td>Feb</td>\n",
       "      <td>Mac OS</td>\n",
       "      <td>Safari</td>\n",
       "      <td>Central</td>\n",
       "      <td>Direct</td>\n",
       "      <td>Returning_Visitor</td>\n",
       "      <td>False</td>\n",
       "      <td>False</td>\n",
       "    </tr>\n",
       "    <tr>\n",
       "      <th>7</th>\n",
       "      <td>1</td>\n",
       "      <td>0.0</td>\n",
       "      <td>0</td>\n",
       "      <td>0.0</td>\n",
       "      <td>0</td>\n",
       "      <td>0.00</td>\n",
       "      <td>0.20000</td>\n",
       "      <td>0.200000</td>\n",
       "      <td>0.0</td>\n",
       "      <td>0.0</td>\n",
       "      <td>Feb</td>\n",
       "      <td>Mac OS</td>\n",
       "      <td>Chrome</td>\n",
       "      <td>Central</td>\n",
       "      <td>Others</td>\n",
       "      <td>Returning_Visitor</td>\n",
       "      <td>True</td>\n",
       "      <td>False</td>\n",
       "    </tr>\n",
       "    <tr>\n",
       "      <th>10</th>\n",
       "      <td>0</td>\n",
       "      <td>0.0</td>\n",
       "      <td>0</td>\n",
       "      <td>0.0</td>\n",
       "      <td>3</td>\n",
       "      <td>395.00</td>\n",
       "      <td>0.00000</td>\n",
       "      <td>0.066667</td>\n",
       "      <td>0.0</td>\n",
       "      <td>0.0</td>\n",
       "      <td>Feb</td>\n",
       "      <td>Mac OS</td>\n",
       "      <td>Safari</td>\n",
       "      <td>Eastern</td>\n",
       "      <td>Referral</td>\n",
       "      <td>Returning_Visitor</td>\n",
       "      <td>False</td>\n",
       "      <td>False</td>\n",
       "    </tr>\n",
       "    <tr>\n",
       "      <th>11</th>\n",
       "      <td>0</td>\n",
       "      <td>0.0</td>\n",
       "      <td>0</td>\n",
       "      <td>0.0</td>\n",
       "      <td>16</td>\n",
       "      <td>407.75</td>\n",
       "      <td>0.01875</td>\n",
       "      <td>0.025833</td>\n",
       "      <td>0.0</td>\n",
       "      <td>0.4</td>\n",
       "      <td>Feb</td>\n",
       "      <td>Mac OS</td>\n",
       "      <td>Safari</td>\n",
       "      <td>Western</td>\n",
       "      <td>Referral</td>\n",
       "      <td>Returning_Visitor</td>\n",
       "      <td>False</td>\n",
       "      <td>False</td>\n",
       "    </tr>\n",
       "    <tr>\n",
       "      <th>12</th>\n",
       "      <td>0</td>\n",
       "      <td>0.0</td>\n",
       "      <td>0</td>\n",
       "      <td>0.0</td>\n",
       "      <td>7</td>\n",
       "      <td>280.50</td>\n",
       "      <td>0.00000</td>\n",
       "      <td>0.028571</td>\n",
       "      <td>0.0</td>\n",
       "      <td>0.0</td>\n",
       "      <td>Feb</td>\n",
       "      <td>Mac OS</td>\n",
       "      <td>Safari</td>\n",
       "      <td>Central</td>\n",
       "      <td>Referral</td>\n",
       "      <td>Returning_Visitor</td>\n",
       "      <td>False</td>\n",
       "      <td>False</td>\n",
       "    </tr>\n",
       "  </tbody>\n",
       "</table>\n",
       "</div>"
      ],
      "text/plain": [
       "    administrative  administrative_duration  informational  \\\n",
       "0                0                      0.0              0   \n",
       "7                1                      0.0              0   \n",
       "10               0                      0.0              0   \n",
       "11               0                      0.0              0   \n",
       "12               0                      0.0              0   \n",
       "\n",
       "    informational_duration  productrelated  productrelated_duration  \\\n",
       "0                      0.0               1                     0.00   \n",
       "7                      0.0               0                     0.00   \n",
       "10                     0.0               3                   395.00   \n",
       "11                     0.0              16                   407.75   \n",
       "12                     0.0               7                   280.50   \n",
       "\n",
       "    bouncerates  exitrates  pagevalues  specialday month operatingsystems  \\\n",
       "0       0.20000   0.200000         0.0         0.0   Feb           Mac OS   \n",
       "7       0.20000   0.200000         0.0         0.0   Feb           Mac OS   \n",
       "10      0.00000   0.066667         0.0         0.0   Feb           Mac OS   \n",
       "11      0.01875   0.025833         0.0         0.4   Feb           Mac OS   \n",
       "12      0.00000   0.028571         0.0         0.0   Feb           Mac OS   \n",
       "\n",
       "   browser   region traffictype        visitortype  weekend  revenue  \n",
       "0   Safari  Central      Direct  Returning_Visitor    False    False  \n",
       "7   Chrome  Central      Others  Returning_Visitor     True    False  \n",
       "10  Safari  Eastern    Referral  Returning_Visitor    False    False  \n",
       "11  Safari  Western    Referral  Returning_Visitor    False    False  \n",
       "12  Safari  Central    Referral  Returning_Visitor    False    False  "
      ]
     },
     "execution_count": 50,
     "metadata": {},
     "output_type": "execute_result"
    }
   ],
   "source": [
    "mac_visitors = data1[data1['operatingsystems'] == 'Mac OS']\n",
    "mac_visitors.head()"
   ]
  },
  {
   "cell_type": "code",
   "execution_count": 51,
   "id": "23dc1af2",
   "metadata": {},
   "outputs": [
    {
     "data": {
      "text/html": [
       "<div>\n",
       "<style scoped>\n",
       "    .dataframe tbody tr th:only-of-type {\n",
       "        vertical-align: middle;\n",
       "    }\n",
       "\n",
       "    .dataframe tbody tr th {\n",
       "        vertical-align: top;\n",
       "    }\n",
       "\n",
       "    .dataframe thead th {\n",
       "        text-align: right;\n",
       "    }\n",
       "</style>\n",
       "<table border=\"1\" class=\"dataframe\">\n",
       "  <thead>\n",
       "    <tr style=\"text-align: right;\">\n",
       "      <th></th>\n",
       "      <th>administrative</th>\n",
       "      <th>administrative_duration</th>\n",
       "      <th>informational</th>\n",
       "      <th>informational_duration</th>\n",
       "      <th>productrelated</th>\n",
       "      <th>productrelated_duration</th>\n",
       "      <th>bouncerates</th>\n",
       "      <th>exitrates</th>\n",
       "      <th>pagevalues</th>\n",
       "      <th>specialday</th>\n",
       "      <th>month</th>\n",
       "      <th>operatingsystems</th>\n",
       "      <th>browser</th>\n",
       "      <th>region</th>\n",
       "      <th>traffictype</th>\n",
       "      <th>visitortype</th>\n",
       "      <th>weekend</th>\n",
       "      <th>revenue</th>\n",
       "    </tr>\n",
       "  </thead>\n",
       "  <tbody>\n",
       "    <tr>\n",
       "      <th>101</th>\n",
       "      <td>4</td>\n",
       "      <td>61.000000</td>\n",
       "      <td>0</td>\n",
       "      <td>0.0</td>\n",
       "      <td>19</td>\n",
       "      <td>607.000000</td>\n",
       "      <td>0.000000</td>\n",
       "      <td>0.026984</td>\n",
       "      <td>17.535959</td>\n",
       "      <td>1.0</td>\n",
       "      <td>Feb</td>\n",
       "      <td>Mac OS</td>\n",
       "      <td>Safari</td>\n",
       "      <td>Southern</td>\n",
       "      <td>Email marketing</td>\n",
       "      <td>Returning_Visitor</td>\n",
       "      <td>True</td>\n",
       "      <td>True</td>\n",
       "    </tr>\n",
       "    <tr>\n",
       "      <th>276</th>\n",
       "      <td>4</td>\n",
       "      <td>15.000000</td>\n",
       "      <td>0</td>\n",
       "      <td>0.0</td>\n",
       "      <td>10</td>\n",
       "      <td>197.200000</td>\n",
       "      <td>0.000000</td>\n",
       "      <td>0.016667</td>\n",
       "      <td>38.990000</td>\n",
       "      <td>0.0</td>\n",
       "      <td>Mar</td>\n",
       "      <td>Mac OS</td>\n",
       "      <td>Safari</td>\n",
       "      <td>Central</td>\n",
       "      <td>Referral</td>\n",
       "      <td>Returning_Visitor</td>\n",
       "      <td>True</td>\n",
       "      <td>True</td>\n",
       "    </tr>\n",
       "    <tr>\n",
       "      <th>379</th>\n",
       "      <td>2</td>\n",
       "      <td>102.500000</td>\n",
       "      <td>3</td>\n",
       "      <td>60.0</td>\n",
       "      <td>22</td>\n",
       "      <td>1034.975000</td>\n",
       "      <td>0.000000</td>\n",
       "      <td>0.014000</td>\n",
       "      <td>16.143840</td>\n",
       "      <td>0.0</td>\n",
       "      <td>Mar</td>\n",
       "      <td>Mac OS</td>\n",
       "      <td>Safari</td>\n",
       "      <td>Western</td>\n",
       "      <td>Organic</td>\n",
       "      <td>Returning_Visitor</td>\n",
       "      <td>False</td>\n",
       "      <td>True</td>\n",
       "    </tr>\n",
       "    <tr>\n",
       "      <th>408</th>\n",
       "      <td>8</td>\n",
       "      <td>237.500000</td>\n",
       "      <td>4</td>\n",
       "      <td>142.0</td>\n",
       "      <td>30</td>\n",
       "      <td>1569.625000</td>\n",
       "      <td>0.000000</td>\n",
       "      <td>0.008108</td>\n",
       "      <td>15.889064</td>\n",
       "      <td>0.0</td>\n",
       "      <td>Mar</td>\n",
       "      <td>Mac OS</td>\n",
       "      <td>Chrome</td>\n",
       "      <td>Central</td>\n",
       "      <td>Others</td>\n",
       "      <td>Returning_Visitor</td>\n",
       "      <td>True</td>\n",
       "      <td>True</td>\n",
       "    </tr>\n",
       "    <tr>\n",
       "      <th>621</th>\n",
       "      <td>3</td>\n",
       "      <td>92.833333</td>\n",
       "      <td>0</td>\n",
       "      <td>0.0</td>\n",
       "      <td>24</td>\n",
       "      <td>463.816667</td>\n",
       "      <td>0.002667</td>\n",
       "      <td>0.015333</td>\n",
       "      <td>17.842307</td>\n",
       "      <td>0.0</td>\n",
       "      <td>Mar</td>\n",
       "      <td>Mac OS</td>\n",
       "      <td>Safari</td>\n",
       "      <td>Central</td>\n",
       "      <td>Organic</td>\n",
       "      <td>Returning_Visitor</td>\n",
       "      <td>False</td>\n",
       "      <td>True</td>\n",
       "    </tr>\n",
       "  </tbody>\n",
       "</table>\n",
       "</div>"
      ],
      "text/plain": [
       "     administrative  administrative_duration  informational  \\\n",
       "101               4                61.000000              0   \n",
       "276               4                15.000000              0   \n",
       "379               2               102.500000              3   \n",
       "408               8               237.500000              4   \n",
       "621               3                92.833333              0   \n",
       "\n",
       "     informational_duration  productrelated  productrelated_duration  \\\n",
       "101                     0.0              19               607.000000   \n",
       "276                     0.0              10               197.200000   \n",
       "379                    60.0              22              1034.975000   \n",
       "408                   142.0              30              1569.625000   \n",
       "621                     0.0              24               463.816667   \n",
       "\n",
       "     bouncerates  exitrates  pagevalues  specialday month operatingsystems  \\\n",
       "101     0.000000   0.026984   17.535959         1.0   Feb           Mac OS   \n",
       "276     0.000000   0.016667   38.990000         0.0   Mar           Mac OS   \n",
       "379     0.000000   0.014000   16.143840         0.0   Mar           Mac OS   \n",
       "408     0.000000   0.008108   15.889064         0.0   Mar           Mac OS   \n",
       "621     0.002667   0.015333   17.842307         0.0   Mar           Mac OS   \n",
       "\n",
       "    browser    region      traffictype        visitortype  weekend  revenue  \n",
       "101  Safari  Southern  Email marketing  Returning_Visitor     True     True  \n",
       "276  Safari   Central         Referral  Returning_Visitor     True     True  \n",
       "379  Safari   Western          Organic  Returning_Visitor    False     True  \n",
       "408  Chrome   Central           Others  Returning_Visitor     True     True  \n",
       "621  Safari   Central          Organic  Returning_Visitor    False     True  "
      ]
     },
     "execution_count": 51,
     "metadata": {},
     "output_type": "execute_result"
    }
   ],
   "source": [
    "mac_customers = data1[(data1['operatingsystems'] == 'Mac OS') & (data1['revenue'] == True)]\n",
    "mac_customers.head()"
   ]
  },
  {
   "cell_type": "code",
   "execution_count": 52,
   "id": "f8e6cb6b",
   "metadata": {},
   "outputs": [
    {
     "name": "stdout",
     "output_type": "stream",
     "text": [
      "Cpnvertion ratio of MAC users:  0.15\n"
     ]
    }
   ],
   "source": [
    "perc_conversion_mac = len(mac_customers)/len(mac_visitors)\n",
    "print(\"Cpnvertion ratio of MAC users: \", round(perc_conversion_mac,2))"
   ]
  },
  {
   "cell_type": "markdown",
   "id": "2dd4bb54",
   "metadata": {},
   "source": [
    "### Findings\n",
    "1. The conversion rate for MAC OS is lower than the general store rate\n",
    "2. Unfortunately, our store does not resonate with MAC users. This would have been a good niche for us to exploit"
   ]
  },
  {
   "cell_type": "markdown",
   "id": "f095bdd2",
   "metadata": {},
   "source": [
    " ## Corellations between the various columns\n",
    " ### For this, I will use the original dataframe - data"
   ]
  },
  {
   "cell_type": "code",
   "execution_count": 53,
   "id": "58373dc6",
   "metadata": {},
   "outputs": [
    {
     "data": {
      "text/plain": [
       "(12330, 2)"
      ]
     },
     "metadata": {},
     "output_type": "display_data"
    },
    {
     "data": {
      "text/plain": [
       "Index(['month', 'visitortype'], dtype='object')"
      ]
     },
     "metadata": {},
     "output_type": "display_data"
    }
   ],
   "source": [
    "# Get categorical columns\n",
    "categorical = data.select_dtypes(object)\n",
    "display(categorical.shape)\n",
    "display(categorical.columns)"
   ]
  },
  {
   "cell_type": "code",
   "execution_count": 55,
   "id": "1e45ea3f",
   "metadata": {},
   "outputs": [
    {
     "data": {
      "text/plain": [
       "array(['Feb', 'Mar', 'May', 'Oct', 'June', 'Jul', 'Aug', 'Nov', 'Sep',\n",
       "       'Dec'], dtype=object)"
      ]
     },
     "execution_count": 55,
     "metadata": {},
     "output_type": "execute_result"
    }
   ],
   "source": [
    "# Encoding the month column\n",
    "data['month'].unique()"
   ]
  },
  {
   "cell_type": "code",
   "execution_count": 56,
   "id": "41926657",
   "metadata": {},
   "outputs": [
    {
     "data": {
      "text/plain": [
       "array([ 2,  3,  5, 10,  6,  7,  8, 11,  9, 12], dtype=int64)"
      ]
     },
     "execution_count": 56,
     "metadata": {},
     "output_type": "execute_result"
    }
   ],
   "source": [
    "data['month'] = data['month'].map({'Feb':2,'Mar':3,'May':5,'June':6, 'Jul':7, 'Aug':8,'Nov':11,'Sep':9,'Dec':12,'Oct':10})\n",
    "data['month'].unique()"
   ]
  },
  {
   "cell_type": "code",
   "execution_count": 57,
   "id": "dbc98ba9",
   "metadata": {},
   "outputs": [
    {
     "data": {
      "text/plain": [
       "array(['Returning_Visitor', 'New_Visitor', 'Other'], dtype=object)"
      ]
     },
     "execution_count": 57,
     "metadata": {},
     "output_type": "execute_result"
    }
   ],
   "source": [
    "# Encoding the visitorType\n",
    "data['visitortype'].unique()"
   ]
  },
  {
   "cell_type": "code",
   "execution_count": 58,
   "id": "b71f9584",
   "metadata": {},
   "outputs": [
    {
     "data": {
      "text/plain": [
       "array([1, 2, 3], dtype=int64)"
      ]
     },
     "execution_count": 58,
     "metadata": {},
     "output_type": "execute_result"
    }
   ],
   "source": [
    "data['visitortype'] = data['visitortype'].map({'Returning_Visitor':1,'New_Visitor':2,'Other':3})\n",
    "data['visitortype'].unique()"
   ]
  },
  {
   "cell_type": "code",
   "execution_count": 59,
   "id": "96d7148f",
   "metadata": {},
   "outputs": [
    {
     "data": {
      "text/plain": [
       "array([0, 1], dtype=int64)"
      ]
     },
     "metadata": {},
     "output_type": "display_data"
    },
    {
     "data": {
      "text/plain": [
       "array([0, 1], dtype=int64)"
      ]
     },
     "metadata": {},
     "output_type": "display_data"
    }
   ],
   "source": [
    "def boolean_clean(x):\n",
    "    if x == True:\n",
    "        return 1\n",
    "    elif x == False:\n",
    "        return 0\n",
    "    else:\n",
    "        return x\n",
    "data['weekend'] = data['weekend'].apply(lambda x: boolean_clean(x))\n",
    "data['revenue'] = data['revenue'].apply(lambda x: boolean_clean(x))\n",
    "display(data['weekend'].unique())\n",
    "display(data['revenue'].unique())"
   ]
  },
  {
   "cell_type": "code",
   "execution_count": 60,
   "id": "39d34bc1",
   "metadata": {},
   "outputs": [
    {
     "data": {
      "text/plain": [
       "(12330, 0)"
      ]
     },
     "metadata": {},
     "output_type": "display_data"
    },
    {
     "data": {
      "text/plain": [
       "Index([], dtype='object')"
      ]
     },
     "metadata": {},
     "output_type": "display_data"
    }
   ],
   "source": [
    "# Check if there are any categoricals left\n",
    "categorical = data.select_dtypes(object)\n",
    "display(categorical.shape)\n",
    "display(categorical.columns)"
   ]
  },
  {
   "cell_type": "code",
   "execution_count": 62,
   "id": "cfad88fe",
   "metadata": {},
   "outputs": [
    {
     "data": {
      "text/html": [
       "<div>\n",
       "<style scoped>\n",
       "    .dataframe tbody tr th:only-of-type {\n",
       "        vertical-align: middle;\n",
       "    }\n",
       "\n",
       "    .dataframe tbody tr th {\n",
       "        vertical-align: top;\n",
       "    }\n",
       "\n",
       "    .dataframe thead th {\n",
       "        text-align: right;\n",
       "    }\n",
       "</style>\n",
       "<table border=\"1\" class=\"dataframe\">\n",
       "  <thead>\n",
       "    <tr style=\"text-align: right;\">\n",
       "      <th></th>\n",
       "      <th>administrative</th>\n",
       "      <th>administrative_duration</th>\n",
       "      <th>informational</th>\n",
       "      <th>informational_duration</th>\n",
       "      <th>productrelated</th>\n",
       "      <th>productrelated_duration</th>\n",
       "      <th>bouncerates</th>\n",
       "      <th>exitrates</th>\n",
       "      <th>pagevalues</th>\n",
       "      <th>specialday</th>\n",
       "      <th>month</th>\n",
       "      <th>operatingsystems</th>\n",
       "      <th>browser</th>\n",
       "      <th>region</th>\n",
       "      <th>traffictype</th>\n",
       "      <th>visitortype</th>\n",
       "      <th>weekend</th>\n",
       "      <th>revenue</th>\n",
       "    </tr>\n",
       "  </thead>\n",
       "  <tbody>\n",
       "    <tr>\n",
       "      <th>administrative</th>\n",
       "      <td>1.000000</td>\n",
       "      <td>0.601583</td>\n",
       "      <td>0.376850</td>\n",
       "      <td>0.255848</td>\n",
       "      <td>0.431119</td>\n",
       "      <td>0.373939</td>\n",
       "      <td>-0.223563</td>\n",
       "      <td>-0.316483</td>\n",
       "      <td>0.098990</td>\n",
       "      <td>-0.094778</td>\n",
       "      <td>0.096713</td>\n",
       "      <td>-0.006347</td>\n",
       "      <td>-0.025035</td>\n",
       "      <td>-0.005487</td>\n",
       "      <td>-0.033561</td>\n",
       "      <td>0.016680</td>\n",
       "      <td>0.026417</td>\n",
       "      <td>0.138917</td>\n",
       "    </tr>\n",
       "    <tr>\n",
       "      <th>administrative_duration</th>\n",
       "      <td>0.601583</td>\n",
       "      <td>1.000000</td>\n",
       "      <td>0.302710</td>\n",
       "      <td>0.238031</td>\n",
       "      <td>0.289087</td>\n",
       "      <td>0.355422</td>\n",
       "      <td>-0.144170</td>\n",
       "      <td>-0.205798</td>\n",
       "      <td>0.067608</td>\n",
       "      <td>-0.073304</td>\n",
       "      <td>0.057885</td>\n",
       "      <td>-0.007343</td>\n",
       "      <td>-0.015392</td>\n",
       "      <td>-0.005561</td>\n",
       "      <td>-0.014376</td>\n",
       "      <td>0.019120</td>\n",
       "      <td>0.014990</td>\n",
       "      <td>0.093587</td>\n",
       "    </tr>\n",
       "    <tr>\n",
       "      <th>informational</th>\n",
       "      <td>0.376850</td>\n",
       "      <td>0.302710</td>\n",
       "      <td>1.000000</td>\n",
       "      <td>0.618955</td>\n",
       "      <td>0.374164</td>\n",
       "      <td>0.387505</td>\n",
       "      <td>-0.116114</td>\n",
       "      <td>-0.163666</td>\n",
       "      <td>0.048632</td>\n",
       "      <td>-0.048219</td>\n",
       "      <td>0.063500</td>\n",
       "      <td>-0.009527</td>\n",
       "      <td>-0.038235</td>\n",
       "      <td>-0.029169</td>\n",
       "      <td>-0.034491</td>\n",
       "      <td>-0.058211</td>\n",
       "      <td>0.035785</td>\n",
       "      <td>0.095200</td>\n",
       "    </tr>\n",
       "    <tr>\n",
       "      <th>informational_duration</th>\n",
       "      <td>0.255848</td>\n",
       "      <td>0.238031</td>\n",
       "      <td>0.618955</td>\n",
       "      <td>1.000000</td>\n",
       "      <td>0.280046</td>\n",
       "      <td>0.347364</td>\n",
       "      <td>-0.074067</td>\n",
       "      <td>-0.105276</td>\n",
       "      <td>0.030861</td>\n",
       "      <td>-0.030577</td>\n",
       "      <td>0.044354</td>\n",
       "      <td>-0.009579</td>\n",
       "      <td>-0.019285</td>\n",
       "      <td>-0.027144</td>\n",
       "      <td>-0.024675</td>\n",
       "      <td>-0.045372</td>\n",
       "      <td>0.024078</td>\n",
       "      <td>0.070345</td>\n",
       "    </tr>\n",
       "    <tr>\n",
       "      <th>productrelated</th>\n",
       "      <td>0.431119</td>\n",
       "      <td>0.289087</td>\n",
       "      <td>0.374164</td>\n",
       "      <td>0.280046</td>\n",
       "      <td>1.000000</td>\n",
       "      <td>0.860927</td>\n",
       "      <td>-0.204578</td>\n",
       "      <td>-0.292526</td>\n",
       "      <td>0.056282</td>\n",
       "      <td>-0.023958</td>\n",
       "      <td>0.156022</td>\n",
       "      <td>0.004290</td>\n",
       "      <td>-0.013146</td>\n",
       "      <td>-0.038122</td>\n",
       "      <td>-0.043064</td>\n",
       "      <td>-0.127916</td>\n",
       "      <td>0.016092</td>\n",
       "      <td>0.158538</td>\n",
       "    </tr>\n",
       "    <tr>\n",
       "      <th>productrelated_duration</th>\n",
       "      <td>0.373939</td>\n",
       "      <td>0.355422</td>\n",
       "      <td>0.387505</td>\n",
       "      <td>0.347364</td>\n",
       "      <td>0.860927</td>\n",
       "      <td>1.000000</td>\n",
       "      <td>-0.184541</td>\n",
       "      <td>-0.251984</td>\n",
       "      <td>0.052823</td>\n",
       "      <td>-0.036380</td>\n",
       "      <td>0.137520</td>\n",
       "      <td>0.002976</td>\n",
       "      <td>-0.007380</td>\n",
       "      <td>-0.033091</td>\n",
       "      <td>-0.036377</td>\n",
       "      <td>-0.118273</td>\n",
       "      <td>0.007311</td>\n",
       "      <td>0.152373</td>\n",
       "    </tr>\n",
       "    <tr>\n",
       "      <th>bouncerates</th>\n",
       "      <td>-0.223563</td>\n",
       "      <td>-0.144170</td>\n",
       "      <td>-0.116114</td>\n",
       "      <td>-0.074067</td>\n",
       "      <td>-0.204578</td>\n",
       "      <td>-0.184541</td>\n",
       "      <td>1.000000</td>\n",
       "      <td>0.913004</td>\n",
       "      <td>-0.119386</td>\n",
       "      <td>0.072702</td>\n",
       "      <td>-0.066562</td>\n",
       "      <td>0.023823</td>\n",
       "      <td>-0.015772</td>\n",
       "      <td>-0.006485</td>\n",
       "      <td>0.078286</td>\n",
       "      <td>-0.114916</td>\n",
       "      <td>-0.046514</td>\n",
       "      <td>-0.150673</td>\n",
       "    </tr>\n",
       "    <tr>\n",
       "      <th>exitrates</th>\n",
       "      <td>-0.316483</td>\n",
       "      <td>-0.205798</td>\n",
       "      <td>-0.163666</td>\n",
       "      <td>-0.105276</td>\n",
       "      <td>-0.292526</td>\n",
       "      <td>-0.251984</td>\n",
       "      <td>0.913004</td>\n",
       "      <td>1.000000</td>\n",
       "      <td>-0.174498</td>\n",
       "      <td>0.102242</td>\n",
       "      <td>-0.095465</td>\n",
       "      <td>0.014567</td>\n",
       "      <td>-0.004442</td>\n",
       "      <td>-0.008907</td>\n",
       "      <td>0.078616</td>\n",
       "      <td>-0.152678</td>\n",
       "      <td>-0.062587</td>\n",
       "      <td>-0.207071</td>\n",
       "    </tr>\n",
       "    <tr>\n",
       "      <th>pagevalues</th>\n",
       "      <td>0.098990</td>\n",
       "      <td>0.067608</td>\n",
       "      <td>0.048632</td>\n",
       "      <td>0.030861</td>\n",
       "      <td>0.056282</td>\n",
       "      <td>0.052823</td>\n",
       "      <td>-0.119386</td>\n",
       "      <td>-0.174498</td>\n",
       "      <td>1.000000</td>\n",
       "      <td>-0.063541</td>\n",
       "      <td>0.067198</td>\n",
       "      <td>0.018508</td>\n",
       "      <td>0.045592</td>\n",
       "      <td>0.011315</td>\n",
       "      <td>0.012532</td>\n",
       "      <td>0.120077</td>\n",
       "      <td>0.012002</td>\n",
       "      <td>0.492569</td>\n",
       "    </tr>\n",
       "    <tr>\n",
       "      <th>specialday</th>\n",
       "      <td>-0.094778</td>\n",
       "      <td>-0.073304</td>\n",
       "      <td>-0.048219</td>\n",
       "      <td>-0.030577</td>\n",
       "      <td>-0.023958</td>\n",
       "      <td>-0.036380</td>\n",
       "      <td>0.072702</td>\n",
       "      <td>0.102242</td>\n",
       "      <td>-0.063541</td>\n",
       "      <td>1.000000</td>\n",
       "      <td>-0.256901</td>\n",
       "      <td>0.012652</td>\n",
       "      <td>0.003499</td>\n",
       "      <td>-0.016098</td>\n",
       "      <td>0.052301</td>\n",
       "      <td>-0.086854</td>\n",
       "      <td>-0.016767</td>\n",
       "      <td>-0.082305</td>\n",
       "    </tr>\n",
       "    <tr>\n",
       "      <th>month</th>\n",
       "      <td>0.096713</td>\n",
       "      <td>0.057885</td>\n",
       "      <td>0.063500</td>\n",
       "      <td>0.044354</td>\n",
       "      <td>0.156022</td>\n",
       "      <td>0.137520</td>\n",
       "      <td>-0.066562</td>\n",
       "      <td>-0.095465</td>\n",
       "      <td>0.067198</td>\n",
       "      <td>-0.256901</td>\n",
       "      <td>1.000000</td>\n",
       "      <td>0.038407</td>\n",
       "      <td>0.020120</td>\n",
       "      <td>0.023894</td>\n",
       "      <td>0.054941</td>\n",
       "      <td>0.126110</td>\n",
       "      <td>0.017150</td>\n",
       "      <td>0.127372</td>\n",
       "    </tr>\n",
       "    <tr>\n",
       "      <th>operatingsystems</th>\n",
       "      <td>-0.006347</td>\n",
       "      <td>-0.007343</td>\n",
       "      <td>-0.009527</td>\n",
       "      <td>-0.009579</td>\n",
       "      <td>0.004290</td>\n",
       "      <td>0.002976</td>\n",
       "      <td>0.023823</td>\n",
       "      <td>0.014567</td>\n",
       "      <td>0.018508</td>\n",
       "      <td>0.012652</td>\n",
       "      <td>0.038407</td>\n",
       "      <td>1.000000</td>\n",
       "      <td>0.223013</td>\n",
       "      <td>0.076775</td>\n",
       "      <td>0.189154</td>\n",
       "      <td>0.109981</td>\n",
       "      <td>0.000284</td>\n",
       "      <td>-0.014668</td>\n",
       "    </tr>\n",
       "    <tr>\n",
       "      <th>browser</th>\n",
       "      <td>-0.025035</td>\n",
       "      <td>-0.015392</td>\n",
       "      <td>-0.038235</td>\n",
       "      <td>-0.019285</td>\n",
       "      <td>-0.013146</td>\n",
       "      <td>-0.007380</td>\n",
       "      <td>-0.015772</td>\n",
       "      <td>-0.004442</td>\n",
       "      <td>0.045592</td>\n",
       "      <td>0.003499</td>\n",
       "      <td>0.020120</td>\n",
       "      <td>0.223013</td>\n",
       "      <td>1.000000</td>\n",
       "      <td>0.097393</td>\n",
       "      <td>0.111938</td>\n",
       "      <td>0.124456</td>\n",
       "      <td>-0.040261</td>\n",
       "      <td>0.023984</td>\n",
       "    </tr>\n",
       "    <tr>\n",
       "      <th>region</th>\n",
       "      <td>-0.005487</td>\n",
       "      <td>-0.005561</td>\n",
       "      <td>-0.029169</td>\n",
       "      <td>-0.027144</td>\n",
       "      <td>-0.038122</td>\n",
       "      <td>-0.033091</td>\n",
       "      <td>-0.006485</td>\n",
       "      <td>-0.008907</td>\n",
       "      <td>0.011315</td>\n",
       "      <td>-0.016098</td>\n",
       "      <td>0.023894</td>\n",
       "      <td>0.076775</td>\n",
       "      <td>0.097393</td>\n",
       "      <td>1.000000</td>\n",
       "      <td>0.047520</td>\n",
       "      <td>0.075819</td>\n",
       "      <td>-0.000691</td>\n",
       "      <td>-0.011595</td>\n",
       "    </tr>\n",
       "    <tr>\n",
       "      <th>traffictype</th>\n",
       "      <td>-0.033561</td>\n",
       "      <td>-0.014376</td>\n",
       "      <td>-0.034491</td>\n",
       "      <td>-0.024675</td>\n",
       "      <td>-0.043064</td>\n",
       "      <td>-0.036377</td>\n",
       "      <td>0.078286</td>\n",
       "      <td>0.078616</td>\n",
       "      <td>0.012532</td>\n",
       "      <td>0.052301</td>\n",
       "      <td>0.054941</td>\n",
       "      <td>0.189154</td>\n",
       "      <td>0.111938</td>\n",
       "      <td>0.047520</td>\n",
       "      <td>1.000000</td>\n",
       "      <td>0.068113</td>\n",
       "      <td>-0.002221</td>\n",
       "      <td>-0.005113</td>\n",
       "    </tr>\n",
       "    <tr>\n",
       "      <th>visitortype</th>\n",
       "      <td>0.016680</td>\n",
       "      <td>0.019120</td>\n",
       "      <td>-0.058211</td>\n",
       "      <td>-0.045372</td>\n",
       "      <td>-0.127916</td>\n",
       "      <td>-0.118273</td>\n",
       "      <td>-0.114916</td>\n",
       "      <td>-0.152678</td>\n",
       "      <td>0.120077</td>\n",
       "      <td>-0.086854</td>\n",
       "      <td>0.126110</td>\n",
       "      <td>0.109981</td>\n",
       "      <td>0.124456</td>\n",
       "      <td>0.075819</td>\n",
       "      <td>0.068113</td>\n",
       "      <td>1.000000</td>\n",
       "      <td>0.030262</td>\n",
       "      <td>0.098485</td>\n",
       "    </tr>\n",
       "    <tr>\n",
       "      <th>weekend</th>\n",
       "      <td>0.026417</td>\n",
       "      <td>0.014990</td>\n",
       "      <td>0.035785</td>\n",
       "      <td>0.024078</td>\n",
       "      <td>0.016092</td>\n",
       "      <td>0.007311</td>\n",
       "      <td>-0.046514</td>\n",
       "      <td>-0.062587</td>\n",
       "      <td>0.012002</td>\n",
       "      <td>-0.016767</td>\n",
       "      <td>0.017150</td>\n",
       "      <td>0.000284</td>\n",
       "      <td>-0.040261</td>\n",
       "      <td>-0.000691</td>\n",
       "      <td>-0.002221</td>\n",
       "      <td>0.030262</td>\n",
       "      <td>1.000000</td>\n",
       "      <td>0.029295</td>\n",
       "    </tr>\n",
       "    <tr>\n",
       "      <th>revenue</th>\n",
       "      <td>0.138917</td>\n",
       "      <td>0.093587</td>\n",
       "      <td>0.095200</td>\n",
       "      <td>0.070345</td>\n",
       "      <td>0.158538</td>\n",
       "      <td>0.152373</td>\n",
       "      <td>-0.150673</td>\n",
       "      <td>-0.207071</td>\n",
       "      <td>0.492569</td>\n",
       "      <td>-0.082305</td>\n",
       "      <td>0.127372</td>\n",
       "      <td>-0.014668</td>\n",
       "      <td>0.023984</td>\n",
       "      <td>-0.011595</td>\n",
       "      <td>-0.005113</td>\n",
       "      <td>0.098485</td>\n",
       "      <td>0.029295</td>\n",
       "      <td>1.000000</td>\n",
       "    </tr>\n",
       "  </tbody>\n",
       "</table>\n",
       "</div>"
      ],
      "text/plain": [
       "                         administrative  administrative_duration  \\\n",
       "administrative                 1.000000                 0.601583   \n",
       "administrative_duration        0.601583                 1.000000   \n",
       "informational                  0.376850                 0.302710   \n",
       "informational_duration         0.255848                 0.238031   \n",
       "productrelated                 0.431119                 0.289087   \n",
       "productrelated_duration        0.373939                 0.355422   \n",
       "bouncerates                   -0.223563                -0.144170   \n",
       "exitrates                     -0.316483                -0.205798   \n",
       "pagevalues                     0.098990                 0.067608   \n",
       "specialday                    -0.094778                -0.073304   \n",
       "month                          0.096713                 0.057885   \n",
       "operatingsystems              -0.006347                -0.007343   \n",
       "browser                       -0.025035                -0.015392   \n",
       "region                        -0.005487                -0.005561   \n",
       "traffictype                   -0.033561                -0.014376   \n",
       "visitortype                    0.016680                 0.019120   \n",
       "weekend                        0.026417                 0.014990   \n",
       "revenue                        0.138917                 0.093587   \n",
       "\n",
       "                         informational  informational_duration  \\\n",
       "administrative                0.376850                0.255848   \n",
       "administrative_duration       0.302710                0.238031   \n",
       "informational                 1.000000                0.618955   \n",
       "informational_duration        0.618955                1.000000   \n",
       "productrelated                0.374164                0.280046   \n",
       "productrelated_duration       0.387505                0.347364   \n",
       "bouncerates                  -0.116114               -0.074067   \n",
       "exitrates                    -0.163666               -0.105276   \n",
       "pagevalues                    0.048632                0.030861   \n",
       "specialday                   -0.048219               -0.030577   \n",
       "month                         0.063500                0.044354   \n",
       "operatingsystems             -0.009527               -0.009579   \n",
       "browser                      -0.038235               -0.019285   \n",
       "region                       -0.029169               -0.027144   \n",
       "traffictype                  -0.034491               -0.024675   \n",
       "visitortype                  -0.058211               -0.045372   \n",
       "weekend                       0.035785                0.024078   \n",
       "revenue                       0.095200                0.070345   \n",
       "\n",
       "                         productrelated  productrelated_duration  bouncerates  \\\n",
       "administrative                 0.431119                 0.373939    -0.223563   \n",
       "administrative_duration        0.289087                 0.355422    -0.144170   \n",
       "informational                  0.374164                 0.387505    -0.116114   \n",
       "informational_duration         0.280046                 0.347364    -0.074067   \n",
       "productrelated                 1.000000                 0.860927    -0.204578   \n",
       "productrelated_duration        0.860927                 1.000000    -0.184541   \n",
       "bouncerates                   -0.204578                -0.184541     1.000000   \n",
       "exitrates                     -0.292526                -0.251984     0.913004   \n",
       "pagevalues                     0.056282                 0.052823    -0.119386   \n",
       "specialday                    -0.023958                -0.036380     0.072702   \n",
       "month                          0.156022                 0.137520    -0.066562   \n",
       "operatingsystems               0.004290                 0.002976     0.023823   \n",
       "browser                       -0.013146                -0.007380    -0.015772   \n",
       "region                        -0.038122                -0.033091    -0.006485   \n",
       "traffictype                   -0.043064                -0.036377     0.078286   \n",
       "visitortype                   -0.127916                -0.118273    -0.114916   \n",
       "weekend                        0.016092                 0.007311    -0.046514   \n",
       "revenue                        0.158538                 0.152373    -0.150673   \n",
       "\n",
       "                         exitrates  pagevalues  specialday     month  \\\n",
       "administrative           -0.316483    0.098990   -0.094778  0.096713   \n",
       "administrative_duration  -0.205798    0.067608   -0.073304  0.057885   \n",
       "informational            -0.163666    0.048632   -0.048219  0.063500   \n",
       "informational_duration   -0.105276    0.030861   -0.030577  0.044354   \n",
       "productrelated           -0.292526    0.056282   -0.023958  0.156022   \n",
       "productrelated_duration  -0.251984    0.052823   -0.036380  0.137520   \n",
       "bouncerates               0.913004   -0.119386    0.072702 -0.066562   \n",
       "exitrates                 1.000000   -0.174498    0.102242 -0.095465   \n",
       "pagevalues               -0.174498    1.000000   -0.063541  0.067198   \n",
       "specialday                0.102242   -0.063541    1.000000 -0.256901   \n",
       "month                    -0.095465    0.067198   -0.256901  1.000000   \n",
       "operatingsystems          0.014567    0.018508    0.012652  0.038407   \n",
       "browser                  -0.004442    0.045592    0.003499  0.020120   \n",
       "region                   -0.008907    0.011315   -0.016098  0.023894   \n",
       "traffictype               0.078616    0.012532    0.052301  0.054941   \n",
       "visitortype              -0.152678    0.120077   -0.086854  0.126110   \n",
       "weekend                  -0.062587    0.012002   -0.016767  0.017150   \n",
       "revenue                  -0.207071    0.492569   -0.082305  0.127372   \n",
       "\n",
       "                         operatingsystems   browser    region  traffictype  \\\n",
       "administrative                  -0.006347 -0.025035 -0.005487    -0.033561   \n",
       "administrative_duration         -0.007343 -0.015392 -0.005561    -0.014376   \n",
       "informational                   -0.009527 -0.038235 -0.029169    -0.034491   \n",
       "informational_duration          -0.009579 -0.019285 -0.027144    -0.024675   \n",
       "productrelated                   0.004290 -0.013146 -0.038122    -0.043064   \n",
       "productrelated_duration          0.002976 -0.007380 -0.033091    -0.036377   \n",
       "bouncerates                      0.023823 -0.015772 -0.006485     0.078286   \n",
       "exitrates                        0.014567 -0.004442 -0.008907     0.078616   \n",
       "pagevalues                       0.018508  0.045592  0.011315     0.012532   \n",
       "specialday                       0.012652  0.003499 -0.016098     0.052301   \n",
       "month                            0.038407  0.020120  0.023894     0.054941   \n",
       "operatingsystems                 1.000000  0.223013  0.076775     0.189154   \n",
       "browser                          0.223013  1.000000  0.097393     0.111938   \n",
       "region                           0.076775  0.097393  1.000000     0.047520   \n",
       "traffictype                      0.189154  0.111938  0.047520     1.000000   \n",
       "visitortype                      0.109981  0.124456  0.075819     0.068113   \n",
       "weekend                          0.000284 -0.040261 -0.000691    -0.002221   \n",
       "revenue                         -0.014668  0.023984 -0.011595    -0.005113   \n",
       "\n",
       "                         visitortype   weekend   revenue  \n",
       "administrative              0.016680  0.026417  0.138917  \n",
       "administrative_duration     0.019120  0.014990  0.093587  \n",
       "informational              -0.058211  0.035785  0.095200  \n",
       "informational_duration     -0.045372  0.024078  0.070345  \n",
       "productrelated             -0.127916  0.016092  0.158538  \n",
       "productrelated_duration    -0.118273  0.007311  0.152373  \n",
       "bouncerates                -0.114916 -0.046514 -0.150673  \n",
       "exitrates                  -0.152678 -0.062587 -0.207071  \n",
       "pagevalues                  0.120077  0.012002  0.492569  \n",
       "specialday                 -0.086854 -0.016767 -0.082305  \n",
       "month                       0.126110  0.017150  0.127372  \n",
       "operatingsystems            0.109981  0.000284 -0.014668  \n",
       "browser                     0.124456 -0.040261  0.023984  \n",
       "region                      0.075819 -0.000691 -0.011595  \n",
       "traffictype                 0.068113 -0.002221 -0.005113  \n",
       "visitortype                 1.000000  0.030262  0.098485  \n",
       "weekend                     0.030262  1.000000  0.029295  \n",
       "revenue                     0.098485  0.029295  1.000000  "
      ]
     },
     "execution_count": 62,
     "metadata": {},
     "output_type": "execute_result"
    }
   ],
   "source": [
    "correlations_matrix = data.corr()\n",
    "correlations_matrix"
   ]
  },
  {
   "cell_type": "code",
   "execution_count": 63,
   "id": "fe0d66a7",
   "metadata": {},
   "outputs": [
    {
     "data": {
      "text/plain": [
       "0    10422\n",
       "1     1908\n",
       "Name: revenue, dtype: int64"
      ]
     },
     "execution_count": 63,
     "metadata": {},
     "output_type": "execute_result"
    }
   ],
   "source": [
    "data['revenue'].value_counts()"
   ]
  },
  {
   "cell_type": "code",
   "execution_count": 64,
   "id": "3804ea11",
   "metadata": {},
   "outputs": [
    {
     "data": {
      "text/plain": [
       "<AxesSubplot:>"
      ]
     },
     "execution_count": 64,
     "metadata": {},
     "output_type": "execute_result"
    },
    {
     "data": {
      "image/png": "[encoded data removed]",
      "text/plain": [
       "<Figure size 1440x720 with 2 Axes>"
      ]
     },
     "metadata": {
      "needs_background": "light"
     },
     "output_type": "display_data"
    }
   ],
   "source": [
    "import seaborn as sns\n",
    "fig, ax = plt.subplots(figsize=(20,10))         # Sample figsize in inches\n",
    "sns.heatmap(correlations_matrix, ax=ax, linewidth=3.1,annot=True,center=1)\n"
   ]
  },
  {
   "cell_type": "code",
   "execution_count": 65,
   "id": "a7405137",
   "metadata": {},
   "outputs": [
    {
     "data": {
      "text/plain": [
       "Index(['informational', 'informational_duration', 'productrelated',\n",
       "       'productrelated_duration', 'bouncerates', 'exitrates', 'pagevalues',\n",
       "       'specialday', 'month', 'operatingsystems', 'browser', 'region',\n",
       "       'traffictype', 'visitortype', 'weekend', 'revenue',\n",
       "       'final_administrative'],\n",
       "      dtype='object')"
      ]
     },
     "execution_count": 65,
     "metadata": {},
     "output_type": "execute_result"
    }
   ],
   "source": [
    "# Combine the two column of administrative_duration and administrative\n",
    "data['final_administrative'] = data['administrative_duration'] + data['administrative']\n",
    "data = data.drop(['administrative_duration','administrative'], axis = 1)\n",
    "# data.columns = ['informational', 'informational_duration', 'productrelated',\n",
    "#        'productrelated_duration', 'bouncerates', 'exitrates', 'pagevalues',\n",
    "#        'specialday', 'month', 'operatingsystems', 'browser', 'region',\n",
    "#        'traffictype', 'visitortype', 'weekend', 'final_administrative','revenue']\n",
    "\n",
    "data.columns\n",
    "       "
   ]
  },
  {
   "cell_type": "code",
   "execution_count": 66,
   "id": "496fcad1",
   "metadata": {},
   "outputs": [],
   "source": [
    "#data['revenue'].value_counts()"
   ]
  },
  {
   "cell_type": "code",
   "execution_count": 67,
   "id": "593b427f",
   "metadata": {},
   "outputs": [
    {
     "data": {
      "text/plain": [
       "(12330, 17)"
      ]
     },
     "execution_count": 67,
     "metadata": {},
     "output_type": "execute_result"
    }
   ],
   "source": [
    "data.shape"
   ]
  },
  {
   "cell_type": "code",
   "execution_count": 68,
   "id": "c06eec76",
   "metadata": {},
   "outputs": [
    {
     "data": {
      "text/plain": [
       "0    10422\n",
       "1     1908\n",
       "Name: revenue, dtype: int64"
      ]
     },
     "execution_count": 68,
     "metadata": {},
     "output_type": "execute_result"
    }
   ],
   "source": [
    "data['revenue'].value_counts()"
   ]
  },
  {
   "cell_type": "code",
   "execution_count": 69,
   "id": "b975298f",
   "metadata": {},
   "outputs": [
    {
     "data": {
      "text/plain": [
       "(10422, 17)"
      ]
     },
     "execution_count": 69,
     "metadata": {},
     "output_type": "execute_result"
    }
   ],
   "source": [
    "final_visitors = data[data['revenue'] == 0]\n",
    "final_visitors.shape"
   ]
  },
  {
   "cell_type": "code",
   "execution_count": 70,
   "id": "798d7050",
   "metadata": {},
   "outputs": [
    {
     "data": {
      "text/plain": [
       "(1908, 17)"
      ]
     },
     "execution_count": 70,
     "metadata": {},
     "output_type": "execute_result"
    }
   ],
   "source": [
    "# FIlter out visitors and customers\n",
    "final_customer = data[data['revenue'] == 1]\n",
    "final_customer.shape"
   ]
  },
  {
   "cell_type": "code",
   "execution_count": 71,
   "id": "a0bb17bb",
   "metadata": {},
   "outputs": [
    {
     "data": {
      "text/html": [
       "<div>\n",
       "<style scoped>\n",
       "    .dataframe tbody tr th:only-of-type {\n",
       "        vertical-align: middle;\n",
       "    }\n",
       "\n",
       "    .dataframe tbody tr th {\n",
       "        vertical-align: top;\n",
       "    }\n",
       "\n",
       "    .dataframe thead th {\n",
       "        text-align: right;\n",
       "    }\n",
       "</style>\n",
       "<table border=\"1\" class=\"dataframe\">\n",
       "  <thead>\n",
       "    <tr style=\"text-align: right;\">\n",
       "      <th></th>\n",
       "      <th>informational</th>\n",
       "      <th>informational_duration</th>\n",
       "      <th>productrelated</th>\n",
       "      <th>productrelated_duration</th>\n",
       "      <th>bouncerates</th>\n",
       "      <th>exitrates</th>\n",
       "      <th>pagevalues</th>\n",
       "      <th>specialday</th>\n",
       "      <th>month</th>\n",
       "      <th>operatingsystems</th>\n",
       "      <th>browser</th>\n",
       "      <th>region</th>\n",
       "      <th>traffictype</th>\n",
       "      <th>visitortype</th>\n",
       "      <th>weekend</th>\n",
       "      <th>revenue</th>\n",
       "      <th>final_administrative</th>\n",
       "    </tr>\n",
       "  </thead>\n",
       "  <tbody>\n",
       "    <tr>\n",
       "      <th>informational</th>\n",
       "      <td>1.000000</td>\n",
       "      <td>0.627955</td>\n",
       "      <td>0.337087</td>\n",
       "      <td>0.354347</td>\n",
       "      <td>0.018997</td>\n",
       "      <td>-0.035256</td>\n",
       "      <td>-0.136234</td>\n",
       "      <td>-0.024415</td>\n",
       "      <td>0.008114</td>\n",
       "      <td>-0.019335</td>\n",
       "      <td>-0.059427</td>\n",
       "      <td>-0.069373</td>\n",
       "      <td>-0.023969</td>\n",
       "      <td>-0.178028</td>\n",
       "      <td>-0.015132</td>\n",
       "      <td>NaN</td>\n",
       "      <td>0.290600</td>\n",
       "    </tr>\n",
       "    <tr>\n",
       "      <th>informational_duration</th>\n",
       "      <td>0.627955</td>\n",
       "      <td>1.000000</td>\n",
       "      <td>0.262400</td>\n",
       "      <td>0.295949</td>\n",
       "      <td>0.003795</td>\n",
       "      <td>-0.040650</td>\n",
       "      <td>-0.100227</td>\n",
       "      <td>0.011606</td>\n",
       "      <td>0.004104</td>\n",
       "      <td>-0.001243</td>\n",
       "      <td>-0.029496</td>\n",
       "      <td>-0.044048</td>\n",
       "      <td>-0.042399</td>\n",
       "      <td>-0.116505</td>\n",
       "      <td>0.002035</td>\n",
       "      <td>NaN</td>\n",
       "      <td>0.226263</td>\n",
       "    </tr>\n",
       "    <tr>\n",
       "      <th>productrelated</th>\n",
       "      <td>0.337087</td>\n",
       "      <td>0.262400</td>\n",
       "      <td>1.000000</td>\n",
       "      <td>0.907385</td>\n",
       "      <td>-0.031623</td>\n",
       "      <td>-0.153409</td>\n",
       "      <td>-0.177798</td>\n",
       "      <td>-0.053718</td>\n",
       "      <td>0.193657</td>\n",
       "      <td>0.006406</td>\n",
       "      <td>-0.045546</td>\n",
       "      <td>-0.095938</td>\n",
       "      <td>-0.063915</td>\n",
       "      <td>-0.236461</td>\n",
       "      <td>-0.033819</td>\n",
       "      <td>NaN</td>\n",
       "      <td>0.240286</td>\n",
       "    </tr>\n",
       "    <tr>\n",
       "      <th>productrelated_duration</th>\n",
       "      <td>0.354347</td>\n",
       "      <td>0.295949</td>\n",
       "      <td>0.907385</td>\n",
       "      <td>1.000000</td>\n",
       "      <td>-0.023473</td>\n",
       "      <td>-0.117584</td>\n",
       "      <td>-0.177121</td>\n",
       "      <td>-0.050065</td>\n",
       "      <td>0.176848</td>\n",
       "      <td>0.003826</td>\n",
       "      <td>-0.039924</td>\n",
       "      <td>-0.079437</td>\n",
       "      <td>-0.061015</td>\n",
       "      <td>-0.225469</td>\n",
       "      <td>-0.040393</td>\n",
       "      <td>NaN</td>\n",
       "      <td>0.292041</td>\n",
       "    </tr>\n",
       "    <tr>\n",
       "      <th>bouncerates</th>\n",
       "      <td>0.018997</td>\n",
       "      <td>0.003795</td>\n",
       "      <td>-0.031623</td>\n",
       "      <td>-0.023473</td>\n",
       "      <td>1.000000</td>\n",
       "      <td>0.737453</td>\n",
       "      <td>-0.154183</td>\n",
       "      <td>0.025174</td>\n",
       "      <td>0.057426</td>\n",
       "      <td>0.028927</td>\n",
       "      <td>0.002832</td>\n",
       "      <td>-0.029810</td>\n",
       "      <td>0.075912</td>\n",
       "      <td>-0.172275</td>\n",
       "      <td>-0.043630</td>\n",
       "      <td>NaN</td>\n",
       "      <td>-0.034987</td>\n",
       "    </tr>\n",
       "    <tr>\n",
       "      <th>exitrates</th>\n",
       "      <td>-0.035256</td>\n",
       "      <td>-0.040650</td>\n",
       "      <td>-0.153409</td>\n",
       "      <td>-0.117584</td>\n",
       "      <td>0.737453</td>\n",
       "      <td>1.000000</td>\n",
       "      <td>-0.230696</td>\n",
       "      <td>0.022216</td>\n",
       "      <td>0.065426</td>\n",
       "      <td>-0.026183</td>\n",
       "      <td>0.003704</td>\n",
       "      <td>-0.027982</td>\n",
       "      <td>0.056203</td>\n",
       "      <td>-0.191947</td>\n",
       "      <td>-0.039036</td>\n",
       "      <td>NaN</td>\n",
       "      <td>-0.086662</td>\n",
       "    </tr>\n",
       "    <tr>\n",
       "      <th>pagevalues</th>\n",
       "      <td>-0.136234</td>\n",
       "      <td>-0.100227</td>\n",
       "      <td>-0.177798</td>\n",
       "      <td>-0.177121</td>\n",
       "      <td>-0.154183</td>\n",
       "      <td>-0.230696</td>\n",
       "      <td>1.000000</td>\n",
       "      <td>-0.026021</td>\n",
       "      <td>-0.070637</td>\n",
       "      <td>0.078673</td>\n",
       "      <td>0.112523</td>\n",
       "      <td>0.061310</td>\n",
       "      <td>0.080345</td>\n",
       "      <td>0.234977</td>\n",
       "      <td>0.001172</td>\n",
       "      <td>NaN</td>\n",
       "      <td>-0.089272</td>\n",
       "    </tr>\n",
       "    <tr>\n",
       "      <th>specialday</th>\n",
       "      <td>-0.024415</td>\n",
       "      <td>0.011606</td>\n",
       "      <td>-0.053718</td>\n",
       "      <td>-0.050065</td>\n",
       "      <td>0.025174</td>\n",
       "      <td>0.022216</td>\n",
       "      <td>-0.026021</td>\n",
       "      <td>1.000000</td>\n",
       "      <td>-0.228710</td>\n",
       "      <td>0.006847</td>\n",
       "      <td>-0.001428</td>\n",
       "      <td>0.019334</td>\n",
       "      <td>-0.003780</td>\n",
       "      <td>-0.025910</td>\n",
       "      <td>-0.015062</td>\n",
       "      <td>NaN</td>\n",
       "      <td>-0.060616</td>\n",
       "    </tr>\n",
       "    <tr>\n",
       "      <th>month</th>\n",
       "      <td>0.008114</td>\n",
       "      <td>0.004104</td>\n",
       "      <td>0.193657</td>\n",
       "      <td>0.176848</td>\n",
       "      <td>0.057426</td>\n",
       "      <td>0.065426</td>\n",
       "      <td>-0.070637</td>\n",
       "      <td>-0.228710</td>\n",
       "      <td>1.000000</td>\n",
       "      <td>0.049745</td>\n",
       "      <td>0.030665</td>\n",
       "      <td>-0.027570</td>\n",
       "      <td>0.077051</td>\n",
       "      <td>0.045707</td>\n",
       "      <td>-0.044692</td>\n",
       "      <td>NaN</td>\n",
       "      <td>0.015425</td>\n",
       "    </tr>\n",
       "    <tr>\n",
       "      <th>operatingsystems</th>\n",
       "      <td>-0.019335</td>\n",
       "      <td>-0.001243</td>\n",
       "      <td>0.006406</td>\n",
       "      <td>0.003826</td>\n",
       "      <td>0.028927</td>\n",
       "      <td>-0.026183</td>\n",
       "      <td>0.078673</td>\n",
       "      <td>0.006847</td>\n",
       "      <td>0.049745</td>\n",
       "      <td>1.000000</td>\n",
       "      <td>0.309118</td>\n",
       "      <td>0.123341</td>\n",
       "      <td>0.199192</td>\n",
       "      <td>0.146804</td>\n",
       "      <td>-0.015769</td>\n",
       "      <td>NaN</td>\n",
       "      <td>-0.000331</td>\n",
       "    </tr>\n",
       "    <tr>\n",
       "      <th>browser</th>\n",
       "      <td>-0.059427</td>\n",
       "      <td>-0.029496</td>\n",
       "      <td>-0.045546</td>\n",
       "      <td>-0.039924</td>\n",
       "      <td>0.002832</td>\n",
       "      <td>0.003704</td>\n",
       "      <td>0.112523</td>\n",
       "      <td>-0.001428</td>\n",
       "      <td>0.030665</td>\n",
       "      <td>0.309118</td>\n",
       "      <td>1.000000</td>\n",
       "      <td>0.130430</td>\n",
       "      <td>0.213213</td>\n",
       "      <td>0.172098</td>\n",
       "      <td>-0.027809</td>\n",
       "      <td>NaN</td>\n",
       "      <td>-0.017413</td>\n",
       "    </tr>\n",
       "    <tr>\n",
       "      <th>region</th>\n",
       "      <td>-0.069373</td>\n",
       "      <td>-0.044048</td>\n",
       "      <td>-0.095938</td>\n",
       "      <td>-0.079437</td>\n",
       "      <td>-0.029810</td>\n",
       "      <td>-0.027982</td>\n",
       "      <td>0.061310</td>\n",
       "      <td>0.019334</td>\n",
       "      <td>-0.027570</td>\n",
       "      <td>0.123341</td>\n",
       "      <td>0.130430</td>\n",
       "      <td>1.000000</td>\n",
       "      <td>0.068166</td>\n",
       "      <td>0.129004</td>\n",
       "      <td>0.014342</td>\n",
       "      <td>NaN</td>\n",
       "      <td>-0.032629</td>\n",
       "    </tr>\n",
       "    <tr>\n",
       "      <th>traffictype</th>\n",
       "      <td>-0.023969</td>\n",
       "      <td>-0.042399</td>\n",
       "      <td>-0.063915</td>\n",
       "      <td>-0.061015</td>\n",
       "      <td>0.075912</td>\n",
       "      <td>0.056203</td>\n",
       "      <td>0.080345</td>\n",
       "      <td>-0.003780</td>\n",
       "      <td>0.077051</td>\n",
       "      <td>0.199192</td>\n",
       "      <td>0.213213</td>\n",
       "      <td>0.068166</td>\n",
       "      <td>1.000000</td>\n",
       "      <td>0.105831</td>\n",
       "      <td>0.008759</td>\n",
       "      <td>NaN</td>\n",
       "      <td>0.020447</td>\n",
       "    </tr>\n",
       "    <tr>\n",
       "      <th>visitortype</th>\n",
       "      <td>-0.178028</td>\n",
       "      <td>-0.116505</td>\n",
       "      <td>-0.236461</td>\n",
       "      <td>-0.225469</td>\n",
       "      <td>-0.172275</td>\n",
       "      <td>-0.191947</td>\n",
       "      <td>0.234977</td>\n",
       "      <td>-0.025910</td>\n",
       "      <td>0.045707</td>\n",
       "      <td>0.146804</td>\n",
       "      <td>0.172098</td>\n",
       "      <td>0.129004</td>\n",
       "      <td>0.105831</td>\n",
       "      <td>1.000000</td>\n",
       "      <td>-0.031443</td>\n",
       "      <td>NaN</td>\n",
       "      <td>-0.099836</td>\n",
       "    </tr>\n",
       "    <tr>\n",
       "      <th>weekend</th>\n",
       "      <td>-0.015132</td>\n",
       "      <td>0.002035</td>\n",
       "      <td>-0.033819</td>\n",
       "      <td>-0.040393</td>\n",
       "      <td>-0.043630</td>\n",
       "      <td>-0.039036</td>\n",
       "      <td>0.001172</td>\n",
       "      <td>-0.015062</td>\n",
       "      <td>-0.044692</td>\n",
       "      <td>-0.015769</td>\n",
       "      <td>-0.027809</td>\n",
       "      <td>0.014342</td>\n",
       "      <td>0.008759</td>\n",
       "      <td>-0.031443</td>\n",
       "      <td>1.000000</td>\n",
       "      <td>NaN</td>\n",
       "      <td>-0.039135</td>\n",
       "    </tr>\n",
       "    <tr>\n",
       "      <th>revenue</th>\n",
       "      <td>NaN</td>\n",
       "      <td>NaN</td>\n",
       "      <td>NaN</td>\n",
       "      <td>NaN</td>\n",
       "      <td>NaN</td>\n",
       "      <td>NaN</td>\n",
       "      <td>NaN</td>\n",
       "      <td>NaN</td>\n",
       "      <td>NaN</td>\n",
       "      <td>NaN</td>\n",
       "      <td>NaN</td>\n",
       "      <td>NaN</td>\n",
       "      <td>NaN</td>\n",
       "      <td>NaN</td>\n",
       "      <td>NaN</td>\n",
       "      <td>NaN</td>\n",
       "      <td>NaN</td>\n",
       "    </tr>\n",
       "    <tr>\n",
       "      <th>final_administrative</th>\n",
       "      <td>0.290600</td>\n",
       "      <td>0.226263</td>\n",
       "      <td>0.240286</td>\n",
       "      <td>0.292041</td>\n",
       "      <td>-0.034987</td>\n",
       "      <td>-0.086662</td>\n",
       "      <td>-0.089272</td>\n",
       "      <td>-0.060616</td>\n",
       "      <td>0.015425</td>\n",
       "      <td>-0.000331</td>\n",
       "      <td>-0.017413</td>\n",
       "      <td>-0.032629</td>\n",
       "      <td>0.020447</td>\n",
       "      <td>-0.099836</td>\n",
       "      <td>-0.039135</td>\n",
       "      <td>NaN</td>\n",
       "      <td>1.000000</td>\n",
       "    </tr>\n",
       "  </tbody>\n",
       "</table>\n",
       "</div>"
      ],
      "text/plain": [
       "                         informational  informational_duration  \\\n",
       "informational                 1.000000                0.627955   \n",
       "informational_duration        0.627955                1.000000   \n",
       "productrelated                0.337087                0.262400   \n",
       "productrelated_duration       0.354347                0.295949   \n",
       "bouncerates                   0.018997                0.003795   \n",
       "exitrates                    -0.035256               -0.040650   \n",
       "pagevalues                   -0.136234               -0.100227   \n",
       "specialday                   -0.024415                0.011606   \n",
       "month                         0.008114                0.004104   \n",
       "operatingsystems             -0.019335               -0.001243   \n",
       "browser                      -0.059427               -0.029496   \n",
       "region                       -0.069373               -0.044048   \n",
       "traffictype                  -0.023969               -0.042399   \n",
       "visitortype                  -0.178028               -0.116505   \n",
       "weekend                      -0.015132                0.002035   \n",
       "revenue                            NaN                     NaN   \n",
       "final_administrative          0.290600                0.226263   \n",
       "\n",
       "                         productrelated  productrelated_duration  bouncerates  \\\n",
       "informational                  0.337087                 0.354347     0.018997   \n",
       "informational_duration         0.262400                 0.295949     0.003795   \n",
       "productrelated                 1.000000                 0.907385    -0.031623   \n",
       "productrelated_duration        0.907385                 1.000000    -0.023473   \n",
       "bouncerates                   -0.031623                -0.023473     1.000000   \n",
       "exitrates                     -0.153409                -0.117584     0.737453   \n",
       "pagevalues                    -0.177798                -0.177121    -0.154183   \n",
       "specialday                    -0.053718                -0.050065     0.025174   \n",
       "month                          0.193657                 0.176848     0.057426   \n",
       "operatingsystems               0.006406                 0.003826     0.028927   \n",
       "browser                       -0.045546                -0.039924     0.002832   \n",
       "region                        -0.095938                -0.079437    -0.029810   \n",
       "traffictype                   -0.063915                -0.061015     0.075912   \n",
       "visitortype                   -0.236461                -0.225469    -0.172275   \n",
       "weekend                       -0.033819                -0.040393    -0.043630   \n",
       "revenue                             NaN                      NaN          NaN   \n",
       "final_administrative           0.240286                 0.292041    -0.034987   \n",
       "\n",
       "                         exitrates  pagevalues  specialday     month  \\\n",
       "informational            -0.035256   -0.136234   -0.024415  0.008114   \n",
       "informational_duration   -0.040650   -0.100227    0.011606  0.004104   \n",
       "productrelated           -0.153409   -0.177798   -0.053718  0.193657   \n",
       "productrelated_duration  -0.117584   -0.177121   -0.050065  0.176848   \n",
       "bouncerates               0.737453   -0.154183    0.025174  0.057426   \n",
       "exitrates                 1.000000   -0.230696    0.022216  0.065426   \n",
       "pagevalues               -0.230696    1.000000   -0.026021 -0.070637   \n",
       "specialday                0.022216   -0.026021    1.000000 -0.228710   \n",
       "month                     0.065426   -0.070637   -0.228710  1.000000   \n",
       "operatingsystems         -0.026183    0.078673    0.006847  0.049745   \n",
       "browser                   0.003704    0.112523   -0.001428  0.030665   \n",
       "region                   -0.027982    0.061310    0.019334 -0.027570   \n",
       "traffictype               0.056203    0.080345   -0.003780  0.077051   \n",
       "visitortype              -0.191947    0.234977   -0.025910  0.045707   \n",
       "weekend                  -0.039036    0.001172   -0.015062 -0.044692   \n",
       "revenue                        NaN         NaN         NaN       NaN   \n",
       "final_administrative     -0.086662   -0.089272   -0.060616  0.015425   \n",
       "\n",
       "                         operatingsystems   browser    region  traffictype  \\\n",
       "informational                   -0.019335 -0.059427 -0.069373    -0.023969   \n",
       "informational_duration          -0.001243 -0.029496 -0.044048    -0.042399   \n",
       "productrelated                   0.006406 -0.045546 -0.095938    -0.063915   \n",
       "productrelated_duration          0.003826 -0.039924 -0.079437    -0.061015   \n",
       "bouncerates                      0.028927  0.002832 -0.029810     0.075912   \n",
       "exitrates                       -0.026183  0.003704 -0.027982     0.056203   \n",
       "pagevalues                       0.078673  0.112523  0.061310     0.080345   \n",
       "specialday                       0.006847 -0.001428  0.019334    -0.003780   \n",
       "month                            0.049745  0.030665 -0.027570     0.077051   \n",
       "operatingsystems                 1.000000  0.309118  0.123341     0.199192   \n",
       "browser                          0.309118  1.000000  0.130430     0.213213   \n",
       "region                           0.123341  0.130430  1.000000     0.068166   \n",
       "traffictype                      0.199192  0.213213  0.068166     1.000000   \n",
       "visitortype                      0.146804  0.172098  0.129004     0.105831   \n",
       "weekend                         -0.015769 -0.027809  0.014342     0.008759   \n",
       "revenue                               NaN       NaN       NaN          NaN   \n",
       "final_administrative            -0.000331 -0.017413 -0.032629     0.020447   \n",
       "\n",
       "                         visitortype   weekend  revenue  final_administrative  \n",
       "informational              -0.178028 -0.015132      NaN              0.290600  \n",
       "informational_duration     -0.116505  0.002035      NaN              0.226263  \n",
       "productrelated             -0.236461 -0.033819      NaN              0.240286  \n",
       "productrelated_duration    -0.225469 -0.040393      NaN              0.292041  \n",
       "bouncerates                -0.172275 -0.043630      NaN             -0.034987  \n",
       "exitrates                  -0.191947 -0.039036      NaN             -0.086662  \n",
       "pagevalues                  0.234977  0.001172      NaN             -0.089272  \n",
       "specialday                 -0.025910 -0.015062      NaN             -0.060616  \n",
       "month                       0.045707 -0.044692      NaN              0.015425  \n",
       "operatingsystems            0.146804 -0.015769      NaN             -0.000331  \n",
       "browser                     0.172098 -0.027809      NaN             -0.017413  \n",
       "region                      0.129004  0.014342      NaN             -0.032629  \n",
       "traffictype                 0.105831  0.008759      NaN              0.020447  \n",
       "visitortype                 1.000000 -0.031443      NaN             -0.099836  \n",
       "weekend                    -0.031443  1.000000      NaN             -0.039135  \n",
       "revenue                          NaN       NaN      NaN                   NaN  \n",
       "final_administrative       -0.099836 -0.039135      NaN              1.000000  "
      ]
     },
     "execution_count": 71,
     "metadata": {},
     "output_type": "execute_result"
    }
   ],
   "source": [
    "correlations_matrix = final_customer.corr()\n",
    "correlations_matrix"
   ]
  },
  {
   "cell_type": "code",
   "execution_count": 72,
   "id": "a36ad915",
   "metadata": {},
   "outputs": [
    {
     "data": {
      "text/plain": [
       "<AxesSubplot:>"
      ]
     },
     "execution_count": 72,
     "metadata": {},
     "output_type": "execute_result"
    },
    {
     "data": {
      "image/png": "[encoded data removed]",
      "text/plain": [
       "<Figure size 1440x720 with 2 Axes>"
      ]
     },
     "metadata": {
      "needs_background": "light"
     },
     "output_type": "display_data"
    }
   ],
   "source": [
    "# import seaborn as sns\n",
    "fig, ax = plt.subplots(figsize=(20,10))         # Sample figsize in inches\n",
    "sns.heatmap(correlations_matrix, ax=ax, linewidth=3.1,annot=True,center=1)"
   ]
  },
  {
   "cell_type": "markdown",
   "id": "0a0545f8",
   "metadata": {},
   "source": [
    "## Our short-term strategy is to convert visitors into customers\n",
    "#### Detailed analysis of the requirements to complete a transaction\n",
    "#### Reason. Its possible that our checkout process discourages visitors from buying items"
   ]
  },
  {
   "cell_type": "code",
   "execution_count": 73,
   "id": "fe61f535",
   "metadata": {},
   "outputs": [
    {
     "data": {
      "text/plain": [
       "(10422, 17)"
      ]
     },
     "execution_count": 73,
     "metadata": {},
     "output_type": "execute_result"
    }
   ],
   "source": [
    "final_visitors = data[data['revenue'] == 0]\n",
    "final_visitors.shape"
   ]
  },
  {
   "cell_type": "code",
   "execution_count": 74,
   "id": "ad66afd4",
   "metadata": {},
   "outputs": [
    {
     "data": {
      "text/plain": [
       "Index(['informational', 'informational_duration', 'productrelated',\n",
       "       'productrelated_duration', 'bouncerates', 'exitrates', 'pagevalues',\n",
       "       'specialday', 'month', 'operatingsystems', 'browser', 'region',\n",
       "       'traffictype', 'visitortype', 'weekend', 'revenue',\n",
       "       'final_administrative'],\n",
       "      dtype='object')"
      ]
     },
     "execution_count": 74,
     "metadata": {},
     "output_type": "execute_result"
    }
   ],
   "source": [
    "final_customer.columns"
   ]
  },
  {
   "cell_type": "code",
   "execution_count": 75,
   "id": "59f7939b",
   "metadata": {},
   "outputs": [
    {
     "data": {
      "text/plain": [
       "(1394, 17)"
      ]
     },
     "execution_count": 75,
     "metadata": {},
     "output_type": "execute_result"
    }
   ],
   "source": [
    "# Check if every customer spent some time on administrative tasks. \n",
    "final_admin_customers = final_customer[final_customer['final_administrative'] > 0]\n",
    "final_admin_customers.shape"
   ]
  },
  {
   "cell_type": "code",
   "execution_count": 76,
   "id": "63268cf5",
   "metadata": {},
   "outputs": [
    {
     "data": {
      "text/plain": [
       "(514, 17)"
      ]
     },
     "execution_count": 76,
     "metadata": {},
     "output_type": "execute_result"
    }
   ],
   "source": [
    "# Check if every customer spent some time on administrative tasks. \n",
    "final_admin1_customers = final_customer[final_customer['final_administrative'] <= 0]\n",
    "final_admin1_customers.shape"
   ]
  },
  {
   "cell_type": "code",
   "execution_count": 77,
   "id": "565ce8b1",
   "metadata": {},
   "outputs": [
    {
     "data": {
      "text/plain": [
       "(1908, 17)"
      ]
     },
     "execution_count": 77,
     "metadata": {},
     "output_type": "execute_result"
    }
   ],
   "source": [
    "final_customer.shape"
   ]
  },
  {
   "cell_type": "code",
   "execution_count": 78,
   "id": "80972317",
   "metadata": {},
   "outputs": [
    {
     "name": "stdout",
     "output_type": "stream",
     "text": [
      "Ratio of customers that spent time on the administrative page:  0.731\n"
     ]
    }
   ],
   "source": [
    "ratio = len(final_admin_customers)/len(final_customer)\n",
    "print(\"Ratio of customers that spent time on the administrative page: \",round(ratio,3))"
   ]
  },
  {
   "cell_type": "code",
   "execution_count": 79,
   "id": "91ffc1f3",
   "metadata": {},
   "outputs": [
    {
     "data": {
      "text/plain": [
       "55.416666665"
      ]
     },
     "execution_count": 79,
     "metadata": {},
     "output_type": "execute_result"
    }
   ],
   "source": [
    "# Median time spent on the administarative page by customers\n",
    "# I am assuming time is in seconds\n",
    "median_time = final_customer['final_administrative'].median()\n",
    "median_time"
   ]
  },
  {
   "cell_type": "markdown",
   "id": "c5412de3",
   "metadata": {},
   "source": [
    "### Compare the difference between the time new and returning customers spend on Administrative pages\n",
    "#### Online stores with faster check out make more money\n",
    "\n",
    "##### Link: https://www.bolt.com/resources/ecommerce-checkout-best-practices/\n",
    "##### Link: https://techwireasia.com/2021/09/if-you-want-to-increase-sales-improve-your-checkout-experience-says-study/"
   ]
  },
  {
   "cell_type": "code",
   "execution_count": 80,
   "id": "6bab7275",
   "metadata": {},
   "outputs": [
    {
     "data": {
      "text/plain": [
       "(422, 17)"
      ]
     },
     "execution_count": 80,
     "metadata": {},
     "output_type": "execute_result"
    }
   ],
   "source": [
    "# Check if all new customers spent time on the admin pages\n",
    "new_customer = final_customer[final_customer['visitortype'] == 2]\n",
    "new_customer.shape"
   ]
  },
  {
   "cell_type": "code",
   "execution_count": 81,
   "id": "9eee98cd",
   "metadata": {},
   "outputs": [
    {
     "data": {
      "text/plain": [
       "(266, 17)"
      ]
     },
     "execution_count": 81,
     "metadata": {},
     "output_type": "execute_result"
    }
   ],
   "source": [
    "# New customers that spent time on administration pages\n",
    "new_customers_admin = new_customer[new_customer['final_administrative'] > 0]\n",
    "new_customers_admin.shape"
   ]
  },
  {
   "cell_type": "code",
   "execution_count": 82,
   "id": "21b26635",
   "metadata": {},
   "outputs": [
    {
     "name": "stdout",
     "output_type": "stream",
     "text": [
      "Ratio of new customers that spent time on the admin pages:  0.63\n"
     ]
    }
   ],
   "source": [
    "ratio = len(new_customers_admin)/len(new_customer)\n",
    "print(\"Ratio of new customers that spent time on the admin pages: \",round(ratio,2))"
   ]
  },
  {
   "cell_type": "code",
   "execution_count": 83,
   "id": "01756ce9",
   "metadata": {},
   "outputs": [
    {
     "data": {
      "text/plain": [
       "(156, 17)"
      ]
     },
     "execution_count": 83,
     "metadata": {},
     "output_type": "execute_result"
    }
   ],
   "source": [
    "non_admin_customers = final_customer[(final_customer['visitortype'] == 2) & (final_customer['final_administrative'] <= 0)]\n",
    "non_admin_customers.shape"
   ]
  },
  {
   "cell_type": "code",
   "execution_count": 84,
   "id": "1d76580d",
   "metadata": {},
   "outputs": [
    {
     "data": {
      "text/plain": [
       "(1470, 17)"
      ]
     },
     "execution_count": 84,
     "metadata": {},
     "output_type": "execute_result"
    }
   ],
   "source": [
    "return_customer = final_customer[final_customer['visitortype'] == 1]\n",
    "return_customer.shape"
   ]
  },
  {
   "cell_type": "code",
   "execution_count": 85,
   "id": "e4de3387",
   "metadata": {},
   "outputs": [
    {
     "data": {
      "text/plain": [
       "count    1470.000000\n",
       "mean      134.472327\n",
       "std       214.546196\n",
       "min         0.000000\n",
       "25%         1.000000\n",
       "50%        63.208333\n",
       "75%       173.525000\n",
       "max      2094.750000\n",
       "Name: final_administrative, dtype: float64"
      ]
     },
     "execution_count": 85,
     "metadata": {},
     "output_type": "execute_result"
    }
   ],
   "source": [
    "return_customer['final_administrative'].describe().T"
   ]
  },
  {
   "cell_type": "code",
   "execution_count": 86,
   "id": "92c37816",
   "metadata": {},
   "outputs": [
    {
     "data": {
      "text/plain": [
       "(1118, 17)"
      ]
     },
     "execution_count": 86,
     "metadata": {},
     "output_type": "execute_result"
    }
   ],
   "source": [
    "return_customers_admin = return_customer[return_customer['final_administrative'] > 0]\n",
    "return_customers_admin.shape"
   ]
  },
  {
   "cell_type": "code",
   "execution_count": 87,
   "id": "3f11ed66",
   "metadata": {},
   "outputs": [
    {
     "name": "stdout",
     "output_type": "stream",
     "text": [
      "Ratio of returning customers that spent time on the admin pages:  0.76\n"
     ]
    }
   ],
   "source": [
    "ratio = len(return_customers_admin)/len(return_customer)\n",
    "print(\"Ratio of returning customers that spent time on the admin pages: \",round(ratio,2))"
   ]
  },
  {
   "cell_type": "markdown",
   "id": "db98f547",
   "metadata": {},
   "source": [
    "## Time spent on Administration pages: Conclusion\n",
    "    1.Over 76% of returning customers visit the administration pages\n",
    "    2.Returning customers spend more time on average (median) - 63.21 seconds than new customers -55.41 seconds on    administration pages\n",
    "    3.Returning customers' information should be stored and auto-loaded on checkout\n",
    "    4.Its possible that the returning customers were changing some information like credit card number or shipping address"
   ]
  },
  {
   "cell_type": "code",
   "execution_count": 88,
   "id": "bfc65ff5",
   "metadata": {},
   "outputs": [
    {
     "data": {
      "text/plain": [
       "(5168, 17)"
      ]
     },
     "execution_count": 88,
     "metadata": {},
     "output_type": "execute_result"
    }
   ],
   "source": [
    "return_visitors_admin = final_visitors[final_visitors['final_administrative'] > 0]\n",
    "return_visitors_admin.shape"
   ]
  },
  {
   "cell_type": "code",
   "execution_count": 89,
   "id": "fa39c183",
   "metadata": {},
   "outputs": [
    {
     "data": {
      "text/plain": [
       "count    5168.000000\n",
       "mean      152.978026\n",
       "std       220.268430\n",
       "min         1.000000\n",
       "25%        39.000000\n",
       "50%        88.319444\n",
       "75%       180.893750\n",
       "max      3403.750000\n",
       "Name: final_administrative, dtype: float64"
      ]
     },
     "execution_count": 89,
     "metadata": {},
     "output_type": "execute_result"
    }
   ],
   "source": [
    "return_visitors_admin['final_administrative'].describe().T"
   ]
  },
  {
   "cell_type": "code",
   "execution_count": 90,
   "id": "b38bebcd",
   "metadata": {},
   "outputs": [
    {
     "name": "stdout",
     "output_type": "stream",
     "text": [
      "Ratio of returning visitors that visited the admin pages 0.496\n"
     ]
    }
   ],
   "source": [
    "percentage_of_return_visitors_admin = len(return_visitors_admin)/len(final_visitors)\n",
    "print(\"Ratio of returning visitors that visited the admin pages\",round(percentage_of_return_visitors_admin,3))"
   ]
  },
  {
   "cell_type": "code",
   "execution_count": 91,
   "id": "44e9b01e",
   "metadata": {},
   "outputs": [
    {
     "data": {
      "text/plain": [
       "(7, 17)"
      ]
     },
     "execution_count": 91,
     "metadata": {},
     "output_type": "execute_result"
    }
   ],
   "source": [
    "# Getting pages that returning visitors went to\n",
    "information_df = final_visitors[(final_visitors['informational_duration'] > 0) & (final_visitors['productrelated_duration'] == 0)]\n",
    "information_df.shape"
   ]
  },
  {
   "cell_type": "code",
   "execution_count": 92,
   "id": "6efb8b10",
   "metadata": {},
   "outputs": [
    {
     "data": {
      "text/plain": [
       "(1840, 17)"
      ]
     },
     "execution_count": 92,
     "metadata": {},
     "output_type": "execute_result"
    }
   ],
   "source": [
    "# visitors to only information pages\n",
    "information_df = final_visitors[(final_visitors['informational_duration'] > 0)]\n",
    "information_df.shape"
   ]
  },
  {
   "cell_type": "code",
   "execution_count": 93,
   "id": "bceda3b9",
   "metadata": {},
   "outputs": [
    {
     "data": {
      "text/plain": [
       "(7847, 17)"
      ]
     },
     "execution_count": 93,
     "metadata": {},
     "output_type": "execute_result"
    }
   ],
   "source": [
    "# Product pages only\n",
    "product_related_df = final_visitors[(final_visitors['productrelated_duration'] > 0) & (final_visitors['informational_duration'] <= 0)]\n",
    "product_related_df.shape"
   ]
  },
  {
   "cell_type": "code",
   "execution_count": 94,
   "id": "6522ca31",
   "metadata": {},
   "outputs": [
    {
     "data": {
      "text/plain": [
       "0.7529265016311648"
      ]
     },
     "execution_count": 94,
     "metadata": {},
     "output_type": "execute_result"
    }
   ],
   "source": [
    "ratio = len(product_related_df)/len(final_visitors)\n",
    "ratio"
   ]
  },
  {
   "cell_type": "code",
   "execution_count": 95,
   "id": "54332641",
   "metadata": {},
   "outputs": [
    {
     "data": {
      "text/plain": [
       "count     7847.000000\n",
       "mean       874.852433\n",
       "std       1174.754641\n",
       "min          0.500000\n",
       "25%        170.000000\n",
       "50%        470.000000\n",
       "75%       1115.814102\n",
       "max      13158.666670\n",
       "Name: productrelated_duration, dtype: float64"
      ]
     },
     "execution_count": 95,
     "metadata": {},
     "output_type": "execute_result"
    }
   ],
   "source": [
    "product_related_df['productrelated_duration'].describe().T"
   ]
  },
  {
   "cell_type": "code",
   "execution_count": 96,
   "id": "0898b977",
   "metadata": {},
   "outputs": [
    {
     "data": {
      "text/plain": [
       "0.49280368451352907"
      ]
     },
     "metadata": {},
     "output_type": "display_data"
    }
   ],
   "source": [
    "# Visitors that visited both the products page and administrative pages\n",
    "interest_visitors = final_visitors[(final_visitors['productrelated_duration'] > 0) & (final_visitors['final_administrative'] > 0)]\n",
    "interest_visitors.shape\n",
    "display(len(interest_visitors)/len(final_visitors))"
   ]
  },
  {
   "cell_type": "code",
   "execution_count": 97,
   "id": "d6b3832d",
   "metadata": {},
   "outputs": [
    {
     "data": {
      "text/plain": [
       "(1383, 17)"
      ]
     },
     "metadata": {},
     "output_type": "display_data"
    },
    {
     "data": {
      "text/plain": [
       "0.7248427672955975"
      ]
     },
     "metadata": {},
     "output_type": "display_data"
    }
   ],
   "source": [
    "interest_customers = final_customer[(final_customer['productrelated_duration'] > 0) & (final_customer['final_administrative'] > 0)]\n",
    "display(interest_customers.shape)\n",
    "display(len(interest_customers)/len(final_customer))"
   ]
  },
  {
   "cell_type": "code",
   "execution_count": 98,
   "id": "9a7dd42e",
   "metadata": {},
   "outputs": [
    {
     "data": {
      "text/html": [
       "<div>\n",
       "<style scoped>\n",
       "    .dataframe tbody tr th:only-of-type {\n",
       "        vertical-align: middle;\n",
       "    }\n",
       "\n",
       "    .dataframe tbody tr th {\n",
       "        vertical-align: top;\n",
       "    }\n",
       "\n",
       "    .dataframe thead th {\n",
       "        text-align: right;\n",
       "    }\n",
       "</style>\n",
       "<table border=\"1\" class=\"dataframe\">\n",
       "  <thead>\n",
       "    <tr style=\"text-align: right;\">\n",
       "      <th></th>\n",
       "      <th>count</th>\n",
       "      <th>mean</th>\n",
       "      <th>std</th>\n",
       "      <th>min</th>\n",
       "      <th>25%</th>\n",
       "      <th>50%</th>\n",
       "      <th>75%</th>\n",
       "      <th>max</th>\n",
       "    </tr>\n",
       "  </thead>\n",
       "  <tbody>\n",
       "    <tr>\n",
       "      <th>productrelated_duration</th>\n",
       "      <td>1383.0</td>\n",
       "      <td>2157.794707</td>\n",
       "      <td>2541.199448</td>\n",
       "      <td>5.0</td>\n",
       "      <td>673.037500</td>\n",
       "      <td>1279.089286</td>\n",
       "      <td>2607.351136</td>\n",
       "      <td>27009.85943</td>\n",
       "    </tr>\n",
       "    <tr>\n",
       "      <th>final_administrative</th>\n",
       "      <td>1383.0</td>\n",
       "      <td>169.323557</td>\n",
       "      <td>221.914601</td>\n",
       "      <td>1.0</td>\n",
       "      <td>45.266667</td>\n",
       "      <td>95.000000</td>\n",
       "      <td>207.216667</td>\n",
       "      <td>2094.75000</td>\n",
       "    </tr>\n",
       "  </tbody>\n",
       "</table>\n",
       "</div>"
      ],
      "text/plain": [
       "                          count         mean          std  min         25%  \\\n",
       "productrelated_duration  1383.0  2157.794707  2541.199448  5.0  673.037500   \n",
       "final_administrative     1383.0   169.323557   221.914601  1.0   45.266667   \n",
       "\n",
       "                                 50%          75%          max  \n",
       "productrelated_duration  1279.089286  2607.351136  27009.85943  \n",
       "final_administrative       95.000000   207.216667   2094.75000  "
      ]
     },
     "execution_count": 98,
     "metadata": {},
     "output_type": "execute_result"
    }
   ],
   "source": [
    "interest_customers[['productrelated_duration','final_administrative']].describe().T"
   ]
  },
  {
   "cell_type": "code",
   "execution_count": 99,
   "id": "d99748d9",
   "metadata": {},
   "outputs": [
    {
     "data": {
      "text/html": [
       "<div>\n",
       "<style scoped>\n",
       "    .dataframe tbody tr th:only-of-type {\n",
       "        vertical-align: middle;\n",
       "    }\n",
       "\n",
       "    .dataframe tbody tr th {\n",
       "        vertical-align: top;\n",
       "    }\n",
       "\n",
       "    .dataframe thead th {\n",
       "        text-align: right;\n",
       "    }\n",
       "</style>\n",
       "<table border=\"1\" class=\"dataframe\">\n",
       "  <thead>\n",
       "    <tr style=\"text-align: right;\">\n",
       "      <th></th>\n",
       "      <th>count</th>\n",
       "      <th>mean</th>\n",
       "      <th>std</th>\n",
       "      <th>min</th>\n",
       "      <th>25%</th>\n",
       "      <th>50%</th>\n",
       "      <th>75%</th>\n",
       "      <th>max</th>\n",
       "    </tr>\n",
       "  </thead>\n",
       "  <tbody>\n",
       "    <tr>\n",
       "      <th>productrelated_duration</th>\n",
       "      <td>5136.0</td>\n",
       "      <td>1535.348081</td>\n",
       "      <td>2267.444432</td>\n",
       "      <td>4.0</td>\n",
       "      <td>359.9075</td>\n",
       "      <td>871.833333</td>\n",
       "      <td>1889.395833</td>\n",
       "      <td>63973.52223</td>\n",
       "    </tr>\n",
       "    <tr>\n",
       "      <th>final_administrative</th>\n",
       "      <td>5136.0</td>\n",
       "      <td>153.575066</td>\n",
       "      <td>220.638663</td>\n",
       "      <td>1.0</td>\n",
       "      <td>39.0750</td>\n",
       "      <td>89.000000</td>\n",
       "      <td>181.000000</td>\n",
       "      <td>3403.75000</td>\n",
       "    </tr>\n",
       "  </tbody>\n",
       "</table>\n",
       "</div>"
      ],
      "text/plain": [
       "                          count         mean          std  min       25%  \\\n",
       "productrelated_duration  5136.0  1535.348081  2267.444432  4.0  359.9075   \n",
       "final_administrative     5136.0   153.575066   220.638663  1.0   39.0750   \n",
       "\n",
       "                                50%          75%          max  \n",
       "productrelated_duration  871.833333  1889.395833  63973.52223  \n",
       "final_administrative      89.000000   181.000000   3403.75000  "
      ]
     },
     "execution_count": 99,
     "metadata": {},
     "output_type": "execute_result"
    }
   ],
   "source": [
    "interest_visitors[['productrelated_duration','final_administrative']].describe().T"
   ]
  },
  {
   "cell_type": "markdown",
   "id": "07328a30",
   "metadata": {},
   "source": [
    "## Visitors summary\n",
    "\n",
    "    1.Visitors spend an average of approximately 15 minutes on product pages only. This is more than enough time to convince them\n",
    "    2.Customers spend about 36 minutes on the website. I think the targeting algorithm need improvement\n",
    "    3.About 50% of visitors visited both the information and administration pages\n",
    "    4.Visitors spend about 10X more time on the products related pages than administrative pages"
   ]
  },
  {
   "cell_type": "markdown",
   "id": "7ff10cb2",
   "metadata": {},
   "source": [
    "## Relationship between time spent on product related pages and revenue\n",
    "### H0 ==> The higher the time visitors spend on the page, the higher the revenue"
   ]
  },
  {
   "cell_type": "code",
   "execution_count": 100,
   "id": "84697ed8",
   "metadata": {},
   "outputs": [
    {
     "data": {
      "text/html": [
       "<div>\n",
       "<style scoped>\n",
       "    .dataframe tbody tr th:only-of-type {\n",
       "        vertical-align: middle;\n",
       "    }\n",
       "\n",
       "    .dataframe tbody tr th {\n",
       "        vertical-align: top;\n",
       "    }\n",
       "\n",
       "    .dataframe thead th {\n",
       "        text-align: right;\n",
       "    }\n",
       "</style>\n",
       "<table border=\"1\" class=\"dataframe\">\n",
       "  <thead>\n",
       "    <tr style=\"text-align: right;\">\n",
       "      <th>revenue</th>\n",
       "      <th>0</th>\n",
       "      <th>1</th>\n",
       "    </tr>\n",
       "    <tr>\n",
       "      <th>productrelated_duration</th>\n",
       "      <th></th>\n",
       "      <th></th>\n",
       "    </tr>\n",
       "  </thead>\n",
       "  <tbody>\n",
       "    <tr>\n",
       "      <th>0.000000</th>\n",
       "      <td>742</td>\n",
       "      <td>13</td>\n",
       "    </tr>\n",
       "    <tr>\n",
       "      <th>0.500000</th>\n",
       "      <td>1</td>\n",
       "      <td>0</td>\n",
       "    </tr>\n",
       "    <tr>\n",
       "      <th>1.000000</th>\n",
       "      <td>2</td>\n",
       "      <td>0</td>\n",
       "    </tr>\n",
       "    <tr>\n",
       "      <th>2.333333</th>\n",
       "      <td>1</td>\n",
       "      <td>0</td>\n",
       "    </tr>\n",
       "    <tr>\n",
       "      <th>2.666667</th>\n",
       "      <td>1</td>\n",
       "      <td>0</td>\n",
       "    </tr>\n",
       "    <tr>\n",
       "      <th>...</th>\n",
       "      <td>...</td>\n",
       "      <td>...</td>\n",
       "    </tr>\n",
       "    <tr>\n",
       "      <th>24844.156200</th>\n",
       "      <td>1</td>\n",
       "      <td>0</td>\n",
       "    </tr>\n",
       "    <tr>\n",
       "      <th>27009.859430</th>\n",
       "      <td>0</td>\n",
       "      <td>1</td>\n",
       "    </tr>\n",
       "    <tr>\n",
       "      <th>29970.465970</th>\n",
       "      <td>1</td>\n",
       "      <td>0</td>\n",
       "    </tr>\n",
       "    <tr>\n",
       "      <th>43171.233380</th>\n",
       "      <td>1</td>\n",
       "      <td>0</td>\n",
       "    </tr>\n",
       "    <tr>\n",
       "      <th>63973.522230</th>\n",
       "      <td>1</td>\n",
       "      <td>0</td>\n",
       "    </tr>\n",
       "  </tbody>\n",
       "</table>\n",
       "<p>9551 rows × 2 columns</p>\n",
       "</div>"
      ],
      "text/plain": [
       "revenue                    0   1\n",
       "productrelated_duration         \n",
       "0.000000                 742  13\n",
       "0.500000                   1   0\n",
       "1.000000                   2   0\n",
       "2.333333                   1   0\n",
       "2.666667                   1   0\n",
       "...                      ...  ..\n",
       "24844.156200               1   0\n",
       "27009.859430               0   1\n",
       "29970.465970               1   0\n",
       "43171.233380               1   0\n",
       "63973.522230               1   0\n",
       "\n",
       "[9551 rows x 2 columns]"
      ]
     },
     "execution_count": 100,
     "metadata": {},
     "output_type": "execute_result"
    }
   ],
   "source": [
    "data_crosstab = pd.crosstab(data['productrelated_duration'], data['revenue'], margins = False)\n",
    "data_crosstab"
   ]
  },
  {
   "cell_type": "code",
   "execution_count": 101,
   "id": "eb14151d",
   "metadata": {},
   "outputs": [
    {
     "data": {
      "text/plain": [
       "(11261.594166576731,\n",
       " 5.129549976526522e-32,\n",
       " 9550,\n",
       " array([[6.38167883e+02, 1.16832117e+02],\n",
       "        [8.45255474e-01, 1.54744526e-01],\n",
       "        [1.69051095e+00, 3.09489051e-01],\n",
       "        ...,\n",
       "        [8.45255474e-01, 1.54744526e-01],\n",
       "        [8.45255474e-01, 1.54744526e-01],\n",
       "        [8.45255474e-01, 1.54744526e-01]]))"
      ]
     },
     "execution_count": 101,
     "metadata": {},
     "output_type": "execute_result"
    }
   ],
   "source": [
    "import scipy.stats as st\n",
    "st.chi2_contingency(data_crosstab)"
   ]
  },
  {
   "cell_type": "markdown",
   "id": "6ac115ad",
   "metadata": {},
   "source": [
    "## H0 hypothesis is correct\n",
    "### The product related duration is highly correlated to the revenue ie The more time visitors spend on products\n",
    "### page the higher the chances of converting them into customers"
   ]
  },
  {
   "cell_type": "code",
   "execution_count": null,
   "id": "78c39a92",
   "metadata": {},
   "outputs": [],
   "source": []
  }
 ],
 "metadata": {
  "kernelspec": {
   "display_name": "Python 3 (ipykernel)",
   "language": "python",
   "name": "python3"
  },
  "language_info": {
   "codemirror_mode": {
    "name": "ipython",
    "version": 3
   },
   "file_extension": ".py",
   "mimetype": "text/x-python",
   "name": "python",
   "nbconvert_exporter": "python",
   "pygments_lexer": "ipython3",
   "version": "3.8.11"
  }
 },
 "nbformat": 4,
 "nbformat_minor": 5
}
