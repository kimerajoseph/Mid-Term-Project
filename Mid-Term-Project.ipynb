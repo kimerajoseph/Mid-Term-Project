{
 "cells": [
  {
   "cell_type": "code",
   "execution_count": 1,
   "id": "c544d1e6",
   "metadata": {},
   "outputs": [],
   "source": [
    "import pandas as pd\n",
    "import numpy as np"
   ]
  },
  {
   "cell_type": "code",
   "execution_count": 2,
   "id": "0f941777",
   "metadata": {},
   "outputs": [
    {
     "data": {
      "text/html": [
       "<div>\n",
       "<style scoped>\n",
       "    .dataframe tbody tr th:only-of-type {\n",
       "        vertical-align: middle;\n",
       "    }\n",
       "\n",
       "    .dataframe tbody tr th {\n",
       "        vertical-align: top;\n",
       "    }\n",
       "\n",
       "    .dataframe thead th {\n",
       "        text-align: right;\n",
       "    }\n",
       "</style>\n",
       "<table border=\"1\" class=\"dataframe\">\n",
       "  <thead>\n",
       "    <tr style=\"text-align: right;\">\n",
       "      <th></th>\n",
       "      <th>Administrative</th>\n",
       "      <th>Administrative_Duration</th>\n",
       "      <th>Informational</th>\n",
       "      <th>Informational_Duration</th>\n",
       "      <th>ProductRelated</th>\n",
       "      <th>ProductRelated_Duration</th>\n",
       "      <th>BounceRates</th>\n",
       "      <th>ExitRates</th>\n",
       "      <th>PageValues</th>\n",
       "      <th>SpecialDay</th>\n",
       "      <th>Month</th>\n",
       "      <th>OperatingSystems</th>\n",
       "      <th>Browser</th>\n",
       "      <th>Region</th>\n",
       "      <th>TrafficType</th>\n",
       "      <th>VisitorType</th>\n",
       "      <th>Weekend</th>\n",
       "      <th>Revenue</th>\n",
       "    </tr>\n",
       "  </thead>\n",
       "  <tbody>\n",
       "    <tr>\n",
       "      <th>0</th>\n",
       "      <td>0</td>\n",
       "      <td>0.0</td>\n",
       "      <td>0</td>\n",
       "      <td>0.0</td>\n",
       "      <td>1</td>\n",
       "      <td>0.000000</td>\n",
       "      <td>0.20</td>\n",
       "      <td>0.20</td>\n",
       "      <td>0.0</td>\n",
       "      <td>0.0</td>\n",
       "      <td>Feb</td>\n",
       "      <td>1</td>\n",
       "      <td>1</td>\n",
       "      <td>1</td>\n",
       "      <td>1</td>\n",
       "      <td>Returning_Visitor</td>\n",
       "      <td>False</td>\n",
       "      <td>False</td>\n",
       "    </tr>\n",
       "    <tr>\n",
       "      <th>1</th>\n",
       "      <td>0</td>\n",
       "      <td>0.0</td>\n",
       "      <td>0</td>\n",
       "      <td>0.0</td>\n",
       "      <td>2</td>\n",
       "      <td>64.000000</td>\n",
       "      <td>0.00</td>\n",
       "      <td>0.10</td>\n",
       "      <td>0.0</td>\n",
       "      <td>0.0</td>\n",
       "      <td>Feb</td>\n",
       "      <td>2</td>\n",
       "      <td>2</td>\n",
       "      <td>1</td>\n",
       "      <td>2</td>\n",
       "      <td>Returning_Visitor</td>\n",
       "      <td>False</td>\n",
       "      <td>False</td>\n",
       "    </tr>\n",
       "    <tr>\n",
       "      <th>2</th>\n",
       "      <td>0</td>\n",
       "      <td>0.0</td>\n",
       "      <td>0</td>\n",
       "      <td>0.0</td>\n",
       "      <td>1</td>\n",
       "      <td>0.000000</td>\n",
       "      <td>0.20</td>\n",
       "      <td>0.20</td>\n",
       "      <td>0.0</td>\n",
       "      <td>0.0</td>\n",
       "      <td>Feb</td>\n",
       "      <td>4</td>\n",
       "      <td>1</td>\n",
       "      <td>9</td>\n",
       "      <td>3</td>\n",
       "      <td>Returning_Visitor</td>\n",
       "      <td>False</td>\n",
       "      <td>False</td>\n",
       "    </tr>\n",
       "    <tr>\n",
       "      <th>3</th>\n",
       "      <td>0</td>\n",
       "      <td>0.0</td>\n",
       "      <td>0</td>\n",
       "      <td>0.0</td>\n",
       "      <td>2</td>\n",
       "      <td>2.666667</td>\n",
       "      <td>0.05</td>\n",
       "      <td>0.14</td>\n",
       "      <td>0.0</td>\n",
       "      <td>0.0</td>\n",
       "      <td>Feb</td>\n",
       "      <td>3</td>\n",
       "      <td>2</td>\n",
       "      <td>2</td>\n",
       "      <td>4</td>\n",
       "      <td>Returning_Visitor</td>\n",
       "      <td>False</td>\n",
       "      <td>False</td>\n",
       "    </tr>\n",
       "    <tr>\n",
       "      <th>4</th>\n",
       "      <td>0</td>\n",
       "      <td>0.0</td>\n",
       "      <td>0</td>\n",
       "      <td>0.0</td>\n",
       "      <td>10</td>\n",
       "      <td>627.500000</td>\n",
       "      <td>0.02</td>\n",
       "      <td>0.05</td>\n",
       "      <td>0.0</td>\n",
       "      <td>0.0</td>\n",
       "      <td>Feb</td>\n",
       "      <td>3</td>\n",
       "      <td>3</td>\n",
       "      <td>1</td>\n",
       "      <td>4</td>\n",
       "      <td>Returning_Visitor</td>\n",
       "      <td>True</td>\n",
       "      <td>False</td>\n",
       "    </tr>\n",
       "  </tbody>\n",
       "</table>\n",
       "</div>"
      ],
      "text/plain": [
       "   Administrative  Administrative_Duration  Informational  \\\n",
       "0               0                      0.0              0   \n",
       "1               0                      0.0              0   \n",
       "2               0                      0.0              0   \n",
       "3               0                      0.0              0   \n",
       "4               0                      0.0              0   \n",
       "\n",
       "   Informational_Duration  ProductRelated  ProductRelated_Duration  \\\n",
       "0                     0.0               1                 0.000000   \n",
       "1                     0.0               2                64.000000   \n",
       "2                     0.0               1                 0.000000   \n",
       "3                     0.0               2                 2.666667   \n",
       "4                     0.0              10               627.500000   \n",
       "\n",
       "   BounceRates  ExitRates  PageValues  SpecialDay Month  OperatingSystems  \\\n",
       "0         0.20       0.20         0.0         0.0   Feb                 1   \n",
       "1         0.00       0.10         0.0         0.0   Feb                 2   \n",
       "2         0.20       0.20         0.0         0.0   Feb                 4   \n",
       "3         0.05       0.14         0.0         0.0   Feb                 3   \n",
       "4         0.02       0.05         0.0         0.0   Feb                 3   \n",
       "\n",
       "   Browser  Region  TrafficType        VisitorType  Weekend  Revenue  \n",
       "0        1       1            1  Returning_Visitor    False    False  \n",
       "1        2       1            2  Returning_Visitor    False    False  \n",
       "2        1       9            3  Returning_Visitor    False    False  \n",
       "3        2       2            4  Returning_Visitor    False    False  \n",
       "4        3       1            4  Returning_Visitor     True    False  "
      ]
     },
     "execution_count": 2,
     "metadata": {},
     "output_type": "execute_result"
    }
   ],
   "source": [
    "data = pd.read_csv('online_shoppers_intention.csv')\n",
    "data.head()"
   ]
  },
  {
   "cell_type": "code",
   "execution_count": 3,
   "id": "8d06fb10",
   "metadata": {},
   "outputs": [
    {
     "data": {
      "text/plain": [
       "(12330, 18)"
      ]
     },
     "execution_count": 3,
     "metadata": {},
     "output_type": "execute_result"
    }
   ],
   "source": [
    "data.shape"
   ]
  },
  {
   "cell_type": "code",
   "execution_count": 4,
   "id": "6499caf1",
   "metadata": {},
   "outputs": [
    {
     "data": {
      "text/plain": [
       "Administrative             0\n",
       "Administrative_Duration    0\n",
       "Informational              0\n",
       "Informational_Duration     0\n",
       "ProductRelated             0\n",
       "ProductRelated_Duration    0\n",
       "BounceRates                0\n",
       "ExitRates                  0\n",
       "PageValues                 0\n",
       "SpecialDay                 0\n",
       "Month                      0\n",
       "OperatingSystems           0\n",
       "Browser                    0\n",
       "Region                     0\n",
       "TrafficType                0\n",
       "VisitorType                0\n",
       "Weekend                    0\n",
       "Revenue                    0\n",
       "dtype: int64"
      ]
     },
     "execution_count": 4,
     "metadata": {},
     "output_type": "execute_result"
    }
   ],
   "source": [
    "# Checking for NaN Values\n",
    "data.isna().sum()"
   ]
  },
  {
   "cell_type": "code",
   "execution_count": 5,
   "id": "c6459f61",
   "metadata": {},
   "outputs": [
    {
     "name": "stdout",
     "output_type": "stream",
     "text": [
      "Index(['administrative', 'administrative_duration', 'informational',\n",
      "       'informational_duration', 'productrelated', 'productrelated_duration',\n",
      "       'bouncerates', 'exitrates', 'pagevalues', 'specialday', 'month',\n",
      "       'operatingsystems', 'browser', 'region', 'traffictype', 'visitortype',\n",
      "       'weekend', 'revenue'],\n",
      "      dtype='object')\n"
     ]
    }
   ],
   "source": [
    "col_l = []\n",
    "for col in data.columns:\n",
    "    col = col.replace(' ','_')\n",
    "    col_l.append(col.lower())\n",
    "data.columns = col_l\n",
    "print(data.columns)"
   ]
  },
  {
   "cell_type": "code",
   "execution_count": 6,
   "id": "82f755bf",
   "metadata": {},
   "outputs": [
    {
     "data": {
      "text/plain": [
       "May     3364\n",
       "Nov     2998\n",
       "Mar     1907\n",
       "Dec     1727\n",
       "Oct      549\n",
       "Sep      448\n",
       "Aug      433\n",
       "Jul      432\n",
       "June     288\n",
       "Feb      184\n",
       "Name: month, dtype: int64"
      ]
     },
     "execution_count": 6,
     "metadata": {},
     "output_type": "execute_result"
    }
   ],
   "source": [
    "data['month'].value_counts()"
   ]
  },
  {
   "cell_type": "code",
   "execution_count": 7,
   "id": "8df45e61",
   "metadata": {},
   "outputs": [
    {
     "data": {
      "text/plain": [
       "False    10422\n",
       "True      1908\n",
       "Name: revenue, dtype: int64"
      ]
     },
     "execution_count": 7,
     "metadata": {},
     "output_type": "execute_result"
    }
   ],
   "source": [
    "data['revenue'].value_counts()"
   ]
  },
  {
   "cell_type": "code",
   "execution_count": 8,
   "id": "ea964633",
   "metadata": {},
   "outputs": [],
   "source": [
    "# Make a copy of data for use in Tableau visualization\n",
    "# The original data set shall be used in finding corellations and possibly building a model\n",
    "# Assign numbers in 'operatingsystems', 'browser' and 'region' actual values\n",
    "data1 = data.copy()"
   ]
  },
  {
   "cell_type": "code",
   "execution_count": null,
   "id": "1c59d23f",
   "metadata": {},
   "outputs": [],
   "source": [
    "# Mapping operating systems integers to values\n",
    "# ASSUMPTIONS\n",
    "# 1. There are 8 different operting systems with a popularity trend similar to computers. Phones and tablets have a different \n",
    "# popularity trend depending on the country\n",
    "# 2. The trends are not an exact match but will map them using their popularity rankings\n",
    "# 3. Could the various browsers being used indicate computer usage rather than phone/tablet?? Usually phone/tablet users would likely\n",
    "# downlaod the app. Every user uses atleast a browser\n",
    "\n",
    "# Link: https://en.wikipedia.org/wiki/Usage_share_of_operating_systems"
   ]
  },
  {
   "cell_type": "code",
   "execution_count": 9,
   "id": "2ab67e25",
   "metadata": {},
   "outputs": [
    {
     "data": {
      "text/plain": [
       "Windows    6601\n",
       "Mac OS     2585\n",
       "Linux      2555\n",
       "Ubuntu      478\n",
       "Unix         79\n",
       "others       32\n",
       "Name: operatingsystems, dtype: int64"
      ]
     },
     "execution_count": 9,
     "metadata": {},
     "output_type": "execute_result"
    }
   ],
   "source": [
    "data1['operatingsystems'] = data1['operatingsystems'].map({2:'Windows',1:'Mac OS', 3:'Linux',4:'Ubuntu', 5:'others',6:'others',7:'others',8:'Unix'})\n",
    "data1['operatingsystems'].value_counts()"
   ]
  },
  {
   "cell_type": "code",
   "execution_count": 10,
   "id": "77a55a59",
   "metadata": {},
   "outputs": [
    {
     "data": {
      "text/plain": [
       "Chrome     7961\n",
       "Safari     2462\n",
       "Mozilla     736\n",
       "Opera       467\n",
       "Edge        174\n",
       "Yandex      163\n",
       "WebView     135\n",
       "Others      127\n",
       "Samsung     105\n",
       "Name: browser, dtype: int64"
      ]
     },
     "execution_count": 10,
     "metadata": {},
     "output_type": "execute_result"
    }
   ],
   "source": [
    "# LINK TO BROWSER USAGE - Case of the European market: https://backlinko.com/browser-market-share\n",
    "def clean_browser(x):\n",
    "    if x == 2:\n",
    "        return 'Chrome'\n",
    "    elif x == 1:\n",
    "        return 'Safari'\n",
    "    elif x == 4:\n",
    "        return 'Mozilla'\n",
    "    elif x == 5:\n",
    "        return 'Opera'\n",
    "    elif x ==6:\n",
    "        return 'Edge'\n",
    "    elif x == 10:\n",
    "        return 'Yandex'\n",
    "    elif x == 8:\n",
    "        return 'WebView'\n",
    "    elif x == 3:\n",
    "        return 'Samsung'\n",
    "    else:\n",
    "        return 'Others'\n",
    "\n",
    "data1['browser'] = data1['browser'].apply(lambda x:clean_browser(x))\n",
    "data1['browser'].value_counts()"
   ]
  },
  {
   "cell_type": "code",
   "execution_count": 11,
   "id": "c1909849",
   "metadata": {},
   "outputs": [
    {
     "data": {
      "text/plain": [
       "Central       4780\n",
       "Eastern       2403\n",
       "Western       1182\n",
       "Northern      1136\n",
       "North-West     805\n",
       "Southern       761\n",
       "North-East     511\n",
       "South-West     434\n",
       "South-East     318\n",
       "Name: region, dtype: int64"
      ]
     },
     "execution_count": 11,
     "metadata": {},
     "output_type": "execute_result"
    }
   ],
   "source": [
    "# Regions are totally abitrary because i do not know where the store is located\n",
    "data1['region'] = data1['region'].map({1:'Central',2:'Northern', 3:'Eastern', 4:'Western',7:'Southern',6:'North-West',9:'North-East',\n",
    "                                      8:'South-West',5:'South-East'})\n",
    "data1['region'].value_counts()"
   ]
  },
  {
   "cell_type": "code",
   "execution_count": 12,
   "id": "8fa85b2d",
   "metadata": {},
   "outputs": [
    {
     "data": {
      "text/plain": [
       "Organic             3913\n",
       "Direct              2451\n",
       "Referral            2052\n",
       "Email marketing     1069\n",
       "Others               870\n",
       "Social networks      738\n",
       "Paid media           450\n",
       "Paid Search          444\n",
       "Offline channels     343\n",
       "Name: traffictype, dtype: int64"
      ]
     },
     "execution_count": 12,
     "metadata": {},
     "output_type": "execute_result"
    }
   ],
   "source": [
    "# LINK: https://www.cyberclick.net/numericalblogen/types-of-web-traffic-sources-and-explanations\n",
    "# Got the types of traffic from the above link. I did not consider the percentages because i do not know how our\n",
    "# store generated most of its traffic\n",
    "\n",
    "def clean_traffic(x):\n",
    "    if x == 2:\n",
    "        return 'Organic'\n",
    "    elif x == 1:\n",
    "        return 'Direct'\n",
    "    elif x == 3:\n",
    "        return 'Referral'\n",
    "    elif x == 4:\n",
    "        return 'Email marketing'\n",
    "    elif x == 13:\n",
    "        return 'Social networks'\n",
    "    elif x == 10:\n",
    "        return 'Paid media'\n",
    "    elif x == 6:\n",
    "        return 'Paid Search'\n",
    "    elif x == 8:\n",
    "        return 'Offline channels'    \n",
    "    else:\n",
    "        return 'Others'\n",
    "\n",
    "data1['traffictype'] = data1['traffictype'].apply(lambda x:clean_traffic(x))\n",
    "data1['traffictype'].value_counts()"
   ]
  },
  {
   "cell_type": "code",
   "execution_count": 13,
   "id": "2de53642",
   "metadata": {},
   "outputs": [
    {
     "data": {
      "text/plain": [
       "(10422, 18)"
      ]
     },
     "execution_count": 13,
     "metadata": {},
     "output_type": "execute_result"
    }
   ],
   "source": [
    "# People taht visited the website and did not buy anything are classified as visitors\n",
    "visitors = data1[data1['revenue'] == False]\n",
    "visitors.shape"
   ]
  },
  {
   "cell_type": "code",
   "execution_count": 14,
   "id": "aed6bf0d",
   "metadata": {},
   "outputs": [
    {
     "data": {
      "text/plain": [
       "(1908, 18)"
      ]
     },
     "execution_count": 14,
     "metadata": {},
     "output_type": "execute_result"
    }
   ],
   "source": [
    "# People taht visited the website and bought item(s) are classified as customers\n",
    "customers = data1[data1['revenue'] == True]\n",
    "customers.shape"
   ]
  },
  {
   "cell_type": "code",
   "execution_count": 15,
   "id": "1bb0cc65",
   "metadata": {},
   "outputs": [
    {
     "name": "stdout",
     "output_type": "stream",
     "text": [
      "Ratio of visitors that bought items  0.15\n"
     ]
    }
   ],
   "source": [
    "# PERCENTAGE OF RETURNING VISITORS THAT CONVERTED - SPENT MONEY\n",
    "percent_buy = len(customers)/len(data1)\n",
    "print(\"Ratio of visitors that bought items \", round(percent_buy,2))"
   ]
  },
  {
   "cell_type": "code",
   "execution_count": 16,
   "id": "9609e57e",
   "metadata": {},
   "outputs": [
    {
     "data": {
      "text/plain": [
       "Returning_Visitor    1470\n",
       "New_Visitor           422\n",
       "Other                  16\n",
       "Name: visitortype, dtype: int64"
      ]
     },
     "execution_count": 16,
     "metadata": {},
     "output_type": "execute_result"
    }
   ],
   "source": [
    "# Use data where 'Revenue' is True\n",
    "customers['visitortype'].value_counts()"
   ]
  },
  {
   "cell_type": "code",
   "execution_count": 48,
   "id": "c61bfc35",
   "metadata": {},
   "outputs": [],
   "source": [
    "data1.to_csv(\"E:\\\\SKUL\\\\PROGRAMMING_SKULS\\\\ironhack\\\\COURSE\\\\Mid-Term-Project\\\\Data\\\\Visitors.csv\", index = False)"
   ]
  },
  {
   "cell_type": "code",
   "execution_count": 17,
   "id": "9087bc8f",
   "metadata": {},
   "outputs": [],
   "source": [
    "# Export dataframe where 'revenue' is True for use in Tableau\n",
    "customers.to_excel(\"E:\\\\SKUL\\\\PROGRAMMING_SKULS\\\\ironhack\\\\COURSE\\\\Mid-Term-Project\\\\Data\\\\Customers.xlsx\")"
   ]
  },
  {
   "cell_type": "code",
   "execution_count": 18,
   "id": "9a35dc9b",
   "metadata": {},
   "outputs": [
    {
     "data": {
      "text/plain": [
       "Nov     760\n",
       "May     365\n",
       "Dec     216\n",
       "Mar     192\n",
       "Oct     115\n",
       "Sep      86\n",
       "Aug      76\n",
       "Jul      66\n",
       "June     29\n",
       "Feb       3\n",
       "Name: month, dtype: int64"
      ]
     },
     "execution_count": 18,
     "metadata": {},
     "output_type": "execute_result"
    }
   ],
   "source": [
    "# Mothly Breakdown of customers that bought items \n",
    "customers['month'].value_counts()"
   ]
  },
  {
   "cell_type": "code",
   "execution_count": 19,
   "id": "6d1cc6b5",
   "metadata": {},
   "outputs": [
    {
     "name": "stdout",
     "output_type": "stream",
     "text": [
      "Ratio of returning customers that buy items:  0.77\n"
     ]
    }
   ],
   "source": [
    "# Percentage of revenue from returning visitors\n",
    "perc_return_customer_revenue = len(customers[customers['visitortype'] == 'Returning_Visitor'])/len(customers)\n",
    "print(\"Ratio of returning customers that buy items: \", round(perc_return_customer_revenue, 2))"
   ]
  },
  {
   "cell_type": "code",
   "execution_count": 20,
   "id": "7d039f40",
   "metadata": {},
   "outputs": [
    {
     "name": "stdout",
     "output_type": "stream",
     "text": [
      "Ratio of new customers that buy items:  0.22\n"
     ]
    }
   ],
   "source": [
    "# percentage of revenue from new visitors\n",
    "perc_revenue_new_customer = len(customers[customers['visitortype'] == 'New_Visitor'])/len(customers)\n",
    "\n",
    "print(\"Ratio of new customers that buy items: \", round(perc_revenue_new_customer, 2))"
   ]
  },
  {
   "cell_type": "code",
   "execution_count": 21,
   "id": "e28bf2fe",
   "metadata": {},
   "outputs": [
    {
     "data": {
      "text/plain": [
       "0.87"
      ]
     },
     "execution_count": 21,
     "metadata": {},
     "output_type": "execute_result"
    }
   ],
   "source": [
    "# Percentage of returning visitors that didnot buy\n",
    "# We use the dataframe where 'revenue' is False\n",
    "no_revenue_return_customer = len(visitors[visitors['visitortype'] == 'Returning_Visitor'])/len(visitors)\n",
    "round(no_revenue_return_customer, 2)"
   ]
  },
  {
   "cell_type": "code",
   "execution_count": 22,
   "id": "5c0fbb4b",
   "metadata": {},
   "outputs": [
    {
     "name": "stdout",
     "output_type": "stream",
     "text": [
      "Returning Customers Percentage:  0.86\n"
     ]
    }
   ],
   "source": [
    "# This percentage could be that returning customers simply make up a huge chunk of our website visitors\n",
    "overall_return = len(data[data['visitortype'] == 'Returning_Visitor'])/len(data1)\n",
    "print(\"Returning Customers Percentage: \", round(overall_return,2))"
   ]
  },
  {
   "cell_type": "code",
   "execution_count": 23,
   "id": "1a83ff13",
   "metadata": {},
   "outputs": [],
   "source": [
    "# from the above calculation, 85.5% of visitors are returning customers"
   ]
  },
  {
   "cell_type": "code",
   "execution_count": 24,
   "id": "052105e1",
   "metadata": {},
   "outputs": [
    {
     "name": "stdout",
     "output_type": "stream",
     "text": [
      "New Customers Percentage:  0.14\n"
     ]
    }
   ],
   "source": [
    "# New customers\n",
    "overall_new = len(data1[data1['visitortype'] == 'New_Visitor'])/len(data1)\n",
    "print(\"New Customers Percentage: \", round(overall_new,2))"
   ]
  },
  {
   "cell_type": "code",
   "execution_count": 25,
   "id": "9b63e88f",
   "metadata": {},
   "outputs": [
    {
     "data": {
      "text/html": [
       "<div>\n",
       "<style scoped>\n",
       "    .dataframe tbody tr th:only-of-type {\n",
       "        vertical-align: middle;\n",
       "    }\n",
       "\n",
       "    .dataframe tbody tr th {\n",
       "        vertical-align: top;\n",
       "    }\n",
       "\n",
       "    .dataframe thead th {\n",
       "        text-align: right;\n",
       "    }\n",
       "</style>\n",
       "<table border=\"1\" class=\"dataframe\">\n",
       "  <thead>\n",
       "    <tr style=\"text-align: right;\">\n",
       "      <th></th>\n",
       "      <th>administrative</th>\n",
       "      <th>administrative_duration</th>\n",
       "      <th>informational</th>\n",
       "      <th>informational_duration</th>\n",
       "      <th>productrelated</th>\n",
       "      <th>productrelated_duration</th>\n",
       "      <th>bouncerates</th>\n",
       "      <th>exitrates</th>\n",
       "      <th>pagevalues</th>\n",
       "      <th>specialday</th>\n",
       "      <th>month</th>\n",
       "      <th>operatingsystems</th>\n",
       "      <th>browser</th>\n",
       "      <th>region</th>\n",
       "      <th>traffictype</th>\n",
       "      <th>visitortype</th>\n",
       "      <th>weekend</th>\n",
       "      <th>revenue</th>\n",
       "    </tr>\n",
       "  </thead>\n",
       "  <tbody>\n",
       "    <tr>\n",
       "      <th>20</th>\n",
       "      <td>0</td>\n",
       "      <td>0.0</td>\n",
       "      <td>0</td>\n",
       "      <td>0.0</td>\n",
       "      <td>8</td>\n",
       "      <td>136.166667</td>\n",
       "      <td>0.0</td>\n",
       "      <td>0.008333</td>\n",
       "      <td>0.000000</td>\n",
       "      <td>1.0</td>\n",
       "      <td>Feb</td>\n",
       "      <td>Windows</td>\n",
       "      <td>Chrome</td>\n",
       "      <td>South-East</td>\n",
       "      <td>Direct</td>\n",
       "      <td>Returning_Visitor</td>\n",
       "      <td>True</td>\n",
       "      <td>False</td>\n",
       "    </tr>\n",
       "    <tr>\n",
       "      <th>52</th>\n",
       "      <td>0</td>\n",
       "      <td>0.0</td>\n",
       "      <td>0</td>\n",
       "      <td>0.0</td>\n",
       "      <td>2</td>\n",
       "      <td>29.000000</td>\n",
       "      <td>0.0</td>\n",
       "      <td>0.100000</td>\n",
       "      <td>0.000000</td>\n",
       "      <td>1.0</td>\n",
       "      <td>Feb</td>\n",
       "      <td>Windows</td>\n",
       "      <td>Mozilla</td>\n",
       "      <td>Western</td>\n",
       "      <td>Organic</td>\n",
       "      <td>Returning_Visitor</td>\n",
       "      <td>True</td>\n",
       "      <td>False</td>\n",
       "    </tr>\n",
       "    <tr>\n",
       "      <th>78</th>\n",
       "      <td>0</td>\n",
       "      <td>0.0</td>\n",
       "      <td>0</td>\n",
       "      <td>0.0</td>\n",
       "      <td>1</td>\n",
       "      <td>0.000000</td>\n",
       "      <td>0.2</td>\n",
       "      <td>0.200000</td>\n",
       "      <td>0.000000</td>\n",
       "      <td>1.0</td>\n",
       "      <td>Feb</td>\n",
       "      <td>Mac OS</td>\n",
       "      <td>Safari</td>\n",
       "      <td>Central</td>\n",
       "      <td>Referral</td>\n",
       "      <td>Returning_Visitor</td>\n",
       "      <td>True</td>\n",
       "      <td>False</td>\n",
       "    </tr>\n",
       "    <tr>\n",
       "      <th>101</th>\n",
       "      <td>4</td>\n",
       "      <td>61.0</td>\n",
       "      <td>0</td>\n",
       "      <td>0.0</td>\n",
       "      <td>19</td>\n",
       "      <td>607.000000</td>\n",
       "      <td>0.0</td>\n",
       "      <td>0.026984</td>\n",
       "      <td>17.535959</td>\n",
       "      <td>1.0</td>\n",
       "      <td>Feb</td>\n",
       "      <td>Mac OS</td>\n",
       "      <td>Safari</td>\n",
       "      <td>Southern</td>\n",
       "      <td>Email marketing</td>\n",
       "      <td>Returning_Visitor</td>\n",
       "      <td>True</td>\n",
       "      <td>True</td>\n",
       "    </tr>\n",
       "    <tr>\n",
       "      <th>174</th>\n",
       "      <td>5</td>\n",
       "      <td>41.3</td>\n",
       "      <td>0</td>\n",
       "      <td>0.0</td>\n",
       "      <td>24</td>\n",
       "      <td>446.927778</td>\n",
       "      <td>0.0</td>\n",
       "      <td>0.008602</td>\n",
       "      <td>0.000000</td>\n",
       "      <td>1.0</td>\n",
       "      <td>Feb</td>\n",
       "      <td>Windows</td>\n",
       "      <td>Chrome</td>\n",
       "      <td>South-West</td>\n",
       "      <td>Direct</td>\n",
       "      <td>Returning_Visitor</td>\n",
       "      <td>True</td>\n",
       "      <td>False</td>\n",
       "    </tr>\n",
       "  </tbody>\n",
       "</table>\n",
       "</div>"
      ],
      "text/plain": [
       "     administrative  administrative_duration  informational  \\\n",
       "20                0                      0.0              0   \n",
       "52                0                      0.0              0   \n",
       "78                0                      0.0              0   \n",
       "101               4                     61.0              0   \n",
       "174               5                     41.3              0   \n",
       "\n",
       "     informational_duration  productrelated  productrelated_duration  \\\n",
       "20                      0.0               8               136.166667   \n",
       "52                      0.0               2                29.000000   \n",
       "78                      0.0               1                 0.000000   \n",
       "101                     0.0              19               607.000000   \n",
       "174                     0.0              24               446.927778   \n",
       "\n",
       "     bouncerates  exitrates  pagevalues  specialday month operatingsystems  \\\n",
       "20           0.0   0.008333    0.000000         1.0   Feb          Windows   \n",
       "52           0.0   0.100000    0.000000         1.0   Feb          Windows   \n",
       "78           0.2   0.200000    0.000000         1.0   Feb           Mac OS   \n",
       "101          0.0   0.026984   17.535959         1.0   Feb           Mac OS   \n",
       "174          0.0   0.008602    0.000000         1.0   Feb          Windows   \n",
       "\n",
       "     browser      region      traffictype        visitortype  weekend  revenue  \n",
       "20    Chrome  South-East           Direct  Returning_Visitor     True    False  \n",
       "52   Mozilla     Western          Organic  Returning_Visitor     True    False  \n",
       "78    Safari     Central         Referral  Returning_Visitor     True    False  \n",
       "101   Safari    Southern  Email marketing  Returning_Visitor     True     True  \n",
       "174   Chrome  South-West           Direct  Returning_Visitor     True    False  "
      ]
     },
     "execution_count": 25,
     "metadata": {},
     "output_type": "execute_result"
    }
   ],
   "source": [
    "# Revenue on special days\n",
    "special_days = data1[data1['specialday'] == 1]\n",
    "special_days.head()"
   ]
  },
  {
   "cell_type": "code",
   "execution_count": 26,
   "id": "d349e192",
   "metadata": {},
   "outputs": [
    {
     "name": "stdout",
     "output_type": "stream",
     "text": [
      "Ratio of visitors on special days:  0.01\n"
     ]
    }
   ],
   "source": [
    "percentage_of_special_day = len(special_days)/len(data1)\n",
    "print(\"Ratio of visitors on special days: \",round(percentage_of_special_day,2) )"
   ]
  },
  {
   "cell_type": "code",
   "execution_count": 27,
   "id": "d824abd7",
   "metadata": {},
   "outputs": [
    {
     "name": "stdout",
     "output_type": "stream",
     "text": [
      "Ratio of revenue customers on special days:  0.06\n"
     ]
    }
   ],
   "source": [
    "special_revenue_perc = len(special_days[special_days['revenue'] == True])/len(special_days)\n",
    "print(\"Ratio of revenue customers on special days: \",round(special_revenue_perc,2))"
   ]
  },
  {
   "cell_type": "code",
   "execution_count": 28,
   "id": "dc8cadf0",
   "metadata": {},
   "outputs": [],
   "source": [
    "# Only 6% of visitors on special day converted"
   ]
  },
  {
   "cell_type": "code",
   "execution_count": 29,
   "id": "8a73f76a",
   "metadata": {},
   "outputs": [
    {
     "data": {
      "text/plain": [
       "False    9462\n",
       "True     2868\n",
       "Name: weekend, dtype: int64"
      ]
     },
     "execution_count": 29,
     "metadata": {},
     "output_type": "execute_result"
    }
   ],
   "source": [
    "data1['weekend'].value_counts()"
   ]
  },
  {
   "cell_type": "code",
   "execution_count": 30,
   "id": "7b7b27f5",
   "metadata": {},
   "outputs": [
    {
     "data": {
      "text/plain": [
       "(2868, 18)"
      ]
     },
     "execution_count": 30,
     "metadata": {},
     "output_type": "execute_result"
    }
   ],
   "source": [
    "# Visitors over the weekend\n",
    "weekend_visitors = data1[data1['weekend'] == True]\n",
    "weekend_visitors.shape"
   ]
  },
  {
   "cell_type": "code",
   "execution_count": 31,
   "id": "b9bba39b",
   "metadata": {},
   "outputs": [
    {
     "name": "stdout",
     "output_type": "stream",
     "text": [
      "Ratio of weekend visitors:  0.23\n"
     ]
    }
   ],
   "source": [
    "percentage_of_weekend_visitors = len(weekend_visitors)/len(data1)\n",
    "print(\"Ratio of weekend visitors: \", round(percentage_of_weekend_visitors,2))"
   ]
  },
  {
   "cell_type": "code",
   "execution_count": 32,
   "id": "a277647b",
   "metadata": {},
   "outputs": [
    {
     "name": "stdout",
     "output_type": "stream",
     "text": [
      "Ratio of weekend customers:  0.17\n"
     ]
    }
   ],
   "source": [
    "# Checking conversion ratios for both weekend and weekdays\n",
    "# Getting weekend visitors that bought items\n",
    "weekend_customers = weekend_visitors[weekend_visitors['revenue'] == True]\n",
    "ratio_of_weekend_customers = len(weekend_customers)/len(weekend_visitors)\n",
    "print(\"Ratio of weekend customers: \", round(ratio_of_weekend_customers,2))"
   ]
  },
  {
   "cell_type": "code",
   "execution_count": 33,
   "id": "96dfdc23",
   "metadata": {},
   "outputs": [],
   "source": [
    "# Ratios are similar between overall customer conversion rates and weekend customer conversion rates"
   ]
  },
  {
   "cell_type": "code",
   "execution_count": 34,
   "id": "a45d816d",
   "metadata": {},
   "outputs": [
    {
     "data": {
      "text/plain": [
       "(9462, 18)"
      ]
     },
     "execution_count": 34,
     "metadata": {},
     "output_type": "execute_result"
    }
   ],
   "source": [
    "# Visitors in weekdays\n",
    "weekdays_visitors = data1[data1['weekend'] == False]\n",
    "weekdays_visitors.shape"
   ]
  },
  {
   "cell_type": "code",
   "execution_count": 35,
   "id": "e07fff31",
   "metadata": {},
   "outputs": [
    {
     "data": {
      "text/plain": [
       "(1409, 18)"
      ]
     },
     "execution_count": 35,
     "metadata": {},
     "output_type": "execute_result"
    }
   ],
   "source": [
    "weekdays_customers = weekdays_visitors[weekdays_visitors['revenue'] == True]\n",
    "weekdays_customers.shape"
   ]
  },
  {
   "cell_type": "code",
   "execution_count": 36,
   "id": "d88a2f14",
   "metadata": {},
   "outputs": [
    {
     "name": "stdout",
     "output_type": "stream",
     "text": [
      "Ratio of weekdays customers:  0.149\n"
     ]
    }
   ],
   "source": [
    "ratio_of_weekdays_customers = len(weekdays_customers)/len(weekdays_visitors)\n",
    "print(\"Ratio of weekdays customers: \", round(ratio_of_weekdays_customers,3))"
   ]
  },
  {
   "cell_type": "code",
   "execution_count": 37,
   "id": "0410a8bb",
   "metadata": {},
   "outputs": [
    {
     "name": "stdout",
     "output_type": "stream",
     "text": [
      "Extra customers from a 1% increase in traffic:  18\n"
     ]
    }
   ],
   "source": [
    "# How many customers do we get by a 1% increase in visitors\n",
    "extra_customers = 0.01 * 12330 * 0.15\n",
    "print(\"Extra customers from a 1% increase in traffic: \", int(extra_customers))"
   ]
  },
  {
   "cell_type": "code",
   "execution_count": 38,
   "id": "5f4adf1c",
   "metadata": {},
   "outputs": [],
   "source": [
    "# Because of data limitations, i can not tell whether the increase in customers is significant\n",
    "# Since this is e-commerce, i will assume it is not so significant"
   ]
  },
  {
   "cell_type": "code",
   "execution_count": 39,
   "id": "b21470a7",
   "metadata": {},
   "outputs": [
    {
     "data": {
      "text/plain": [
       "Central       771\n",
       "Eastern       349\n",
       "Northern      188\n",
       "Western       175\n",
       "Southern      119\n",
       "North-West    112\n",
       "North-East     86\n",
       "South-West     56\n",
       "South-East     52\n",
       "Name: region, dtype: int64"
      ]
     },
     "execution_count": 39,
     "metadata": {},
     "output_type": "execute_result"
    }
   ],
   "source": [
    "# Check regions with highest customers\n",
    "customers['region'].value_counts()"
   ]
  },
  {
   "cell_type": "code",
   "execution_count": 70,
   "id": "f29e4b2a",
   "metadata": {},
   "outputs": [
    {
     "data": {
      "text/plain": [
       "2    6601\n",
       "1    2585\n",
       "3    2555\n",
       "4     478\n",
       "8      79\n",
       "6      19\n",
       "7       7\n",
       "5       6\n",
       "Name: operatingsystems, dtype: int64"
      ]
     },
     "execution_count": 70,
     "metadata": {},
     "output_type": "execute_result"
    }
   ],
   "source": [
    "data['operatingsystems'].value_counts()"
   ]
  },
  {
   "cell_type": "code",
   "execution_count": null,
   "id": "66d238f9",
   "metadata": {},
   "outputs": [],
   "source": []
  },
  {
   "cell_type": "code",
   "execution_count": 69,
   "id": "f51f0039",
   "metadata": {},
   "outputs": [
    {
     "data": {
      "text/plain": [
       "Windows    6601\n",
       "Mac OS     2585\n",
       "Linux      2555\n",
       "Ubuntu      478\n",
       "Unix         79\n",
       "others       32\n",
       "Name: operatingsystems, dtype: int64"
      ]
     },
     "execution_count": 69,
     "metadata": {},
     "output_type": "execute_result"
    }
   ],
   "source": [
    "data1['operatingsystems'].value_counts()"
   ]
  },
  {
   "cell_type": "code",
   "execution_count": 68,
   "id": "8cc0c09f",
   "metadata": {},
   "outputs": [
    {
     "data": {
      "text/plain": [
       "operatingsystems  browser\n",
       "Linux             Chrome     2416\n",
       "                  Edge         11\n",
       "                  Opera         6\n",
       "                  Others       17\n",
       "                  Safari        1\n",
       "                  Samsung     104\n",
       "Mac OS            Chrome      280\n",
       "                  Edge          4\n",
       "                  Mozilla       3\n",
       "                  Opera         5\n",
       "                  Others        2\n",
       "                  Safari     2153\n",
       "                  WebView     135\n",
       "                  Yandex        3\n",
       "Ubuntu            Chrome      174\n",
       "                  Edge          3\n",
       "                  Mozilla       1\n",
       "                  Opera        21\n",
       "                  Safari      279\n",
       "Unix              Chrome       17\n",
       "                  Edge          1\n",
       "                  Opera         2\n",
       "                  Others       53\n",
       "                  Safari        6\n",
       "Windows           Chrome     5059\n",
       "                  Edge        155\n",
       "                  Mozilla     732\n",
       "                  Opera       430\n",
       "                  Others       48\n",
       "                  Safari       16\n",
       "                  Samsung       1\n",
       "                  Yandex      160\n",
       "others            Chrome       15\n",
       "                  Opera         3\n",
       "                  Others        7\n",
       "                  Safari        7\n",
       "dtype: int64"
      ]
     },
     "execution_count": 68,
     "metadata": {},
     "output_type": "execute_result"
    }
   ],
   "source": [
    "my_data.groupby(['operatingsystems','browser']).size()"
   ]
  },
  {
   "cell_type": "code",
   "execution_count": null,
   "id": "eb4ef8fc",
   "metadata": {},
   "outputs": [],
   "source": []
  }
 ],
 "metadata": {
  "kernelspec": {
   "display_name": "Python 3 (ipykernel)",
   "language": "python",
   "name": "python3"
  },
  "language_info": {
   "codemirror_mode": {
    "name": "ipython",
    "version": 3
   },
   "file_extension": ".py",
   "mimetype": "text/x-python",
   "name": "python",
   "nbconvert_exporter": "python",
   "pygments_lexer": "ipython3",
   "version": "3.8.11"
  }
 },
 "nbformat": 4,
 "nbformat_minor": 5
}
